{
 "cells": [
  {
   "cell_type": "code",
   "execution_count": 1,
   "id": "e6bc085a",
   "metadata": {},
   "outputs": [
    {
     "name": "stdout",
     "output_type": "stream",
     "text": [
      "To run a demo, execute\n",
      "\n",
      "\t>>> mavenn.run_demo(name)\n",
      "\n",
      "where 'name' is one of the following strings:\n",
      "\n",
      "\t1. \"gb1_ge_evaluation\"\n",
      "\t2. \"mpsa_ge_training\"\n",
      "\t3. \"sortseq_mpa_visualization\"\n",
      "\n",
      "Python code for each demo is located in\n",
      "\n",
      "\t/opt/homebrew/Caskroom/miniforge/base/envs/mavenn/lib/python3.8/site-packages/mavenn/examples/demos/\n",
      "\n"
     ]
    },
    {
     "data": {
      "text/plain": [
       "['gb1_ge_evaluation', 'mpsa_ge_training', 'sortseq_mpa_visualization']"
      ]
     },
     "execution_count": 1,
     "metadata": {},
     "output_type": "execute_result"
    }
   ],
   "source": [
    "# Standard imports\n",
    "import numpy as np\n",
    "import pandas as pd\n",
    "import seaborn as sns\n",
    "import matplotlib.pyplot as plt\n",
    "import random\n",
    "import pickle\n",
    "import scipy.stats\n",
    "import sys\n",
    "import tensorflow as tf\n",
    "\n",
    "# Import MAVE-NN\n",
    "import mavenn\n",
    "\n",
    "# Import Logomaker for visualization\n",
    "import logomaker\n",
    "\n",
    "# Get list of demos\n",
    "mavenn.run_demo()"
   ]
  },
  {
   "cell_type": "code",
   "execution_count": 2,
   "id": "a2382f87",
   "metadata": {},
   "outputs": [
    {
     "data": {
      "text/html": [
       "<div>\n",
       "<style scoped>\n",
       "    .dataframe tbody tr th:only-of-type {\n",
       "        vertical-align: middle;\n",
       "    }\n",
       "\n",
       "    .dataframe tbody tr th {\n",
       "        vertical-align: top;\n",
       "    }\n",
       "\n",
       "    .dataframe thead th {\n",
       "        text-align: right;\n",
       "    }\n",
       "</style>\n",
       "<table border=\"1\" class=\"dataframe\">\n",
       "  <thead>\n",
       "    <tr style=\"text-align: right;\">\n",
       "      <th></th>\n",
       "      <th>Sequence</th>\n",
       "      <th>Expression</th>\n",
       "    </tr>\n",
       "  </thead>\n",
       "  <tbody>\n",
       "    <tr>\n",
       "      <th>0</th>\n",
       "      <td>OOOOP</td>\n",
       "      <td>-2.216311</td>\n",
       "    </tr>\n",
       "    <tr>\n",
       "      <th>1</th>\n",
       "      <td>OOOcP</td>\n",
       "      <td>-0.581550</td>\n",
       "    </tr>\n",
       "    <tr>\n",
       "      <th>2</th>\n",
       "      <td>OOOCP</td>\n",
       "      <td>-0.560967</td>\n",
       "    </tr>\n",
       "    <tr>\n",
       "      <th>3</th>\n",
       "      <td>OOOnP</td>\n",
       "      <td>-0.586571</td>\n",
       "    </tr>\n",
       "    <tr>\n",
       "      <th>4</th>\n",
       "      <td>OOONP</td>\n",
       "      <td>-0.568978</td>\n",
       "    </tr>\n",
       "    <tr>\n",
       "      <th>...</th>\n",
       "      <td>...</td>\n",
       "      <td>...</td>\n",
       "    </tr>\n",
       "    <tr>\n",
       "      <th>2577</th>\n",
       "      <td>xxXxH</td>\n",
       "      <td>-2.797773</td>\n",
       "    </tr>\n",
       "    <tr>\n",
       "      <th>2578</th>\n",
       "      <td>XXxxH</td>\n",
       "      <td>-2.415393</td>\n",
       "    </tr>\n",
       "    <tr>\n",
       "      <th>2579</th>\n",
       "      <td>XXxXH</td>\n",
       "      <td>-3.980350</td>\n",
       "    </tr>\n",
       "    <tr>\n",
       "      <th>2580</th>\n",
       "      <td>XXXxH</td>\n",
       "      <td>-3.668690</td>\n",
       "    </tr>\n",
       "    <tr>\n",
       "      <th>2581</th>\n",
       "      <td>XXXXH</td>\n",
       "      <td>-4.435504</td>\n",
       "    </tr>\n",
       "  </tbody>\n",
       "</table>\n",
       "<p>2582 rows × 2 columns</p>\n",
       "</div>"
      ],
      "text/plain": [
       "     Sequence  Expression\n",
       "0       OOOOP   -2.216311\n",
       "1       OOOcP   -0.581550\n",
       "2       OOOCP   -0.560967\n",
       "3       OOOnP   -0.586571\n",
       "4       OOONP   -0.568978\n",
       "...       ...         ...\n",
       "2577    xxXxH   -2.797773\n",
       "2578    XXxxH   -2.415393\n",
       "2579    XXxXH   -3.980350\n",
       "2580    XXXxH   -3.668690\n",
       "2581    XXXXH   -4.435504\n",
       "\n",
       "[2582 rows x 2 columns]"
      ]
     },
     "execution_count": 2,
     "metadata": {},
     "output_type": "execute_result"
    }
   ],
   "source": [
    "# Synthetic CRX reporters, incorporating promoter (wild type only)\n",
    "\n",
    "# Load data\n",
    "Data = pd.read_csv(\"data_files/celrep_3189_mmc4.txt\", sep = '\\t')\n",
    "\n",
    "# Reencode binding site arrangements so that all sequences are the same length (use O to pad)\n",
    "# and each binding site is one character\n",
    "max_length = 4\n",
    "Padded_sequences = []\n",
    "for sequence in Data['synthetic_promoter']:\n",
    "    if sequence == \"basal_only\":\n",
    "        Padded_sequence = \"OOOO\"\n",
    "    else:\n",
    "        Padded_sequence = \"\".join(['O']*(max_length - len(sequence)))\n",
    "        for site in sequence:\n",
    "            Padded_sequence = Padded_sequence + site\n",
    "    Padded_sequences.append(Padded_sequence)\n",
    "Data['synthetic_promoter'] = Padded_sequences\n",
    "Sequence = np.concatenate([Data['synthetic_promoter'] + \"P\",  \n",
    "                     Data['synthetic_promoter'] + \"H\"])\n",
    "Expression = np.concatenate([np.log(Data[\"Rho_basal_wt\"]),   \n",
    "          np.log(Data[\"hsp68_basal_wt\"])])\n",
    "Data_bypromoter = pd.DataFrame({'Sequence': Sequence, 'Expression': Expression})\n",
    "Data_bypromoter"
   ]
  },
  {
   "cell_type": "code",
   "execution_count": 3,
   "id": "c059f983",
   "metadata": {},
   "outputs": [
    {
     "name": "stdout",
     "output_type": "stream",
     "text": [
      "Sequence length: 5 binding sites\n",
      "Training set   :    2,052 observations (  79.47%)\n",
      "Validation set :      253 observations (   9.80%)\n",
      "Test set       :      277 observations (  10.73%)\n",
      "-------------------------------------------------\n",
      "Total dataset  :    2,582 observations ( 100.00%)\n",
      "\n",
      "\n",
      "trainval_df:\n"
     ]
    },
    {
     "data": {
      "text/html": [
       "<div>\n",
       "<style scoped>\n",
       "    .dataframe tbody tr th:only-of-type {\n",
       "        vertical-align: middle;\n",
       "    }\n",
       "\n",
       "    .dataframe tbody tr th {\n",
       "        vertical-align: top;\n",
       "    }\n",
       "\n",
       "    .dataframe thead th {\n",
       "        text-align: right;\n",
       "    }\n",
       "</style>\n",
       "<table border=\"1\" class=\"dataframe\">\n",
       "  <thead>\n",
       "    <tr style=\"text-align: right;\">\n",
       "      <th></th>\n",
       "      <th>validation</th>\n",
       "      <th>Sequence</th>\n",
       "      <th>Expression</th>\n",
       "    </tr>\n",
       "  </thead>\n",
       "  <tbody>\n",
       "    <tr>\n",
       "      <th>0</th>\n",
       "      <td>False</td>\n",
       "      <td>OOOOP</td>\n",
       "      <td>-2.216311</td>\n",
       "    </tr>\n",
       "    <tr>\n",
       "      <th>1</th>\n",
       "      <td>False</td>\n",
       "      <td>OOOcP</td>\n",
       "      <td>-0.581550</td>\n",
       "    </tr>\n",
       "    <tr>\n",
       "      <th>2</th>\n",
       "      <td>True</td>\n",
       "      <td>OOOCP</td>\n",
       "      <td>-0.560967</td>\n",
       "    </tr>\n",
       "    <tr>\n",
       "      <th>3</th>\n",
       "      <td>False</td>\n",
       "      <td>OOOnP</td>\n",
       "      <td>-0.586571</td>\n",
       "    </tr>\n",
       "    <tr>\n",
       "      <th>4</th>\n",
       "      <td>False</td>\n",
       "      <td>OOONP</td>\n",
       "      <td>-0.568978</td>\n",
       "    </tr>\n",
       "    <tr>\n",
       "      <th>...</th>\n",
       "      <td>...</td>\n",
       "      <td>...</td>\n",
       "      <td>...</td>\n",
       "    </tr>\n",
       "    <tr>\n",
       "      <th>2300</th>\n",
       "      <td>False</td>\n",
       "      <td>xxXxH</td>\n",
       "      <td>-2.797773</td>\n",
       "    </tr>\n",
       "    <tr>\n",
       "      <th>2301</th>\n",
       "      <td>False</td>\n",
       "      <td>XXxxH</td>\n",
       "      <td>-2.415393</td>\n",
       "    </tr>\n",
       "    <tr>\n",
       "      <th>2302</th>\n",
       "      <td>False</td>\n",
       "      <td>XXxXH</td>\n",
       "      <td>-3.980350</td>\n",
       "    </tr>\n",
       "    <tr>\n",
       "      <th>2303</th>\n",
       "      <td>False</td>\n",
       "      <td>XXXxH</td>\n",
       "      <td>-3.668690</td>\n",
       "    </tr>\n",
       "    <tr>\n",
       "      <th>2304</th>\n",
       "      <td>False</td>\n",
       "      <td>XXXXH</td>\n",
       "      <td>-4.435504</td>\n",
       "    </tr>\n",
       "  </tbody>\n",
       "</table>\n",
       "<p>2305 rows × 3 columns</p>\n",
       "</div>"
      ],
      "text/plain": [
       "      validation Sequence  Expression\n",
       "0          False    OOOOP   -2.216311\n",
       "1          False    OOOcP   -0.581550\n",
       "2           True    OOOCP   -0.560967\n",
       "3          False    OOOnP   -0.586571\n",
       "4          False    OOONP   -0.568978\n",
       "...          ...      ...         ...\n",
       "2300       False    xxXxH   -2.797773\n",
       "2301       False    XXxxH   -2.415393\n",
       "2302       False    XXxXH   -3.980350\n",
       "2303       False    XXXxH   -3.668690\n",
       "2304       False    XXXXH   -4.435504\n",
       "\n",
       "[2305 rows x 3 columns]"
      ]
     },
     "execution_count": 3,
     "metadata": {},
     "output_type": "execute_result"
    }
   ],
   "source": [
    "# Assign data to training, validation, and test sets\n",
    "group = []\n",
    "for i in range(len(Data_bypromoter)):\n",
    "    group_num = random.random()\n",
    "    if group_num < 0.1:\n",
    "        group.append(\"test\")\n",
    "    elif group_num < 0.2:\n",
    "        group.append(\"validation\")\n",
    "    else:\n",
    "        group.append(\"training\")\n",
    "Data_bypromoter['set'] = group\n",
    "\n",
    "# Get and report sequence length\n",
    "L = len(Data_bypromoter.loc[0,'Sequence'])\n",
    "print(f'Sequence length: {L:d} binding sites')\n",
    "\n",
    "# Split dataset\n",
    "trainval_df, test_df = mavenn.split_dataset(Data_bypromoter)\n",
    "\n",
    "Data_file = open(\"CRX_NRL_trainval.pkl\", \"wb\")\n",
    "pickle.dump(trainval_df, Data_file)\n",
    "Data_file.close()\n",
    "\n",
    "Data_file = open(\"CRX_NRL_test.pkl\", \"wb\")\n",
    "pickle.dump(trainval_df, Data_file)\n",
    "Data_file.close()\n",
    "\n",
    "# Preview trainval_df\n",
    "print('\\ntrainval_df:')\n",
    "trainval_df"
   ]
  },
  {
   "cell_type": "code",
   "execution_count": 4,
   "id": "dca358f6",
   "metadata": {},
   "outputs": [],
   "source": [
    "# Specify alphabet\n",
    "site_letters = ['N', 'n', 'C', 'c', 'R', 'r', 'X', 'x', 'P', 'H', 'O']\n",
    "# Set default keyword arguments for model.Model()\n",
    "default_model_kwargs = {\n",
    "    'L':5,\n",
    "    'alphabet':site_letters,\n",
    "    'regression_type':'GE',\n",
    "    'ge_noise_model_type':'SkewedT',\n",
    "    'ge_heteroskedasticity_order':2\n",
    "}\n",
    "\n",
    "# Set default keyword arguments for model.fit()\n",
    "default_fit_kwargs = {\n",
    "    'learning_rate':.001,\n",
    "    'epochs':1000,\n",
    "    'batch_size':200,\n",
    "    'early_stopping':True,\n",
    "    'early_stopping_patience':30,\n",
    "    'linear_initialization':False,\n",
    "    'verbose':False\n",
    "}"
   ]
  },
  {
   "cell_type": "code",
   "execution_count": 5,
   "id": "fe1b9f59",
   "metadata": {},
   "outputs": [
    {
     "name": "stdout",
     "output_type": "stream",
     "text": [
      "Training 4 models: ['additive', 'neighbor', 'pairwise', 'blackbox']\n",
      "-----------------------------\n",
      "Training 'all_promoters_additive_ge_0' model...\n",
      "\n"
     ]
    },
    {
     "name": "stderr",
     "output_type": "stream",
     "text": [
      "2023-02-17 12:25:29.617183: I tensorflow/core/platform/cpu_feature_guard.cc:193] This TensorFlow binary is optimized with oneAPI Deep Neural Network Library (oneDNN) to use the following CPU instructions in performance-critical operations:  AVX2 FMA\n",
      "To enable them in other operations, rebuild TensorFlow with the appropriate compiler flags.\n"
     ]
    },
    {
     "name": "stdout",
     "output_type": "stream",
     "text": [
      "N = 2,305 observations set as training data.\n",
      "Using 11.0% for validation.\n",
      "Data shuffled.\n",
      "Time to set data: 0.2 sec.\n"
     ]
    },
    {
     "data": {
      "application/vnd.jupyter.widget-view+json": {
       "model_id": "45941a6ce06b4b9e8c2e5e2382d05ea7",
       "version_major": 2,
       "version_minor": 0
      },
      "text/plain": [
       "0epoch [00:00, ?epoch/s]"
      ]
     },
     "metadata": {},
     "output_type": "display_data"
    },
    {
     "name": "stdout",
     "output_type": "stream",
     "text": [
      "Training time: 43.6 seconds\n",
      "test_I_var: 0.588 +- 0.033 bits\n",
      "test_I_pred: 0.790 +- 0.025 bits\n",
      "Model saved to these files:\n",
      "\tall_promoters_additive_ge_0.pickle\n",
      "\tall_promoters_additive_ge_0.h5\n",
      "-----------------------------\n",
      "Training 'all_promoters_neighbor_ge_0' model...\n",
      "\n",
      "N = 2,305 observations set as training data.\n",
      "Using 11.0% for validation.\n",
      "Data shuffled.\n",
      "Time to set data: 0.175 sec.\n"
     ]
    },
    {
     "data": {
      "application/vnd.jupyter.widget-view+json": {
       "model_id": "ba216543b5e8490a8ce807bdae039ea5",
       "version_major": 2,
       "version_minor": 0
      },
      "text/plain": [
       "0epoch [00:00, ?epoch/s]"
      ]
     },
     "metadata": {},
     "output_type": "display_data"
    },
    {
     "name": "stdout",
     "output_type": "stream",
     "text": [
      "Training time: 24.4 seconds\n",
      "test_I_var: 0.933 +- 0.038 bits\n",
      "test_I_pred: 1.096 +- 0.027 bits\n",
      "Model saved to these files:\n",
      "\tall_promoters_neighbor_ge_0.pickle\n",
      "\tall_promoters_neighbor_ge_0.h5\n",
      "-----------------------------\n",
      "Training 'all_promoters_pairwise_ge_0' model...\n",
      "\n",
      "N = 2,305 observations set as training data.\n",
      "Using 11.0% for validation.\n",
      "Data shuffled.\n",
      "Time to set data: 0.149 sec.\n"
     ]
    },
    {
     "data": {
      "application/vnd.jupyter.widget-view+json": {
       "model_id": "621bdd5aa33744b4947626a6d24d5219",
       "version_major": 2,
       "version_minor": 0
      },
      "text/plain": [
       "0epoch [00:00, ?epoch/s]"
      ]
     },
     "metadata": {},
     "output_type": "display_data"
    },
    {
     "name": "stdout",
     "output_type": "stream",
     "text": [
      "Training time: 28.0 seconds\n",
      "test_I_var: 1.680 +- 0.038 bits\n",
      "test_I_pred: 1.832 +- 0.024 bits\n",
      "Model saved to these files:\n",
      "\tall_promoters_pairwise_ge_0.pickle\n",
      "\tall_promoters_pairwise_ge_0.h5\n",
      "-----------------------------\n",
      "Training 'all_promoters_blackbox_ge_0' model...\n",
      "\n",
      "N = 2,305 observations set as training data.\n",
      "Using 11.0% for validation.\n",
      "Data shuffled.\n",
      "Time to set data: 0.113 sec.\n"
     ]
    },
    {
     "data": {
      "application/vnd.jupyter.widget-view+json": {
       "model_id": "5baf785dba4f41f4aa7cf86b631c6044",
       "version_major": 2,
       "version_minor": 0
      },
      "text/plain": [
       "0epoch [00:00, ?epoch/s]"
      ]
     },
     "metadata": {},
     "output_type": "display_data"
    },
    {
     "name": "stdout",
     "output_type": "stream",
     "text": [
      "Training time: 16.1 seconds\n",
      "test_I_var: 2.019 +- 0.033 bits\n",
      "test_I_pred: 2.762 +- 0.028 bits\n",
      "Model saved to these files:\n",
      "\tall_promoters_blackbox_ge_0.pickle\n",
      "\tall_promoters_blackbox_ge_0.h5\n",
      "Training 4 models: ['additive', 'neighbor', 'pairwise', 'blackbox']\n",
      "-----------------------------\n",
      "Training 'all_promoters_additive_ge_1' model...\n",
      "\n",
      "N = 2,305 observations set as training data.\n",
      "Using 11.0% for validation.\n",
      "Data shuffled.\n",
      "Time to set data: 0.199 sec.\n"
     ]
    },
    {
     "data": {
      "application/vnd.jupyter.widget-view+json": {
       "model_id": "4e7748521e3948e394327008c0b75292",
       "version_major": 2,
       "version_minor": 0
      },
      "text/plain": [
       "0epoch [00:00, ?epoch/s]"
      ]
     },
     "metadata": {},
     "output_type": "display_data"
    },
    {
     "name": "stdout",
     "output_type": "stream",
     "text": [
      "Training time: 47.4 seconds\n",
      "test_I_var: -0.136 +- 0.025 bits\n",
      "test_I_pred: -0.012 +- 0.014 bits\n",
      "Model saved to these files:\n",
      "\tall_promoters_additive_ge_1.pickle\n",
      "\tall_promoters_additive_ge_1.h5\n",
      "-----------------------------\n",
      "Training 'all_promoters_neighbor_ge_1' model...\n",
      "\n",
      "N = 2,305 observations set as training data.\n",
      "Using 11.0% for validation.\n",
      "Data shuffled.\n",
      "Time to set data: 0.115 sec.\n"
     ]
    },
    {
     "data": {
      "application/vnd.jupyter.widget-view+json": {
       "model_id": "531ae46937b84c0d91ddc45279d2551f",
       "version_major": 2,
       "version_minor": 0
      },
      "text/plain": [
       "0epoch [00:00, ?epoch/s]"
      ]
     },
     "metadata": {},
     "output_type": "display_data"
    },
    {
     "name": "stdout",
     "output_type": "stream",
     "text": [
      "Training time: 26.9 seconds\n",
      "test_I_var: 0.914 +- 0.035 bits\n",
      "test_I_pred: 1.090 +- 0.024 bits\n",
      "Model saved to these files:\n",
      "\tall_promoters_neighbor_ge_1.pickle\n",
      "\tall_promoters_neighbor_ge_1.h5\n",
      "-----------------------------\n",
      "Training 'all_promoters_pairwise_ge_1' model...\n",
      "\n",
      "N = 2,305 observations set as training data.\n",
      "Using 11.0% for validation.\n",
      "Data shuffled.\n",
      "Time to set data: 0.14 sec.\n"
     ]
    },
    {
     "data": {
      "application/vnd.jupyter.widget-view+json": {
       "model_id": "6e94914445564df59bfd48e3985cfdbf",
       "version_major": 2,
       "version_minor": 0
      },
      "text/plain": [
       "0epoch [00:00, ?epoch/s]"
      ]
     },
     "metadata": {},
     "output_type": "display_data"
    },
    {
     "name": "stdout",
     "output_type": "stream",
     "text": [
      "Training time: 19.1 seconds\n",
      "test_I_var: 1.649 +- 0.039 bits\n",
      "test_I_pred: 1.798 +- 0.028 bits\n",
      "Model saved to these files:\n",
      "\tall_promoters_pairwise_ge_1.pickle\n",
      "\tall_promoters_pairwise_ge_1.h5\n",
      "-----------------------------\n",
      "Training 'all_promoters_blackbox_ge_1' model...\n",
      "\n",
      "N = 2,305 observations set as training data.\n",
      "Using 11.0% for validation.\n",
      "Data shuffled.\n",
      "Time to set data: 0.139 sec.\n"
     ]
    },
    {
     "data": {
      "application/vnd.jupyter.widget-view+json": {
       "model_id": "c0db895546524c44aff5535dff4118ef",
       "version_major": 2,
       "version_minor": 0
      },
      "text/plain": [
       "0epoch [00:00, ?epoch/s]"
      ]
     },
     "metadata": {},
     "output_type": "display_data"
    },
    {
     "name": "stdout",
     "output_type": "stream",
     "text": [
      "Training time: 12.9 seconds\n",
      "test_I_var: 1.825 +- 0.038 bits\n",
      "test_I_pred: 2.651 +- 0.028 bits\n",
      "Model saved to these files:\n",
      "\tall_promoters_blackbox_ge_1.pickle\n",
      "\tall_promoters_blackbox_ge_1.h5\n",
      "Training 4 models: ['additive', 'neighbor', 'pairwise', 'blackbox']\n",
      "-----------------------------\n",
      "Training 'all_promoters_additive_ge_2' model...\n",
      "\n",
      "N = 2,305 observations set as training data.\n",
      "Using 11.0% for validation.\n",
      "Data shuffled.\n",
      "Time to set data: 0.134 sec.\n"
     ]
    },
    {
     "data": {
      "application/vnd.jupyter.widget-view+json": {
       "model_id": "25d9bf2900b04b78aad4b704d1b2fa67",
       "version_major": 2,
       "version_minor": 0
      },
      "text/plain": [
       "0epoch [00:00, ?epoch/s]"
      ]
     },
     "metadata": {},
     "output_type": "display_data"
    },
    {
     "name": "stdout",
     "output_type": "stream",
     "text": [
      "Training time: 22.6 seconds\n",
      "test_I_var: 0.550 +- 0.033 bits\n",
      "test_I_pred: 0.787 +- 0.023 bits\n",
      "Model saved to these files:\n",
      "\tall_promoters_additive_ge_2.pickle\n",
      "\tall_promoters_additive_ge_2.h5\n",
      "-----------------------------\n",
      "Training 'all_promoters_neighbor_ge_2' model...\n",
      "\n",
      "N = 2,305 observations set as training data.\n",
      "Using 11.0% for validation.\n",
      "Data shuffled.\n",
      "Time to set data: 0.116 sec.\n"
     ]
    },
    {
     "data": {
      "application/vnd.jupyter.widget-view+json": {
       "model_id": "efa45d3eef6a4d169e9a4bf12540f323",
       "version_major": 2,
       "version_minor": 0
      },
      "text/plain": [
       "0epoch [00:00, ?epoch/s]"
      ]
     },
     "metadata": {},
     "output_type": "display_data"
    },
    {
     "name": "stdout",
     "output_type": "stream",
     "text": [
      "Training time: 20.2 seconds\n",
      "test_I_var: 0.931 +- 0.038 bits\n",
      "test_I_pred: 1.097 +- 0.024 bits\n",
      "Model saved to these files:\n",
      "\tall_promoters_neighbor_ge_2.pickle\n",
      "\tall_promoters_neighbor_ge_2.h5\n",
      "-----------------------------\n",
      "Training 'all_promoters_pairwise_ge_2' model...\n",
      "\n",
      "N = 2,305 observations set as training data.\n",
      "Using 11.0% for validation.\n",
      "Data shuffled.\n",
      "Time to set data: 0.138 sec.\n"
     ]
    },
    {
     "data": {
      "application/vnd.jupyter.widget-view+json": {
       "model_id": "9b79fd20f37044ca9cfbc181d854ea68",
       "version_major": 2,
       "version_minor": 0
      },
      "text/plain": [
       "0epoch [00:00, ?epoch/s]"
      ]
     },
     "metadata": {},
     "output_type": "display_data"
    },
    {
     "name": "stdout",
     "output_type": "stream",
     "text": [
      "Training time: 21.6 seconds\n",
      "test_I_var: 1.676 +- 0.037 bits\n",
      "test_I_pred: 1.837 +- 0.028 bits\n",
      "Model saved to these files:\n",
      "\tall_promoters_pairwise_ge_2.pickle\n",
      "\tall_promoters_pairwise_ge_2.h5\n",
      "-----------------------------\n",
      "Training 'all_promoters_blackbox_ge_2' model...\n",
      "\n",
      "N = 2,305 observations set as training data.\n",
      "Using 11.0% for validation.\n",
      "Data shuffled.\n",
      "Time to set data: 0.143 sec.\n"
     ]
    },
    {
     "data": {
      "application/vnd.jupyter.widget-view+json": {
       "model_id": "47ab71afc007440cbf8bdfbdeef62cf9",
       "version_major": 2,
       "version_minor": 0
      },
      "text/plain": [
       "0epoch [00:00, ?epoch/s]"
      ]
     },
     "metadata": {},
     "output_type": "display_data"
    },
    {
     "name": "stdout",
     "output_type": "stream",
     "text": [
      "Training time: 14.8 seconds\n",
      "test_I_var: 2.019 +- 0.037 bits\n",
      "test_I_pred: 2.886 +- 0.023 bits\n",
      "Model saved to these files:\n",
      "\tall_promoters_blackbox_ge_2.pickle\n",
      "\tall_promoters_blackbox_ge_2.h5\n",
      "Training 4 models: ['additive', 'neighbor', 'pairwise', 'blackbox']\n",
      "-----------------------------\n",
      "Training 'all_promoters_additive_ge_3' model...\n",
      "\n",
      "N = 2,305 observations set as training data.\n",
      "Using 11.0% for validation.\n",
      "Data shuffled.\n",
      "Time to set data: 0.124 sec.\n"
     ]
    },
    {
     "data": {
      "application/vnd.jupyter.widget-view+json": {
       "model_id": "dc00ce2e5c3a4b748832d6aced9a8e3e",
       "version_major": 2,
       "version_minor": 0
      },
      "text/plain": [
       "0epoch [00:00, ?epoch/s]"
      ]
     },
     "metadata": {},
     "output_type": "display_data"
    },
    {
     "name": "stdout",
     "output_type": "stream",
     "text": [
      "Training time: 21.0 seconds\n",
      "test_I_var: 0.559 +- 0.034 bits\n",
      "test_I_pred: 0.781 +- 0.021 bits\n",
      "Model saved to these files:\n",
      "\tall_promoters_additive_ge_3.pickle\n",
      "\tall_promoters_additive_ge_3.h5\n",
      "-----------------------------\n",
      "Training 'all_promoters_neighbor_ge_3' model...\n",
      "\n",
      "N = 2,305 observations set as training data.\n",
      "Using 11.0% for validation.\n",
      "Data shuffled.\n",
      "Time to set data: 0.134 sec.\n"
     ]
    },
    {
     "data": {
      "application/vnd.jupyter.widget-view+json": {
       "model_id": "0d186cb473974b5ba9cb395621dc7a4a",
       "version_major": 2,
       "version_minor": 0
      },
      "text/plain": [
       "0epoch [00:00, ?epoch/s]"
      ]
     },
     "metadata": {},
     "output_type": "display_data"
    },
    {
     "name": "stdout",
     "output_type": "stream",
     "text": [
      "Training time: 22.3 seconds\n",
      "test_I_var: 0.935 +- 0.038 bits\n",
      "test_I_pred: 1.095 +- 0.031 bits\n",
      "Model saved to these files:\n",
      "\tall_promoters_neighbor_ge_3.pickle\n",
      "\tall_promoters_neighbor_ge_3.h5\n",
      "-----------------------------\n",
      "Training 'all_promoters_pairwise_ge_3' model...\n",
      "\n",
      "N = 2,305 observations set as training data.\n",
      "Using 11.0% for validation.\n",
      "Data shuffled.\n",
      "Time to set data: 0.117 sec.\n"
     ]
    },
    {
     "data": {
      "application/vnd.jupyter.widget-view+json": {
       "model_id": "208de45f6de549138fed9c23c780252c",
       "version_major": 2,
       "version_minor": 0
      },
      "text/plain": [
       "0epoch [00:00, ?epoch/s]"
      ]
     },
     "metadata": {},
     "output_type": "display_data"
    },
    {
     "name": "stdout",
     "output_type": "stream",
     "text": [
      "Training time: 19.5 seconds\n",
      "test_I_var: 1.670 +- 0.040 bits\n",
      "test_I_pred: 1.844 +- 0.024 bits\n",
      "Model saved to these files:\n",
      "\tall_promoters_pairwise_ge_3.pickle\n",
      "\tall_promoters_pairwise_ge_3.h5\n",
      "-----------------------------\n",
      "Training 'all_promoters_blackbox_ge_3' model...\n",
      "\n",
      "N = 2,305 observations set as training data.\n",
      "Using 11.0% for validation.\n",
      "Data shuffled.\n",
      "Time to set data: 0.191 sec.\n"
     ]
    },
    {
     "data": {
      "application/vnd.jupyter.widget-view+json": {
       "model_id": "347acb26ffa848b08035e0eea4efa362",
       "version_major": 2,
       "version_minor": 0
      },
      "text/plain": [
       "0epoch [00:00, ?epoch/s]"
      ]
     },
     "metadata": {},
     "output_type": "display_data"
    },
    {
     "name": "stdout",
     "output_type": "stream",
     "text": [
      "Training time: 15.7 seconds\n",
      "test_I_var: 1.920 +- 0.036 bits\n",
      "test_I_pred: 2.702 +- 0.029 bits\n",
      "Model saved to these files:\n",
      "\tall_promoters_blackbox_ge_3.pickle\n",
      "\tall_promoters_blackbox_ge_3.h5\n",
      "Training 4 models: ['additive', 'neighbor', 'pairwise', 'blackbox']\n",
      "-----------------------------\n",
      "Training 'all_promoters_additive_ge_4' model...\n",
      "\n",
      "N = 2,305 observations set as training data.\n",
      "Using 11.0% for validation.\n",
      "Data shuffled.\n",
      "Time to set data: 0.132 sec.\n"
     ]
    },
    {
     "data": {
      "application/vnd.jupyter.widget-view+json": {
       "model_id": "ad8de4230ddd47a0bdff1ab9c4d2c46e",
       "version_major": 2,
       "version_minor": 0
      },
      "text/plain": [
       "0epoch [00:00, ?epoch/s]"
      ]
     },
     "metadata": {},
     "output_type": "display_data"
    },
    {
     "name": "stdout",
     "output_type": "stream",
     "text": [
      "Training time: 23.5 seconds\n",
      "test_I_var: 0.563 +- 0.033 bits\n",
      "test_I_pred: 0.792 +- 0.021 bits\n",
      "Model saved to these files:\n",
      "\tall_promoters_additive_ge_4.pickle\n",
      "\tall_promoters_additive_ge_4.h5\n",
      "-----------------------------\n",
      "Training 'all_promoters_neighbor_ge_4' model...\n",
      "\n",
      "N = 2,305 observations set as training data.\n",
      "Using 11.0% for validation.\n",
      "Data shuffled.\n",
      "Time to set data: 0.229 sec.\n"
     ]
    },
    {
     "data": {
      "application/vnd.jupyter.widget-view+json": {
       "model_id": "2e994d7a1b6749908ee43269305574ce",
       "version_major": 2,
       "version_minor": 0
      },
      "text/plain": [
       "0epoch [00:00, ?epoch/s]"
      ]
     },
     "metadata": {},
     "output_type": "display_data"
    },
    {
     "name": "stdout",
     "output_type": "stream",
     "text": [
      "Training time: 25.8 seconds\n",
      "test_I_var: 0.916 +- 0.033 bits\n",
      "test_I_pred: 1.130 +- 0.020 bits\n",
      "Model saved to these files:\n",
      "\tall_promoters_neighbor_ge_4.pickle\n",
      "\tall_promoters_neighbor_ge_4.h5\n",
      "-----------------------------\n",
      "Training 'all_promoters_pairwise_ge_4' model...\n",
      "\n",
      "N = 2,305 observations set as training data.\n",
      "Using 11.0% for validation.\n",
      "Data shuffled.\n",
      "Time to set data: 0.156 sec.\n"
     ]
    },
    {
     "data": {
      "application/vnd.jupyter.widget-view+json": {
       "model_id": "6c4fef8c2a564932b772105622c47ae2",
       "version_major": 2,
       "version_minor": 0
      },
      "text/plain": [
       "0epoch [00:00, ?epoch/s]"
      ]
     },
     "metadata": {},
     "output_type": "display_data"
    },
    {
     "name": "stdout",
     "output_type": "stream",
     "text": [
      "Training time: 19.3 seconds\n",
      "test_I_var: 1.683 +- 0.038 bits\n",
      "test_I_pred: 1.791 +- 0.029 bits\n",
      "Model saved to these files:\n",
      "\tall_promoters_pairwise_ge_4.pickle\n",
      "\tall_promoters_pairwise_ge_4.h5\n",
      "-----------------------------\n",
      "Training 'all_promoters_blackbox_ge_4' model...\n",
      "\n",
      "N = 2,305 observations set as training data.\n",
      "Using 11.0% for validation.\n",
      "Data shuffled.\n",
      "Time to set data: 0.116 sec.\n"
     ]
    },
    {
     "data": {
      "application/vnd.jupyter.widget-view+json": {
       "model_id": "9b72c593db2b4fe28065f155783946ec",
       "version_major": 2,
       "version_minor": 0
      },
      "text/plain": [
       "0epoch [00:00, ?epoch/s]"
      ]
     },
     "metadata": {},
     "output_type": "display_data"
    },
    {
     "name": "stdout",
     "output_type": "stream",
     "text": [
      "Training time: 18.2 seconds\n",
      "test_I_var: 2.000 +- 0.036 bits\n",
      "test_I_pred: 2.837 +- 0.029 bits\n",
      "Model saved to these files:\n",
      "\tall_promoters_blackbox_ge_4.pickle\n",
      "\tall_promoters_blackbox_ge_4.h5\n",
      "Training 4 models: ['additive', 'neighbor', 'pairwise', 'blackbox']\n",
      "-----------------------------\n",
      "Training 'all_promoters_additive_ge_5' model...\n",
      "\n",
      "N = 2,305 observations set as training data.\n",
      "Using 11.0% for validation.\n",
      "Data shuffled.\n",
      "Time to set data: 0.121 sec.\n"
     ]
    },
    {
     "data": {
      "application/vnd.jupyter.widget-view+json": {
       "model_id": "788c4a22dac04629ae175877dbd40668",
       "version_major": 2,
       "version_minor": 0
      },
      "text/plain": [
       "0epoch [00:00, ?epoch/s]"
      ]
     },
     "metadata": {},
     "output_type": "display_data"
    },
    {
     "name": "stdout",
     "output_type": "stream",
     "text": [
      "Training time: 27.9 seconds\n",
      "test_I_var: 0.560 +- 0.032 bits\n",
      "test_I_pred: 0.788 +- 0.023 bits\n",
      "Model saved to these files:\n",
      "\tall_promoters_additive_ge_5.pickle\n",
      "\tall_promoters_additive_ge_5.h5\n",
      "-----------------------------\n",
      "Training 'all_promoters_neighbor_ge_5' model...\n",
      "\n",
      "N = 2,305 observations set as training data.\n",
      "Using 11.0% for validation.\n",
      "Data shuffled.\n",
      "Time to set data: 0.124 sec.\n"
     ]
    },
    {
     "data": {
      "application/vnd.jupyter.widget-view+json": {
       "model_id": "d6b30f15fbec4f3cab68c86ed3234334",
       "version_major": 2,
       "version_minor": 0
      },
      "text/plain": [
       "0epoch [00:00, ?epoch/s]"
      ]
     },
     "metadata": {},
     "output_type": "display_data"
    },
    {
     "name": "stdout",
     "output_type": "stream",
     "text": [
      "Training time: 62.5 seconds\n",
      "test_I_var: -0.117 +- 0.023 bits\n",
      "test_I_pred: 0.019 +- 0.013 bits\n",
      "Model saved to these files:\n",
      "\tall_promoters_neighbor_ge_5.pickle\n",
      "\tall_promoters_neighbor_ge_5.h5\n",
      "-----------------------------\n",
      "Training 'all_promoters_pairwise_ge_5' model...\n",
      "\n",
      "N = 2,305 observations set as training data.\n",
      "Using 11.0% for validation.\n",
      "Data shuffled.\n",
      "Time to set data: 0.117 sec.\n"
     ]
    },
    {
     "data": {
      "application/vnd.jupyter.widget-view+json": {
       "model_id": "40e927bb85fa4a829549079726cf16bb",
       "version_major": 2,
       "version_minor": 0
      },
      "text/plain": [
       "0epoch [00:00, ?epoch/s]"
      ]
     },
     "metadata": {},
     "output_type": "display_data"
    },
    {
     "name": "stdout",
     "output_type": "stream",
     "text": [
      "Training time: 17.4 seconds\n",
      "test_I_var: 1.684 +- 0.034 bits\n",
      "test_I_pred: 1.807 +- 0.027 bits\n",
      "Model saved to these files:\n",
      "\tall_promoters_pairwise_ge_5.pickle\n",
      "\tall_promoters_pairwise_ge_5.h5\n",
      "-----------------------------\n",
      "Training 'all_promoters_blackbox_ge_5' model...\n",
      "\n",
      "N = 2,305 observations set as training data.\n",
      "Using 11.0% for validation.\n",
      "Data shuffled.\n",
      "Time to set data: 0.116 sec.\n"
     ]
    },
    {
     "data": {
      "application/vnd.jupyter.widget-view+json": {
       "model_id": "9c32564f824145ff984a7538d3647a3b",
       "version_major": 2,
       "version_minor": 0
      },
      "text/plain": [
       "0epoch [00:00, ?epoch/s]"
      ]
     },
     "metadata": {},
     "output_type": "display_data"
    },
    {
     "name": "stdout",
     "output_type": "stream",
     "text": [
      "Training time: 13.4 seconds\n",
      "test_I_var: 1.898 +- 0.037 bits\n",
      "test_I_pred: 2.761 +- 0.031 bits\n",
      "Model saved to these files:\n",
      "\tall_promoters_blackbox_ge_5.pickle\n",
      "\tall_promoters_blackbox_ge_5.h5\n",
      "Training 4 models: ['additive', 'neighbor', 'pairwise', 'blackbox']\n",
      "-----------------------------\n",
      "Training 'all_promoters_additive_ge_6' model...\n",
      "\n",
      "N = 2,305 observations set as training data.\n",
      "Using 11.0% for validation.\n",
      "Data shuffled.\n",
      "Time to set data: 0.117 sec.\n"
     ]
    },
    {
     "data": {
      "application/vnd.jupyter.widget-view+json": {
       "model_id": "71eab4499bc84d7694986e1372504a69",
       "version_major": 2,
       "version_minor": 0
      },
      "text/plain": [
       "0epoch [00:00, ?epoch/s]"
      ]
     },
     "metadata": {},
     "output_type": "display_data"
    },
    {
     "name": "stdout",
     "output_type": "stream",
     "text": [
      "Training time: 47.6 seconds\n",
      "test_I_var: -0.117 +- 0.027 bits\n",
      "test_I_pred: 0.042 +- 0.013 bits\n",
      "Model saved to these files:\n",
      "\tall_promoters_additive_ge_6.pickle\n",
      "\tall_promoters_additive_ge_6.h5\n",
      "-----------------------------\n",
      "Training 'all_promoters_neighbor_ge_6' model...\n",
      "\n",
      "N = 2,305 observations set as training data.\n",
      "Using 11.0% for validation.\n",
      "Data shuffled.\n",
      "Time to set data: 0.114 sec.\n"
     ]
    },
    {
     "data": {
      "application/vnd.jupyter.widget-view+json": {
       "model_id": "d1f60ff0ee5d416fa57b7036c093ca55",
       "version_major": 2,
       "version_minor": 0
      },
      "text/plain": [
       "0epoch [00:00, ?epoch/s]"
      ]
     },
     "metadata": {},
     "output_type": "display_data"
    },
    {
     "name": "stdout",
     "output_type": "stream",
     "text": [
      "Training time: 24.6 seconds\n",
      "test_I_var: 0.940 +- 0.040 bits\n",
      "test_I_pred: 1.084 +- 0.023 bits\n",
      "Model saved to these files:\n",
      "\tall_promoters_neighbor_ge_6.pickle\n",
      "\tall_promoters_neighbor_ge_6.h5\n",
      "-----------------------------\n",
      "Training 'all_promoters_pairwise_ge_6' model...\n",
      "\n",
      "N = 2,305 observations set as training data.\n",
      "Using 11.0% for validation.\n",
      "Data shuffled.\n",
      "Time to set data: 0.118 sec.\n"
     ]
    },
    {
     "data": {
      "application/vnd.jupyter.widget-view+json": {
       "model_id": "6e17798519c3466d9c3330c43136a6d6",
       "version_major": 2,
       "version_minor": 0
      },
      "text/plain": [
       "0epoch [00:00, ?epoch/s]"
      ]
     },
     "metadata": {},
     "output_type": "display_data"
    },
    {
     "name": "stdout",
     "output_type": "stream",
     "text": [
      "Training time: 17.8 seconds\n",
      "test_I_var: 1.657 +- 0.037 bits\n",
      "test_I_pred: 1.808 +- 0.028 bits\n",
      "Model saved to these files:\n",
      "\tall_promoters_pairwise_ge_6.pickle\n",
      "\tall_promoters_pairwise_ge_6.h5\n",
      "-----------------------------\n",
      "Training 'all_promoters_blackbox_ge_6' model...\n",
      "\n",
      "N = 2,305 observations set as training data.\n",
      "Using 11.0% for validation.\n",
      "Data shuffled.\n",
      "Time to set data: 0.157 sec.\n"
     ]
    },
    {
     "data": {
      "application/vnd.jupyter.widget-view+json": {
       "model_id": "36aca1ff50cb45ab8c957fc0448a6d35",
       "version_major": 2,
       "version_minor": 0
      },
      "text/plain": [
       "0epoch [00:00, ?epoch/s]"
      ]
     },
     "metadata": {},
     "output_type": "display_data"
    },
    {
     "name": "stdout",
     "output_type": "stream",
     "text": [
      "Training time: 13.2 seconds\n",
      "test_I_var: 1.775 +- 0.037 bits\n",
      "test_I_pred: 2.681 +- 0.020 bits\n",
      "Model saved to these files:\n",
      "\tall_promoters_blackbox_ge_6.pickle\n",
      "\tall_promoters_blackbox_ge_6.h5\n",
      "Training 4 models: ['additive', 'neighbor', 'pairwise', 'blackbox']\n",
      "-----------------------------\n",
      "Training 'all_promoters_additive_ge_7' model...\n",
      "\n",
      "N = 2,305 observations set as training data.\n",
      "Using 11.0% for validation.\n",
      "Data shuffled.\n",
      "Time to set data: 0.123 sec.\n"
     ]
    },
    {
     "data": {
      "application/vnd.jupyter.widget-view+json": {
       "model_id": "58d1c9959ba245969633ebb3de921eba",
       "version_major": 2,
       "version_minor": 0
      },
      "text/plain": [
       "0epoch [00:00, ?epoch/s]"
      ]
     },
     "metadata": {},
     "output_type": "display_data"
    },
    {
     "name": "stdout",
     "output_type": "stream",
     "text": [
      "Training time: 31.9 seconds\n",
      "test_I_var: 0.573 +- 0.033 bits\n",
      "test_I_pred: 0.798 +- 0.020 bits\n",
      "Model saved to these files:\n",
      "\tall_promoters_additive_ge_7.pickle\n",
      "\tall_promoters_additive_ge_7.h5\n",
      "-----------------------------\n",
      "Training 'all_promoters_neighbor_ge_7' model...\n",
      "\n",
      "N = 2,305 observations set as training data.\n",
      "Using 11.0% for validation.\n",
      "Data shuffled.\n",
      "Time to set data: 0.117 sec.\n"
     ]
    },
    {
     "data": {
      "application/vnd.jupyter.widget-view+json": {
       "model_id": "44c181efeedb44d78f47dc5751b68402",
       "version_major": 2,
       "version_minor": 0
      },
      "text/plain": [
       "0epoch [00:00, ?epoch/s]"
      ]
     },
     "metadata": {},
     "output_type": "display_data"
    },
    {
     "name": "stdout",
     "output_type": "stream",
     "text": [
      "Training time: 24.7 seconds\n",
      "test_I_var: 0.952 +- 0.038 bits\n",
      "test_I_pred: 1.088 +- 0.025 bits\n",
      "Model saved to these files:\n",
      "\tall_promoters_neighbor_ge_7.pickle\n",
      "\tall_promoters_neighbor_ge_7.h5\n",
      "-----------------------------\n",
      "Training 'all_promoters_pairwise_ge_7' model...\n",
      "\n",
      "N = 2,305 observations set as training data.\n",
      "Using 11.0% for validation.\n",
      "Data shuffled.\n",
      "Time to set data: 0.143 sec.\n"
     ]
    },
    {
     "data": {
      "application/vnd.jupyter.widget-view+json": {
       "model_id": "5a5e97876b384b3b8ba37ec1ded9a06d",
       "version_major": 2,
       "version_minor": 0
      },
      "text/plain": [
       "0epoch [00:00, ?epoch/s]"
      ]
     },
     "metadata": {},
     "output_type": "display_data"
    },
    {
     "name": "stdout",
     "output_type": "stream",
     "text": [
      "Training time: 23.8 seconds\n",
      "test_I_var: 1.682 +- 0.038 bits\n",
      "test_I_pred: 1.794 +- 0.018 bits\n",
      "Model saved to these files:\n",
      "\tall_promoters_pairwise_ge_7.pickle\n",
      "\tall_promoters_pairwise_ge_7.h5\n",
      "-----------------------------\n",
      "Training 'all_promoters_blackbox_ge_7' model...\n",
      "\n",
      "N = 2,305 observations set as training data.\n",
      "Using 11.0% for validation.\n",
      "Data shuffled.\n",
      "Time to set data: 0.164 sec.\n"
     ]
    },
    {
     "data": {
      "application/vnd.jupyter.widget-view+json": {
       "model_id": "91b1ad300925478ba8b2c6d4c51e9e90",
       "version_major": 2,
       "version_minor": 0
      },
      "text/plain": [
       "0epoch [00:00, ?epoch/s]"
      ]
     },
     "metadata": {},
     "output_type": "display_data"
    },
    {
     "name": "stdout",
     "output_type": "stream",
     "text": [
      "Training time: 14.0 seconds\n",
      "test_I_var: 1.914 +- 0.033 bits\n",
      "test_I_pred: 2.794 +- 0.026 bits\n",
      "Model saved to these files:\n",
      "\tall_promoters_blackbox_ge_7.pickle\n",
      "\tall_promoters_blackbox_ge_7.h5\n",
      "Training 4 models: ['additive', 'neighbor', 'pairwise', 'blackbox']\n",
      "-----------------------------\n",
      "Training 'all_promoters_additive_ge_8' model...\n",
      "\n",
      "N = 2,305 observations set as training data.\n",
      "Using 11.0% for validation.\n",
      "Data shuffled.\n",
      "Time to set data: 0.131 sec.\n"
     ]
    },
    {
     "data": {
      "application/vnd.jupyter.widget-view+json": {
       "model_id": "d1ba12ca7d7b457db0857b2139feb681",
       "version_major": 2,
       "version_minor": 0
      },
      "text/plain": [
       "0epoch [00:00, ?epoch/s]"
      ]
     },
     "metadata": {},
     "output_type": "display_data"
    },
    {
     "name": "stdout",
     "output_type": "stream",
     "text": [
      "Training time: 32.2 seconds\n",
      "test_I_var: 0.552 +- 0.032 bits\n",
      "test_I_pred: 0.800 +- 0.027 bits\n",
      "Model saved to these files:\n",
      "\tall_promoters_additive_ge_8.pickle\n",
      "\tall_promoters_additive_ge_8.h5\n",
      "-----------------------------\n",
      "Training 'all_promoters_neighbor_ge_8' model...\n",
      "\n",
      "N = 2,305 observations set as training data.\n",
      "Using 11.0% for validation.\n",
      "Data shuffled.\n",
      "Time to set data: 0.144 sec.\n"
     ]
    },
    {
     "data": {
      "application/vnd.jupyter.widget-view+json": {
       "model_id": "53a7a0478a224062b587df2926a177ba",
       "version_major": 2,
       "version_minor": 0
      },
      "text/plain": [
       "0epoch [00:00, ?epoch/s]"
      ]
     },
     "metadata": {},
     "output_type": "display_data"
    },
    {
     "name": "stdout",
     "output_type": "stream",
     "text": [
      "Training time: 26.4 seconds\n",
      "test_I_var: 0.954 +- 0.039 bits\n",
      "test_I_pred: 1.079 +- 0.021 bits\n",
      "Model saved to these files:\n",
      "\tall_promoters_neighbor_ge_8.pickle\n",
      "\tall_promoters_neighbor_ge_8.h5\n",
      "-----------------------------\n",
      "Training 'all_promoters_pairwise_ge_8' model...\n",
      "\n",
      "N = 2,305 observations set as training data.\n",
      "Using 11.0% for validation.\n",
      "Data shuffled.\n",
      "Time to set data: 0.117 sec.\n"
     ]
    },
    {
     "data": {
      "application/vnd.jupyter.widget-view+json": {
       "model_id": "438e9a1c3ea840a8a4ca5f30cb798480",
       "version_major": 2,
       "version_minor": 0
      },
      "text/plain": [
       "0epoch [00:00, ?epoch/s]"
      ]
     },
     "metadata": {},
     "output_type": "display_data"
    },
    {
     "name": "stdout",
     "output_type": "stream",
     "text": [
      "Training time: 15.8 seconds\n",
      "test_I_var: 1.622 +- 0.036 bits\n",
      "test_I_pred: 1.786 +- 0.030 bits\n",
      "Model saved to these files:\n",
      "\tall_promoters_pairwise_ge_8.pickle\n",
      "\tall_promoters_pairwise_ge_8.h5\n",
      "-----------------------------\n",
      "Training 'all_promoters_blackbox_ge_8' model...\n",
      "\n",
      "N = 2,305 observations set as training data.\n",
      "Using 11.0% for validation.\n",
      "Data shuffled.\n",
      "Time to set data: 0.117 sec.\n"
     ]
    },
    {
     "data": {
      "application/vnd.jupyter.widget-view+json": {
       "model_id": "8e9d3a050597478496212ab4449237e2",
       "version_major": 2,
       "version_minor": 0
      },
      "text/plain": [
       "0epoch [00:00, ?epoch/s]"
      ]
     },
     "metadata": {},
     "output_type": "display_data"
    },
    {
     "name": "stdout",
     "output_type": "stream",
     "text": [
      "WARNING:tensorflow:Callback method `on_train_batch_begin` is slow compared to the batch time (batch time: 0.0038s vs `on_train_batch_begin` time: 0.0054s). Check your callbacks.\n",
      "Training time: 14.7 seconds\n",
      "test_I_var: 1.904 +- 0.031 bits\n",
      "test_I_pred: 2.760 +- 0.025 bits\n",
      "Model saved to these files:\n",
      "\tall_promoters_blackbox_ge_8.pickle\n",
      "\tall_promoters_blackbox_ge_8.h5\n",
      "Training 4 models: ['additive', 'neighbor', 'pairwise', 'blackbox']\n",
      "-----------------------------\n",
      "Training 'all_promoters_additive_ge_9' model...\n",
      "\n",
      "N = 2,305 observations set as training data.\n",
      "Using 11.0% for validation.\n",
      "Data shuffled.\n",
      "Time to set data: 0.185 sec.\n"
     ]
    },
    {
     "data": {
      "application/vnd.jupyter.widget-view+json": {
       "model_id": "3ecf3fe6ab744386b3d85d2d46c4e633",
       "version_major": 2,
       "version_minor": 0
      },
      "text/plain": [
       "0epoch [00:00, ?epoch/s]"
      ]
     },
     "metadata": {},
     "output_type": "display_data"
    },
    {
     "name": "stdout",
     "output_type": "stream",
     "text": [
      "Training time: 24.1 seconds\n",
      "test_I_var: 0.553 +- 0.036 bits\n",
      "test_I_pred: 0.794 +- 0.020 bits\n",
      "Model saved to these files:\n",
      "\tall_promoters_additive_ge_9.pickle\n",
      "\tall_promoters_additive_ge_9.h5\n",
      "-----------------------------\n",
      "Training 'all_promoters_neighbor_ge_9' model...\n",
      "\n",
      "N = 2,305 observations set as training data.\n",
      "Using 11.0% for validation.\n",
      "Data shuffled.\n",
      "Time to set data: 0.125 sec.\n"
     ]
    },
    {
     "data": {
      "application/vnd.jupyter.widget-view+json": {
       "model_id": "c50bf90e9c9645a98c3fb11bdb4502e0",
       "version_major": 2,
       "version_minor": 0
      },
      "text/plain": [
       "0epoch [00:00, ?epoch/s]"
      ]
     },
     "metadata": {},
     "output_type": "display_data"
    },
    {
     "name": "stdout",
     "output_type": "stream",
     "text": [
      "Training time: 22.7 seconds\n",
      "test_I_var: 0.934 +- 0.039 bits\n",
      "test_I_pred: 1.082 +- 0.024 bits\n",
      "Model saved to these files:\n",
      "\tall_promoters_neighbor_ge_9.pickle\n",
      "\tall_promoters_neighbor_ge_9.h5\n",
      "-----------------------------\n",
      "Training 'all_promoters_pairwise_ge_9' model...\n",
      "\n",
      "N = 2,305 observations set as training data.\n",
      "Using 11.0% for validation.\n",
      "Data shuffled.\n",
      "Time to set data: 0.119 sec.\n"
     ]
    },
    {
     "data": {
      "application/vnd.jupyter.widget-view+json": {
       "model_id": "59de23324f7b4ca0b5255296e2137fcb",
       "version_major": 2,
       "version_minor": 0
      },
      "text/plain": [
       "0epoch [00:00, ?epoch/s]"
      ]
     },
     "metadata": {},
     "output_type": "display_data"
    },
    {
     "name": "stdout",
     "output_type": "stream",
     "text": [
      "Training time: 44.3 seconds\n",
      "test_I_var: -0.136 +- 0.028 bits\n",
      "test_I_pred: 0.062 +- 0.021 bits\n",
      "Model saved to these files:\n",
      "\tall_promoters_pairwise_ge_9.pickle\n",
      "\tall_promoters_pairwise_ge_9.h5\n",
      "-----------------------------\n",
      "Training 'all_promoters_blackbox_ge_9' model...\n",
      "\n",
      "N = 2,305 observations set as training data.\n",
      "Using 11.0% for validation.\n",
      "Data shuffled.\n",
      "Time to set data: 0.128 sec.\n"
     ]
    },
    {
     "data": {
      "application/vnd.jupyter.widget-view+json": {
       "model_id": "25aec9196c0549ecb2cf9014b8901204",
       "version_major": 2,
       "version_minor": 0
      },
      "text/plain": [
       "0epoch [00:00, ?epoch/s]"
      ]
     },
     "metadata": {},
     "output_type": "display_data"
    },
    {
     "name": "stdout",
     "output_type": "stream",
     "text": [
      "Training time: 14.3 seconds\n",
      "test_I_var: 1.689 +- 0.036 bits\n",
      "test_I_pred: 2.548 +- 0.028 bits\n",
      "Model saved to these files:\n",
      "\tall_promoters_blackbox_ge_9.pickle\n",
      "\tall_promoters_blackbox_ge_9.h5\n",
      "Training 4 models: ['additive', 'neighbor', 'pairwise', 'blackbox']\n",
      "-----------------------------\n",
      "Training 'all_promoters_additive_ge_10' model...\n",
      "\n",
      "N = 2,305 observations set as training data.\n",
      "Using 11.0% for validation.\n",
      "Data shuffled.\n",
      "Time to set data: 0.159 sec.\n"
     ]
    },
    {
     "data": {
      "application/vnd.jupyter.widget-view+json": {
       "model_id": "847fcee7fc824cb7b2664af51c5966e3",
       "version_major": 2,
       "version_minor": 0
      },
      "text/plain": [
       "0epoch [00:00, ?epoch/s]"
      ]
     },
     "metadata": {},
     "output_type": "display_data"
    },
    {
     "name": "stdout",
     "output_type": "stream",
     "text": [
      "Training time: 23.6 seconds\n",
      "test_I_var: 0.562 +- 0.031 bits\n",
      "test_I_pred: 0.784 +- 0.024 bits\n",
      "Model saved to these files:\n",
      "\tall_promoters_additive_ge_10.pickle\n",
      "\tall_promoters_additive_ge_10.h5\n",
      "-----------------------------\n",
      "Training 'all_promoters_neighbor_ge_10' model...\n",
      "\n",
      "N = 2,305 observations set as training data.\n",
      "Using 11.0% for validation.\n",
      "Data shuffled.\n",
      "Time to set data: 0.112 sec.\n"
     ]
    },
    {
     "data": {
      "application/vnd.jupyter.widget-view+json": {
       "model_id": "84346aec5d81449886b545eb28254d8a",
       "version_major": 2,
       "version_minor": 0
      },
      "text/plain": [
       "0epoch [00:00, ?epoch/s]"
      ]
     },
     "metadata": {},
     "output_type": "display_data"
    },
    {
     "name": "stdout",
     "output_type": "stream",
     "text": [
      "Training time: 23.0 seconds\n",
      "test_I_var: 0.926 +- 0.038 bits\n",
      "test_I_pred: 1.100 +- 0.027 bits\n",
      "Model saved to these files:\n",
      "\tall_promoters_neighbor_ge_10.pickle\n",
      "\tall_promoters_neighbor_ge_10.h5\n",
      "-----------------------------\n",
      "Training 'all_promoters_pairwise_ge_10' model...\n",
      "\n",
      "N = 2,305 observations set as training data.\n",
      "Using 11.0% for validation.\n",
      "Data shuffled.\n",
      "Time to set data: 0.13 sec.\n"
     ]
    },
    {
     "data": {
      "application/vnd.jupyter.widget-view+json": {
       "model_id": "246d9933e6654a2fab775ccc6dd4edd5",
       "version_major": 2,
       "version_minor": 0
      },
      "text/plain": [
       "0epoch [00:00, ?epoch/s]"
      ]
     },
     "metadata": {},
     "output_type": "display_data"
    },
    {
     "name": "stdout",
     "output_type": "stream",
     "text": [
      "Training time: 24.6 seconds\n",
      "test_I_var: 1.633 +- 0.038 bits\n",
      "test_I_pred: 1.772 +- 0.028 bits\n",
      "Model saved to these files:\n",
      "\tall_promoters_pairwise_ge_10.pickle\n",
      "\tall_promoters_pairwise_ge_10.h5\n",
      "-----------------------------\n",
      "Training 'all_promoters_blackbox_ge_10' model...\n",
      "\n",
      "N = 2,305 observations set as training data.\n",
      "Using 11.0% for validation.\n",
      "Data shuffled.\n",
      "Time to set data: 0.176 sec.\n"
     ]
    },
    {
     "data": {
      "application/vnd.jupyter.widget-view+json": {
       "model_id": "0800e305e33b4056b14bcda08e10b6bf",
       "version_major": 2,
       "version_minor": 0
      },
      "text/plain": [
       "0epoch [00:00, ?epoch/s]"
      ]
     },
     "metadata": {},
     "output_type": "display_data"
    },
    {
     "name": "stdout",
     "output_type": "stream",
     "text": [
      "Training time: 15.0 seconds\n",
      "test_I_var: 2.045 +- 0.031 bits\n",
      "test_I_pred: 2.862 +- 0.024 bits\n",
      "Model saved to these files:\n",
      "\tall_promoters_blackbox_ge_10.pickle\n",
      "\tall_promoters_blackbox_ge_10.h5\n",
      "Training 4 models: ['additive', 'neighbor', 'pairwise', 'blackbox']\n",
      "-----------------------------\n",
      "Training 'all_promoters_additive_ge_11' model...\n",
      "\n",
      "N = 2,305 observations set as training data.\n",
      "Using 11.0% for validation.\n",
      "Data shuffled.\n",
      "Time to set data: 0.151 sec.\n"
     ]
    },
    {
     "data": {
      "application/vnd.jupyter.widget-view+json": {
       "model_id": "34772f3cafb94881987de4568b30b080",
       "version_major": 2,
       "version_minor": 0
      },
      "text/plain": [
       "0epoch [00:00, ?epoch/s]"
      ]
     },
     "metadata": {},
     "output_type": "display_data"
    },
    {
     "name": "stdout",
     "output_type": "stream",
     "text": [
      "Training time: 28.3 seconds\n",
      "test_I_var: 0.558 +- 0.037 bits\n",
      "test_I_pred: 0.789 +- 0.021 bits\n",
      "Model saved to these files:\n",
      "\tall_promoters_additive_ge_11.pickle\n",
      "\tall_promoters_additive_ge_11.h5\n",
      "-----------------------------\n",
      "Training 'all_promoters_neighbor_ge_11' model...\n",
      "\n",
      "N = 2,305 observations set as training data.\n",
      "Using 11.0% for validation.\n",
      "Data shuffled.\n",
      "Time to set data: 0.114 sec.\n"
     ]
    },
    {
     "data": {
      "application/vnd.jupyter.widget-view+json": {
       "model_id": "b24fa0f06ff44553937d85174f972fe5",
       "version_major": 2,
       "version_minor": 0
      },
      "text/plain": [
       "0epoch [00:00, ?epoch/s]"
      ]
     },
     "metadata": {},
     "output_type": "display_data"
    },
    {
     "name": "stdout",
     "output_type": "stream",
     "text": [
      "Training time: 29.0 seconds\n",
      "test_I_var: 0.943 +- 0.040 bits\n",
      "test_I_pred: 1.074 +- 0.025 bits\n",
      "Model saved to these files:\n",
      "\tall_promoters_neighbor_ge_11.pickle\n",
      "\tall_promoters_neighbor_ge_11.h5\n",
      "-----------------------------\n",
      "Training 'all_promoters_pairwise_ge_11' model...\n",
      "\n",
      "N = 2,305 observations set as training data.\n",
      "Using 11.0% for validation.\n",
      "Data shuffled.\n",
      "Time to set data: 0.121 sec.\n"
     ]
    },
    {
     "data": {
      "application/vnd.jupyter.widget-view+json": {
       "model_id": "fc21c4be1c8847ae9b23ac0c498908aa",
       "version_major": 2,
       "version_minor": 0
      },
      "text/plain": [
       "0epoch [00:00, ?epoch/s]"
      ]
     },
     "metadata": {},
     "output_type": "display_data"
    },
    {
     "name": "stdout",
     "output_type": "stream",
     "text": [
      "Training time: 20.4 seconds\n",
      "test_I_var: 1.656 +- 0.034 bits\n",
      "test_I_pred: 1.825 +- 0.024 bits\n",
      "Model saved to these files:\n",
      "\tall_promoters_pairwise_ge_11.pickle\n",
      "\tall_promoters_pairwise_ge_11.h5\n",
      "-----------------------------\n",
      "Training 'all_promoters_blackbox_ge_11' model...\n",
      "\n",
      "N = 2,305 observations set as training data.\n",
      "Using 11.0% for validation.\n",
      "Data shuffled.\n",
      "Time to set data: 0.108 sec.\n"
     ]
    },
    {
     "data": {
      "application/vnd.jupyter.widget-view+json": {
       "model_id": "0324b7d0f8c143fd8e7ed6a4eb5ced0e",
       "version_major": 2,
       "version_minor": 0
      },
      "text/plain": [
       "0epoch [00:00, ?epoch/s]"
      ]
     },
     "metadata": {},
     "output_type": "display_data"
    },
    {
     "name": "stdout",
     "output_type": "stream",
     "text": [
      "Training time: 12.8 seconds\n",
      "test_I_var: 1.881 +- 0.029 bits\n",
      "test_I_pred: 2.610 +- 0.033 bits\n",
      "Model saved to these files:\n",
      "\tall_promoters_blackbox_ge_11.pickle\n",
      "\tall_promoters_blackbox_ge_11.h5\n",
      "Training 4 models: ['additive', 'neighbor', 'pairwise', 'blackbox']\n",
      "-----------------------------\n",
      "Training 'all_promoters_additive_ge_12' model...\n",
      "\n",
      "N = 2,305 observations set as training data.\n",
      "Using 11.0% for validation.\n",
      "Data shuffled.\n",
      "Time to set data: 0.119 sec.\n"
     ]
    },
    {
     "data": {
      "application/vnd.jupyter.widget-view+json": {
       "model_id": "b049650e3101419eb324bdc45b353114",
       "version_major": 2,
       "version_minor": 0
      },
      "text/plain": [
       "0epoch [00:00, ?epoch/s]"
      ]
     },
     "metadata": {},
     "output_type": "display_data"
    },
    {
     "name": "stdout",
     "output_type": "stream",
     "text": [
      "Training time: 45.0 seconds\n",
      "test_I_var: -0.148 +- 0.028 bits\n",
      "test_I_pred: 0.110 +- 0.013 bits\n",
      "Model saved to these files:\n",
      "\tall_promoters_additive_ge_12.pickle\n",
      "\tall_promoters_additive_ge_12.h5\n",
      "-----------------------------\n",
      "Training 'all_promoters_neighbor_ge_12' model...\n",
      "\n",
      "N = 2,305 observations set as training data.\n",
      "Using 11.0% for validation.\n",
      "Data shuffled.\n",
      "Time to set data: 0.11 sec.\n"
     ]
    },
    {
     "data": {
      "application/vnd.jupyter.widget-view+json": {
       "model_id": "ac83876f1d4b4f7bbb525b4d3934c38c",
       "version_major": 2,
       "version_minor": 0
      },
      "text/plain": [
       "0epoch [00:00, ?epoch/s]"
      ]
     },
     "metadata": {},
     "output_type": "display_data"
    },
    {
     "name": "stdout",
     "output_type": "stream",
     "text": [
      "Training time: 25.0 seconds\n",
      "test_I_var: 0.931 +- 0.039 bits\n",
      "test_I_pred: 1.082 +- 0.026 bits\n",
      "Model saved to these files:\n",
      "\tall_promoters_neighbor_ge_12.pickle\n",
      "\tall_promoters_neighbor_ge_12.h5\n",
      "-----------------------------\n",
      "Training 'all_promoters_pairwise_ge_12' model...\n",
      "\n",
      "N = 2,305 observations set as training data.\n",
      "Using 11.0% for validation.\n",
      "Data shuffled.\n",
      "Time to set data: 0.13 sec.\n"
     ]
    },
    {
     "data": {
      "application/vnd.jupyter.widget-view+json": {
       "model_id": "44a9d7408c464667aa3d605d55eb7d54",
       "version_major": 2,
       "version_minor": 0
      },
      "text/plain": [
       "0epoch [00:00, ?epoch/s]"
      ]
     },
     "metadata": {},
     "output_type": "display_data"
    },
    {
     "name": "stdout",
     "output_type": "stream",
     "text": [
      "Training time: 14.7 seconds\n",
      "test_I_var: 1.616 +- 0.040 bits\n",
      "test_I_pred: 1.750 +- 0.027 bits\n",
      "Model saved to these files:\n",
      "\tall_promoters_pairwise_ge_12.pickle\n",
      "\tall_promoters_pairwise_ge_12.h5\n",
      "-----------------------------\n",
      "Training 'all_promoters_blackbox_ge_12' model...\n",
      "\n",
      "N = 2,305 observations set as training data.\n",
      "Using 11.0% for validation.\n",
      "Data shuffled.\n",
      "Time to set data: 0.11 sec.\n"
     ]
    },
    {
     "data": {
      "application/vnd.jupyter.widget-view+json": {
       "model_id": "588e355b02264dc4b4cb485ebf6d658a",
       "version_major": 2,
       "version_minor": 0
      },
      "text/plain": [
       "0epoch [00:00, ?epoch/s]"
      ]
     },
     "metadata": {},
     "output_type": "display_data"
    },
    {
     "name": "stdout",
     "output_type": "stream",
     "text": [
      "Training time: 13.1 seconds\n",
      "test_I_var: 1.757 +- 0.026 bits\n",
      "test_I_pred: 2.643 +- 0.036 bits\n",
      "Model saved to these files:\n",
      "\tall_promoters_blackbox_ge_12.pickle\n",
      "\tall_promoters_blackbox_ge_12.h5\n",
      "Training 4 models: ['additive', 'neighbor', 'pairwise', 'blackbox']\n",
      "-----------------------------\n",
      "Training 'all_promoters_additive_ge_13' model...\n",
      "\n",
      "N = 2,305 observations set as training data.\n",
      "Using 11.0% for validation.\n",
      "Data shuffled.\n",
      "Time to set data: 0.126 sec.\n"
     ]
    },
    {
     "data": {
      "application/vnd.jupyter.widget-view+json": {
       "model_id": "2d6673460e46418abc740581babc9c8c",
       "version_major": 2,
       "version_minor": 0
      },
      "text/plain": [
       "0epoch [00:00, ?epoch/s]"
      ]
     },
     "metadata": {},
     "output_type": "display_data"
    },
    {
     "name": "stdout",
     "output_type": "stream",
     "text": [
      "Training time: 19.6 seconds\n",
      "test_I_var: 0.557 +- 0.033 bits\n",
      "test_I_pred: 0.789 +- 0.016 bits\n",
      "Model saved to these files:\n",
      "\tall_promoters_additive_ge_13.pickle\n",
      "\tall_promoters_additive_ge_13.h5\n",
      "-----------------------------\n",
      "Training 'all_promoters_neighbor_ge_13' model...\n",
      "\n",
      "N = 2,305 observations set as training data.\n",
      "Using 11.0% for validation.\n",
      "Data shuffled.\n",
      "Time to set data: 0.181 sec.\n"
     ]
    },
    {
     "data": {
      "application/vnd.jupyter.widget-view+json": {
       "model_id": "f8badee5fda04366b7c034d06925a896",
       "version_major": 2,
       "version_minor": 0
      },
      "text/plain": [
       "0epoch [00:00, ?epoch/s]"
      ]
     },
     "metadata": {},
     "output_type": "display_data"
    },
    {
     "name": "stdout",
     "output_type": "stream",
     "text": [
      "Training time: 58.1 seconds\n",
      "test_I_var: -0.180 +- 0.025 bits\n",
      "test_I_pred: 0.044 +- 0.015 bits\n",
      "Model saved to these files:\n",
      "\tall_promoters_neighbor_ge_13.pickle\n",
      "\tall_promoters_neighbor_ge_13.h5\n",
      "-----------------------------\n",
      "Training 'all_promoters_pairwise_ge_13' model...\n",
      "\n",
      "N = 2,305 observations set as training data.\n",
      "Using 11.0% for validation.\n",
      "Data shuffled.\n",
      "Time to set data: 0.122 sec.\n"
     ]
    },
    {
     "data": {
      "application/vnd.jupyter.widget-view+json": {
       "model_id": "29b8c48591aa41d9b9b165c4a9ad5f0f",
       "version_major": 2,
       "version_minor": 0
      },
      "text/plain": [
       "0epoch [00:00, ?epoch/s]"
      ]
     },
     "metadata": {},
     "output_type": "display_data"
    },
    {
     "name": "stdout",
     "output_type": "stream",
     "text": [
      "Training time: 50.9 seconds\n",
      "test_I_var: -0.148 +- 0.023 bits\n",
      "test_I_pred: 0.064 +- 0.019 bits\n",
      "Model saved to these files:\n",
      "\tall_promoters_pairwise_ge_13.pickle\n",
      "\tall_promoters_pairwise_ge_13.h5\n",
      "-----------------------------\n",
      "Training 'all_promoters_blackbox_ge_13' model...\n",
      "\n",
      "N = 2,305 observations set as training data.\n",
      "Using 11.0% for validation.\n",
      "Data shuffled.\n",
      "Time to set data: 0.116 sec.\n"
     ]
    },
    {
     "data": {
      "application/vnd.jupyter.widget-view+json": {
       "model_id": "f960dfc6c91246fca72c7b5a8bd18e91",
       "version_major": 2,
       "version_minor": 0
      },
      "text/plain": [
       "0epoch [00:00, ?epoch/s]"
      ]
     },
     "metadata": {},
     "output_type": "display_data"
    },
    {
     "name": "stdout",
     "output_type": "stream",
     "text": [
      "Training time: 13.9 seconds\n",
      "test_I_var: 1.841 +- 0.037 bits\n",
      "test_I_pred: 2.631 +- 0.029 bits\n",
      "Model saved to these files:\n",
      "\tall_promoters_blackbox_ge_13.pickle\n",
      "\tall_promoters_blackbox_ge_13.h5\n",
      "Training 4 models: ['additive', 'neighbor', 'pairwise', 'blackbox']\n",
      "-----------------------------\n",
      "Training 'all_promoters_additive_ge_14' model...\n",
      "\n",
      "N = 2,305 observations set as training data.\n",
      "Using 11.0% for validation.\n",
      "Data shuffled.\n",
      "Time to set data: 0.115 sec.\n"
     ]
    },
    {
     "data": {
      "application/vnd.jupyter.widget-view+json": {
       "model_id": "e38c857e33384839b8577e3f7a966e20",
       "version_major": 2,
       "version_minor": 0
      },
      "text/plain": [
       "0epoch [00:00, ?epoch/s]"
      ]
     },
     "metadata": {},
     "output_type": "display_data"
    },
    {
     "name": "stdout",
     "output_type": "stream",
     "text": [
      "Training time: 29.2 seconds\n",
      "test_I_var: 0.550 +- 0.029 bits\n",
      "test_I_pred: 0.752 +- 0.023 bits\n",
      "Model saved to these files:\n",
      "\tall_promoters_additive_ge_14.pickle\n",
      "\tall_promoters_additive_ge_14.h5\n",
      "-----------------------------\n",
      "Training 'all_promoters_neighbor_ge_14' model...\n",
      "\n",
      "N = 2,305 observations set as training data.\n",
      "Using 11.0% for validation.\n",
      "Data shuffled.\n",
      "Time to set data: 0.124 sec.\n"
     ]
    },
    {
     "data": {
      "application/vnd.jupyter.widget-view+json": {
       "model_id": "951ba08773ed430a8fcfb557ba1268d2",
       "version_major": 2,
       "version_minor": 0
      },
      "text/plain": [
       "0epoch [00:00, ?epoch/s]"
      ]
     },
     "metadata": {},
     "output_type": "display_data"
    },
    {
     "name": "stdout",
     "output_type": "stream",
     "text": [
      "Training time: 25.8 seconds\n",
      "test_I_var: 0.953 +- 0.037 bits\n",
      "test_I_pred: 1.105 +- 0.025 bits\n",
      "Model saved to these files:\n",
      "\tall_promoters_neighbor_ge_14.pickle\n",
      "\tall_promoters_neighbor_ge_14.h5\n",
      "-----------------------------\n",
      "Training 'all_promoters_pairwise_ge_14' model...\n",
      "\n",
      "N = 2,305 observations set as training data.\n",
      "Using 11.0% for validation.\n",
      "Data shuffled.\n",
      "Time to set data: 0.113 sec.\n"
     ]
    },
    {
     "data": {
      "application/vnd.jupyter.widget-view+json": {
       "model_id": "6bbb70acf00e4f328b07d41ab7744749",
       "version_major": 2,
       "version_minor": 0
      },
      "text/plain": [
       "0epoch [00:00, ?epoch/s]"
      ]
     },
     "metadata": {},
     "output_type": "display_data"
    },
    {
     "name": "stdout",
     "output_type": "stream",
     "text": [
      "Training time: 16.9 seconds\n",
      "test_I_var: 1.620 +- 0.038 bits\n",
      "test_I_pred: 1.791 +- 0.029 bits\n",
      "Model saved to these files:\n",
      "\tall_promoters_pairwise_ge_14.pickle\n",
      "\tall_promoters_pairwise_ge_14.h5\n",
      "-----------------------------\n",
      "Training 'all_promoters_blackbox_ge_14' model...\n",
      "\n",
      "N = 2,305 observations set as training data.\n",
      "Using 11.0% for validation.\n",
      "Data shuffled.\n",
      "Time to set data: 0.115 sec.\n"
     ]
    },
    {
     "data": {
      "application/vnd.jupyter.widget-view+json": {
       "model_id": "c044d33ba3594ecb82792e06dc2534cf",
       "version_major": 2,
       "version_minor": 0
      },
      "text/plain": [
       "0epoch [00:00, ?epoch/s]"
      ]
     },
     "metadata": {},
     "output_type": "display_data"
    },
    {
     "name": "stdout",
     "output_type": "stream",
     "text": [
      "Training time: 14.8 seconds\n",
      "test_I_var: 2.032 +- 0.037 bits\n",
      "test_I_pred: 2.835 +- 0.028 bits\n",
      "Model saved to these files:\n",
      "\tall_promoters_blackbox_ge_14.pickle\n",
      "\tall_promoters_blackbox_ge_14.h5\n",
      "Training 4 models: ['additive', 'neighbor', 'pairwise', 'blackbox']\n",
      "-----------------------------\n",
      "Training 'all_promoters_additive_ge_15' model...\n",
      "\n",
      "N = 2,305 observations set as training data.\n",
      "Using 11.0% for validation.\n",
      "Data shuffled.\n",
      "Time to set data: 0.196 sec.\n"
     ]
    },
    {
     "data": {
      "application/vnd.jupyter.widget-view+json": {
       "model_id": "2456bcb9312240848baf2959ba96b92c",
       "version_major": 2,
       "version_minor": 0
      },
      "text/plain": [
       "0epoch [00:00, ?epoch/s]"
      ]
     },
     "metadata": {},
     "output_type": "display_data"
    },
    {
     "name": "stdout",
     "output_type": "stream",
     "text": [
      "Training time: 24.2 seconds\n",
      "test_I_var: 0.571 +- 0.034 bits\n",
      "test_I_pred: 0.785 +- 0.021 bits\n",
      "Model saved to these files:\n",
      "\tall_promoters_additive_ge_15.pickle\n",
      "\tall_promoters_additive_ge_15.h5\n",
      "-----------------------------\n",
      "Training 'all_promoters_neighbor_ge_15' model...\n",
      "\n",
      "N = 2,305 observations set as training data.\n",
      "Using 11.0% for validation.\n",
      "Data shuffled.\n",
      "Time to set data: 0.132 sec.\n"
     ]
    },
    {
     "data": {
      "application/vnd.jupyter.widget-view+json": {
       "model_id": "22b79ddedf3b4bc195da4ac597d145f2",
       "version_major": 2,
       "version_minor": 0
      },
      "text/plain": [
       "0epoch [00:00, ?epoch/s]"
      ]
     },
     "metadata": {},
     "output_type": "display_data"
    },
    {
     "name": "stdout",
     "output_type": "stream",
     "text": [
      "Training time: 23.7 seconds\n",
      "test_I_var: 0.947 +- 0.038 bits\n",
      "test_I_pred: 1.082 +- 0.027 bits\n",
      "Model saved to these files:\n",
      "\tall_promoters_neighbor_ge_15.pickle\n",
      "\tall_promoters_neighbor_ge_15.h5\n",
      "-----------------------------\n",
      "Training 'all_promoters_pairwise_ge_15' model...\n",
      "\n",
      "N = 2,305 observations set as training data.\n",
      "Using 11.0% for validation.\n",
      "Data shuffled.\n",
      "Time to set data: 0.138 sec.\n"
     ]
    },
    {
     "data": {
      "application/vnd.jupyter.widget-view+json": {
       "model_id": "7b2033a0b42244ad897b39ab39c14713",
       "version_major": 2,
       "version_minor": 0
      },
      "text/plain": [
       "0epoch [00:00, ?epoch/s]"
      ]
     },
     "metadata": {},
     "output_type": "display_data"
    },
    {
     "name": "stdout",
     "output_type": "stream",
     "text": [
      "Training time: 15.7 seconds\n",
      "test_I_var: 1.628 +- 0.037 bits\n",
      "test_I_pred: 1.765 +- 0.027 bits\n",
      "Model saved to these files:\n",
      "\tall_promoters_pairwise_ge_15.pickle\n",
      "\tall_promoters_pairwise_ge_15.h5\n",
      "-----------------------------\n",
      "Training 'all_promoters_blackbox_ge_15' model...\n",
      "\n",
      "N = 2,305 observations set as training data.\n",
      "Using 11.0% for validation.\n",
      "Data shuffled.\n",
      "Time to set data: 0.133 sec.\n"
     ]
    },
    {
     "data": {
      "application/vnd.jupyter.widget-view+json": {
       "model_id": "a574c6f0f4da4cba89b59a3aca41a712",
       "version_major": 2,
       "version_minor": 0
      },
      "text/plain": [
       "0epoch [00:00, ?epoch/s]"
      ]
     },
     "metadata": {},
     "output_type": "display_data"
    },
    {
     "name": "stdout",
     "output_type": "stream",
     "text": [
      "Training time: 16.1 seconds\n",
      "test_I_var: 2.114 +- 0.037 bits\n",
      "test_I_pred: 2.871 +- 0.038 bits\n",
      "Model saved to these files:\n",
      "\tall_promoters_blackbox_ge_15.pickle\n",
      "\tall_promoters_blackbox_ge_15.h5\n",
      "Training 4 models: ['additive', 'neighbor', 'pairwise', 'blackbox']\n",
      "-----------------------------\n",
      "Training 'all_promoters_additive_ge_16' model...\n",
      "\n",
      "N = 2,305 observations set as training data.\n",
      "Using 11.0% for validation.\n",
      "Data shuffled.\n",
      "Time to set data: 0.132 sec.\n"
     ]
    },
    {
     "data": {
      "application/vnd.jupyter.widget-view+json": {
       "model_id": "dfea251eb19a40859113d547b3488b70",
       "version_major": 2,
       "version_minor": 0
      },
      "text/plain": [
       "0epoch [00:00, ?epoch/s]"
      ]
     },
     "metadata": {},
     "output_type": "display_data"
    },
    {
     "name": "stdout",
     "output_type": "stream",
     "text": [
      "Training time: 22.1 seconds\n",
      "test_I_var: 0.574 +- 0.031 bits\n",
      "test_I_pred: 0.782 +- 0.022 bits\n",
      "Model saved to these files:\n",
      "\tall_promoters_additive_ge_16.pickle\n",
      "\tall_promoters_additive_ge_16.h5\n",
      "-----------------------------\n",
      "Training 'all_promoters_neighbor_ge_16' model...\n",
      "\n",
      "N = 2,305 observations set as training data.\n",
      "Using 11.0% for validation.\n",
      "Data shuffled.\n",
      "Time to set data: 0.114 sec.\n"
     ]
    },
    {
     "data": {
      "application/vnd.jupyter.widget-view+json": {
       "model_id": "aec1159fc137422c96f67f56c98bac50",
       "version_major": 2,
       "version_minor": 0
      },
      "text/plain": [
       "0epoch [00:00, ?epoch/s]"
      ]
     },
     "metadata": {},
     "output_type": "display_data"
    },
    {
     "name": "stdout",
     "output_type": "stream",
     "text": [
      "Training time: 21.7 seconds\n",
      "test_I_var: 0.949 +- 0.040 bits\n",
      "test_I_pred: 1.081 +- 0.021 bits\n",
      "Model saved to these files:\n",
      "\tall_promoters_neighbor_ge_16.pickle\n",
      "\tall_promoters_neighbor_ge_16.h5\n",
      "-----------------------------\n",
      "Training 'all_promoters_pairwise_ge_16' model...\n",
      "\n",
      "N = 2,305 observations set as training data.\n",
      "Using 11.0% for validation.\n",
      "Data shuffled.\n",
      "Time to set data: 0.115 sec.\n"
     ]
    },
    {
     "data": {
      "application/vnd.jupyter.widget-view+json": {
       "model_id": "7cdaa93af2564e19b8cb192f835c3ae9",
       "version_major": 2,
       "version_minor": 0
      },
      "text/plain": [
       "0epoch [00:00, ?epoch/s]"
      ]
     },
     "metadata": {},
     "output_type": "display_data"
    },
    {
     "name": "stdout",
     "output_type": "stream",
     "text": [
      "Training time: 17.4 seconds\n",
      "test_I_var: 1.627 +- 0.038 bits\n",
      "test_I_pred: 1.773 +- 0.027 bits\n",
      "Model saved to these files:\n",
      "\tall_promoters_pairwise_ge_16.pickle\n",
      "\tall_promoters_pairwise_ge_16.h5\n",
      "-----------------------------\n",
      "Training 'all_promoters_blackbox_ge_16' model...\n",
      "\n",
      "N = 2,305 observations set as training data.\n",
      "Using 11.0% for validation.\n",
      "Data shuffled.\n",
      "Time to set data: 0.113 sec.\n"
     ]
    },
    {
     "data": {
      "application/vnd.jupyter.widget-view+json": {
       "model_id": "fa66fd288cc941bbb29f7d0004126f4d",
       "version_major": 2,
       "version_minor": 0
      },
      "text/plain": [
       "0epoch [00:00, ?epoch/s]"
      ]
     },
     "metadata": {},
     "output_type": "display_data"
    },
    {
     "name": "stdout",
     "output_type": "stream",
     "text": [
      "Training time: 13.9 seconds\n",
      "test_I_var: 1.786 +- 0.031 bits\n",
      "test_I_pred: 2.616 +- 0.027 bits\n",
      "Model saved to these files:\n",
      "\tall_promoters_blackbox_ge_16.pickle\n",
      "\tall_promoters_blackbox_ge_16.h5\n",
      "Training 4 models: ['additive', 'neighbor', 'pairwise', 'blackbox']\n",
      "-----------------------------\n",
      "Training 'all_promoters_additive_ge_17' model...\n",
      "\n",
      "N = 2,305 observations set as training data.\n",
      "Using 11.0% for validation.\n",
      "Data shuffled.\n",
      "Time to set data: 0.111 sec.\n"
     ]
    },
    {
     "data": {
      "application/vnd.jupyter.widget-view+json": {
       "model_id": "a0018a3bc12446a89d5baa1577079ad9",
       "version_major": 2,
       "version_minor": 0
      },
      "text/plain": [
       "0epoch [00:00, ?epoch/s]"
      ]
     },
     "metadata": {},
     "output_type": "display_data"
    },
    {
     "name": "stdout",
     "output_type": "stream",
     "text": [
      "Training time: 32.9 seconds\n",
      "test_I_var: 0.578 +- 0.030 bits\n",
      "test_I_pred: 0.786 +- 0.024 bits\n",
      "Model saved to these files:\n",
      "\tall_promoters_additive_ge_17.pickle\n",
      "\tall_promoters_additive_ge_17.h5\n",
      "-----------------------------\n",
      "Training 'all_promoters_neighbor_ge_17' model...\n",
      "\n",
      "N = 2,305 observations set as training data.\n",
      "Using 11.0% for validation.\n",
      "Data shuffled.\n",
      "Time to set data: 0.148 sec.\n"
     ]
    },
    {
     "data": {
      "application/vnd.jupyter.widget-view+json": {
       "model_id": "28265cbc6ad94c05b69f6290d184fa8f",
       "version_major": 2,
       "version_minor": 0
      },
      "text/plain": [
       "0epoch [00:00, ?epoch/s]"
      ]
     },
     "metadata": {},
     "output_type": "display_data"
    },
    {
     "name": "stdout",
     "output_type": "stream",
     "text": [
      "Training time: 24.2 seconds\n",
      "test_I_var: 0.964 +- 0.037 bits\n",
      "test_I_pred: 1.094 +- 0.022 bits\n",
      "Model saved to these files:\n",
      "\tall_promoters_neighbor_ge_17.pickle\n",
      "\tall_promoters_neighbor_ge_17.h5\n",
      "-----------------------------\n",
      "Training 'all_promoters_pairwise_ge_17' model...\n",
      "\n",
      "N = 2,305 observations set as training data.\n",
      "Using 11.0% for validation.\n",
      "Data shuffled.\n",
      "Time to set data: 0.119 sec.\n"
     ]
    },
    {
     "data": {
      "application/vnd.jupyter.widget-view+json": {
       "model_id": "b088c88c59f04a9ea55209b5b4961450",
       "version_major": 2,
       "version_minor": 0
      },
      "text/plain": [
       "0epoch [00:00, ?epoch/s]"
      ]
     },
     "metadata": {},
     "output_type": "display_data"
    },
    {
     "name": "stdout",
     "output_type": "stream",
     "text": [
      "Training time: 20.6 seconds\n",
      "test_I_var: 1.673 +- 0.036 bits\n",
      "test_I_pred: 1.796 +- 0.027 bits\n",
      "Model saved to these files:\n",
      "\tall_promoters_pairwise_ge_17.pickle\n",
      "\tall_promoters_pairwise_ge_17.h5\n",
      "-----------------------------\n",
      "Training 'all_promoters_blackbox_ge_17' model...\n",
      "\n",
      "N = 2,305 observations set as training data.\n",
      "Using 11.0% for validation.\n",
      "Data shuffled.\n",
      "Time to set data: 0.129 sec.\n"
     ]
    },
    {
     "data": {
      "application/vnd.jupyter.widget-view+json": {
       "model_id": "9dfdd78461ec4ba4ab48d6c0345c5d84",
       "version_major": 2,
       "version_minor": 0
      },
      "text/plain": [
       "0epoch [00:00, ?epoch/s]"
      ]
     },
     "metadata": {},
     "output_type": "display_data"
    },
    {
     "name": "stdout",
     "output_type": "stream",
     "text": [
      "Training time: 15.1 seconds\n",
      "test_I_var: 1.777 +- 0.032 bits\n",
      "test_I_pred: 2.794 +- 0.025 bits\n",
      "Model saved to these files:\n",
      "\tall_promoters_blackbox_ge_17.pickle\n",
      "\tall_promoters_blackbox_ge_17.h5\n",
      "Training 4 models: ['additive', 'neighbor', 'pairwise', 'blackbox']\n",
      "-----------------------------\n",
      "Training 'all_promoters_additive_ge_18' model...\n",
      "\n",
      "N = 2,305 observations set as training data.\n",
      "Using 11.0% for validation.\n",
      "Data shuffled.\n",
      "Time to set data: 0.128 sec.\n"
     ]
    },
    {
     "data": {
      "application/vnd.jupyter.widget-view+json": {
       "model_id": "9b4cf0d68acd4c49a72be3518c6c443f",
       "version_major": 2,
       "version_minor": 0
      },
      "text/plain": [
       "0epoch [00:00, ?epoch/s]"
      ]
     },
     "metadata": {},
     "output_type": "display_data"
    },
    {
     "name": "stdout",
     "output_type": "stream",
     "text": [
      "Training time: 50.6 seconds\n",
      "test_I_var: -0.120 +- 0.023 bits\n",
      "test_I_pred: 0.058 +- 0.016 bits\n",
      "Model saved to these files:\n",
      "\tall_promoters_additive_ge_18.pickle\n",
      "\tall_promoters_additive_ge_18.h5\n",
      "-----------------------------\n",
      "Training 'all_promoters_neighbor_ge_18' model...\n",
      "\n",
      "N = 2,305 observations set as training data.\n",
      "Using 11.0% for validation.\n",
      "Data shuffled.\n",
      "Time to set data: 0.319 sec.\n"
     ]
    },
    {
     "data": {
      "application/vnd.jupyter.widget-view+json": {
       "model_id": "8548fb9374f44b5a953adcdaf4406e28",
       "version_major": 2,
       "version_minor": 0
      },
      "text/plain": [
       "0epoch [00:00, ?epoch/s]"
      ]
     },
     "metadata": {},
     "output_type": "display_data"
    },
    {
     "name": "stdout",
     "output_type": "stream",
     "text": [
      "Training time: 27.5 seconds\n",
      "test_I_var: 0.928 +- 0.037 bits\n",
      "test_I_pred: 1.071 +- 0.027 bits\n",
      "Model saved to these files:\n",
      "\tall_promoters_neighbor_ge_18.pickle\n",
      "\tall_promoters_neighbor_ge_18.h5\n",
      "-----------------------------\n",
      "Training 'all_promoters_pairwise_ge_18' model...\n",
      "\n",
      "N = 2,305 observations set as training data.\n",
      "Using 11.0% for validation.\n",
      "Data shuffled.\n",
      "Time to set data: 0.113 sec.\n"
     ]
    },
    {
     "data": {
      "application/vnd.jupyter.widget-view+json": {
       "model_id": "75fc25bdc0324e87adad53fa30c57b94",
       "version_major": 2,
       "version_minor": 0
      },
      "text/plain": [
       "0epoch [00:00, ?epoch/s]"
      ]
     },
     "metadata": {},
     "output_type": "display_data"
    },
    {
     "name": "stdout",
     "output_type": "stream",
     "text": [
      "Training time: 20.5 seconds\n",
      "test_I_var: 1.677 +- 0.036 bits\n",
      "test_I_pred: 1.819 +- 0.021 bits\n",
      "Model saved to these files:\n",
      "\tall_promoters_pairwise_ge_18.pickle\n",
      "\tall_promoters_pairwise_ge_18.h5\n",
      "-----------------------------\n",
      "Training 'all_promoters_blackbox_ge_18' model...\n",
      "\n",
      "N = 2,305 observations set as training data.\n",
      "Using 11.0% for validation.\n",
      "Data shuffled.\n",
      "Time to set data: 0.119 sec.\n"
     ]
    },
    {
     "data": {
      "application/vnd.jupyter.widget-view+json": {
       "model_id": "c3efd5a93ca5442f9cd44c34f5f907ae",
       "version_major": 2,
       "version_minor": 0
      },
      "text/plain": [
       "0epoch [00:00, ?epoch/s]"
      ]
     },
     "metadata": {},
     "output_type": "display_data"
    },
    {
     "name": "stdout",
     "output_type": "stream",
     "text": [
      "Training time: 13.9 seconds\n",
      "test_I_var: 1.982 +- 0.034 bits\n",
      "test_I_pred: 2.830 +- 0.028 bits\n",
      "Model saved to these files:\n",
      "\tall_promoters_blackbox_ge_18.pickle\n",
      "\tall_promoters_blackbox_ge_18.h5\n",
      "Training 4 models: ['additive', 'neighbor', 'pairwise', 'blackbox']\n",
      "-----------------------------\n",
      "Training 'all_promoters_additive_ge_19' model...\n",
      "\n",
      "N = 2,305 observations set as training data.\n",
      "Using 11.0% for validation.\n",
      "Data shuffled.\n",
      "Time to set data: 0.147 sec.\n"
     ]
    },
    {
     "data": {
      "application/vnd.jupyter.widget-view+json": {
       "model_id": "45dccb834fdb474e8c759199f591c047",
       "version_major": 2,
       "version_minor": 0
      },
      "text/plain": [
       "0epoch [00:00, ?epoch/s]"
      ]
     },
     "metadata": {},
     "output_type": "display_data"
    },
    {
     "name": "stdout",
     "output_type": "stream",
     "text": [
      "Training time: 23.0 seconds\n",
      "test_I_var: 0.564 +- 0.031 bits\n",
      "test_I_pred: 0.777 +- 0.020 bits\n",
      "Model saved to these files:\n",
      "\tall_promoters_additive_ge_19.pickle\n",
      "\tall_promoters_additive_ge_19.h5\n",
      "-----------------------------\n",
      "Training 'all_promoters_neighbor_ge_19' model...\n",
      "\n",
      "N = 2,305 observations set as training data.\n",
      "Using 11.0% for validation.\n",
      "Data shuffled.\n",
      "Time to set data: 0.11 sec.\n"
     ]
    },
    {
     "data": {
      "application/vnd.jupyter.widget-view+json": {
       "model_id": "eca38a0b732b4196b13db0d795da6e3c",
       "version_major": 2,
       "version_minor": 0
      },
      "text/plain": [
       "0epoch [00:00, ?epoch/s]"
      ]
     },
     "metadata": {},
     "output_type": "display_data"
    },
    {
     "name": "stdout",
     "output_type": "stream",
     "text": [
      "Training time: 25.4 seconds\n",
      "test_I_var: 0.947 +- 0.037 bits\n",
      "test_I_pred: 1.090 +- 0.029 bits\n",
      "Model saved to these files:\n",
      "\tall_promoters_neighbor_ge_19.pickle\n",
      "\tall_promoters_neighbor_ge_19.h5\n",
      "-----------------------------\n",
      "Training 'all_promoters_pairwise_ge_19' model...\n",
      "\n",
      "N = 2,305 observations set as training data.\n",
      "Using 11.0% for validation.\n",
      "Data shuffled.\n",
      "Time to set data: 0.152 sec.\n"
     ]
    },
    {
     "data": {
      "application/vnd.jupyter.widget-view+json": {
       "model_id": "73ed90d029f344919fa37dcca020e79e",
       "version_major": 2,
       "version_minor": 0
      },
      "text/plain": [
       "0epoch [00:00, ?epoch/s]"
      ]
     },
     "metadata": {},
     "output_type": "display_data"
    },
    {
     "name": "stdout",
     "output_type": "stream",
     "text": [
      "Training time: 28.5 seconds\n",
      "test_I_var: 1.683 +- 0.036 bits\n",
      "test_I_pred: 1.807 +- 0.026 bits\n",
      "Model saved to these files:\n",
      "\tall_promoters_pairwise_ge_19.pickle\n",
      "\tall_promoters_pairwise_ge_19.h5\n",
      "-----------------------------\n",
      "Training 'all_promoters_blackbox_ge_19' model...\n",
      "\n",
      "N = 2,305 observations set as training data.\n",
      "Using 11.0% for validation.\n",
      "Data shuffled.\n",
      "Time to set data: 0.118 sec.\n"
     ]
    },
    {
     "data": {
      "application/vnd.jupyter.widget-view+json": {
       "model_id": "f3da3e875e4f427386ebcc6b82c25cfa",
       "version_major": 2,
       "version_minor": 0
      },
      "text/plain": [
       "0epoch [00:00, ?epoch/s]"
      ]
     },
     "metadata": {},
     "output_type": "display_data"
    },
    {
     "name": "stdout",
     "output_type": "stream",
     "text": [
      "Training time: 15.6 seconds\n",
      "test_I_var: 1.654 +- 0.032 bits\n",
      "test_I_pred: 2.569 +- 0.028 bits\n",
      "Model saved to these files:\n",
      "\tall_promoters_blackbox_ge_19.pickle\n",
      "\tall_promoters_blackbox_ge_19.h5\n",
      "Training 4 models: ['additive', 'neighbor', 'pairwise', 'blackbox']\n",
      "-----------------------------\n",
      "Training 'all_promoters_additive_ge_20' model...\n",
      "\n",
      "N = 2,305 observations set as training data.\n",
      "Using 11.0% for validation.\n",
      "Data shuffled.\n",
      "Time to set data: 0.114 sec.\n"
     ]
    },
    {
     "data": {
      "application/vnd.jupyter.widget-view+json": {
       "model_id": "1e8c591b7e6943d3b90f1af4d3a16366",
       "version_major": 2,
       "version_minor": 0
      },
      "text/plain": [
       "0epoch [00:00, ?epoch/s]"
      ]
     },
     "metadata": {},
     "output_type": "display_data"
    },
    {
     "name": "stdout",
     "output_type": "stream",
     "text": [
      "Training time: 44.9 seconds\n",
      "test_I_var: -0.129 +- 0.027 bits\n",
      "test_I_pred: 0.013 +- 0.013 bits\n",
      "Model saved to these files:\n",
      "\tall_promoters_additive_ge_20.pickle\n",
      "\tall_promoters_additive_ge_20.h5\n",
      "-----------------------------\n",
      "Training 'all_promoters_neighbor_ge_20' model...\n",
      "\n",
      "N = 2,305 observations set as training data.\n",
      "Using 11.0% for validation.\n",
      "Data shuffled.\n",
      "Time to set data: 0.174 sec.\n"
     ]
    },
    {
     "data": {
      "application/vnd.jupyter.widget-view+json": {
       "model_id": "60e3bdebda194d6980222540314579a3",
       "version_major": 2,
       "version_minor": 0
      },
      "text/plain": [
       "0epoch [00:00, ?epoch/s]"
      ]
     },
     "metadata": {},
     "output_type": "display_data"
    },
    {
     "name": "stdout",
     "output_type": "stream",
     "text": [
      "Training time: 28.9 seconds\n",
      "test_I_var: 0.935 +- 0.038 bits\n",
      "test_I_pred: 1.096 +- 0.019 bits\n",
      "Model saved to these files:\n",
      "\tall_promoters_neighbor_ge_20.pickle\n",
      "\tall_promoters_neighbor_ge_20.h5\n",
      "-----------------------------\n",
      "Training 'all_promoters_pairwise_ge_20' model...\n",
      "\n",
      "N = 2,305 observations set as training data.\n",
      "Using 11.0% for validation.\n",
      "Data shuffled.\n",
      "Time to set data: 0.137 sec.\n"
     ]
    },
    {
     "data": {
      "application/vnd.jupyter.widget-view+json": {
       "model_id": "2d49e3193f1c423097b0349e82931bbf",
       "version_major": 2,
       "version_minor": 0
      },
      "text/plain": [
       "0epoch [00:00, ?epoch/s]"
      ]
     },
     "metadata": {},
     "output_type": "display_data"
    },
    {
     "name": "stdout",
     "output_type": "stream",
     "text": [
      "Training time: 25.8 seconds\n",
      "test_I_var: 1.680 +- 0.037 bits\n",
      "test_I_pred: 1.832 +- 0.026 bits\n",
      "Model saved to these files:\n",
      "\tall_promoters_pairwise_ge_20.pickle\n",
      "\tall_promoters_pairwise_ge_20.h5\n",
      "-----------------------------\n",
      "Training 'all_promoters_blackbox_ge_20' model...\n",
      "\n",
      "N = 2,305 observations set as training data.\n",
      "Using 11.0% for validation.\n",
      "Data shuffled.\n",
      "Time to set data: 0.119 sec.\n"
     ]
    },
    {
     "data": {
      "application/vnd.jupyter.widget-view+json": {
       "model_id": "c1f9f0abf7154c119c9b467ff45da1c9",
       "version_major": 2,
       "version_minor": 0
      },
      "text/plain": [
       "0epoch [00:00, ?epoch/s]"
      ]
     },
     "metadata": {},
     "output_type": "display_data"
    },
    {
     "name": "stdout",
     "output_type": "stream",
     "text": [
      "Training time: 16.8 seconds\n",
      "test_I_var: 1.859 +- 0.033 bits\n",
      "test_I_pred: 2.694 +- 0.027 bits\n",
      "Model saved to these files:\n",
      "\tall_promoters_blackbox_ge_20.pickle\n",
      "\tall_promoters_blackbox_ge_20.h5\n",
      "Training 4 models: ['additive', 'neighbor', 'pairwise', 'blackbox']\n",
      "-----------------------------\n",
      "Training 'all_promoters_additive_ge_21' model...\n",
      "\n",
      "N = 2,305 observations set as training data.\n",
      "Using 11.0% for validation.\n",
      "Data shuffled.\n",
      "Time to set data: 0.133 sec.\n"
     ]
    },
    {
     "data": {
      "application/vnd.jupyter.widget-view+json": {
       "model_id": "8a687c53eac2485a8f29ae290a19954c",
       "version_major": 2,
       "version_minor": 0
      },
      "text/plain": [
       "0epoch [00:00, ?epoch/s]"
      ]
     },
     "metadata": {},
     "output_type": "display_data"
    },
    {
     "name": "stdout",
     "output_type": "stream",
     "text": [
      "Training time: 31.2 seconds\n",
      "test_I_var: 0.569 +- 0.033 bits\n",
      "test_I_pred: 0.784 +- 0.021 bits\n",
      "Model saved to these files:\n",
      "\tall_promoters_additive_ge_21.pickle\n",
      "\tall_promoters_additive_ge_21.h5\n",
      "-----------------------------\n",
      "Training 'all_promoters_neighbor_ge_21' model...\n",
      "\n",
      "N = 2,305 observations set as training data.\n",
      "Using 11.0% for validation.\n",
      "Data shuffled.\n",
      "Time to set data: 0.11 sec.\n"
     ]
    },
    {
     "data": {
      "application/vnd.jupyter.widget-view+json": {
       "model_id": "d824c7c839d74579829ab19954ce53b9",
       "version_major": 2,
       "version_minor": 0
      },
      "text/plain": [
       "0epoch [00:00, ?epoch/s]"
      ]
     },
     "metadata": {},
     "output_type": "display_data"
    },
    {
     "name": "stdout",
     "output_type": "stream",
     "text": [
      "Training time: 21.1 seconds\n",
      "test_I_var: 0.951 +- 0.039 bits\n",
      "test_I_pred: 1.090 +- 0.031 bits\n",
      "Model saved to these files:\n",
      "\tall_promoters_neighbor_ge_21.pickle\n",
      "\tall_promoters_neighbor_ge_21.h5\n",
      "-----------------------------\n",
      "Training 'all_promoters_pairwise_ge_21' model...\n",
      "\n",
      "N = 2,305 observations set as training data.\n",
      "Using 11.0% for validation.\n",
      "Data shuffled.\n",
      "Time to set data: 0.137 sec.\n"
     ]
    },
    {
     "data": {
      "application/vnd.jupyter.widget-view+json": {
       "model_id": "7541ae3182f041b088bf728cabcfffbe",
       "version_major": 2,
       "version_minor": 0
      },
      "text/plain": [
       "0epoch [00:00, ?epoch/s]"
      ]
     },
     "metadata": {},
     "output_type": "display_data"
    },
    {
     "name": "stdout",
     "output_type": "stream",
     "text": [
      "Training time: 20.6 seconds\n",
      "test_I_var: 1.662 +- 0.040 bits\n",
      "test_I_pred: 1.806 +- 0.025 bits\n",
      "Model saved to these files:\n",
      "\tall_promoters_pairwise_ge_21.pickle\n",
      "\tall_promoters_pairwise_ge_21.h5\n",
      "-----------------------------\n",
      "Training 'all_promoters_blackbox_ge_21' model...\n",
      "\n",
      "N = 2,305 observations set as training data.\n",
      "Using 11.0% for validation.\n",
      "Data shuffled.\n",
      "Time to set data: 0.141 sec.\n"
     ]
    },
    {
     "data": {
      "application/vnd.jupyter.widget-view+json": {
       "model_id": "f0e81842bfc14e07ac42d8d022c4cd27",
       "version_major": 2,
       "version_minor": 0
      },
      "text/plain": [
       "0epoch [00:00, ?epoch/s]"
      ]
     },
     "metadata": {},
     "output_type": "display_data"
    },
    {
     "name": "stdout",
     "output_type": "stream",
     "text": [
      "Training time: 13.7 seconds\n",
      "test_I_var: 1.767 +- 0.033 bits\n",
      "test_I_pred: 2.718 +- 0.040 bits\n",
      "Model saved to these files:\n",
      "\tall_promoters_blackbox_ge_21.pickle\n",
      "\tall_promoters_blackbox_ge_21.h5\n",
      "Training 4 models: ['additive', 'neighbor', 'pairwise', 'blackbox']\n",
      "-----------------------------\n",
      "Training 'all_promoters_additive_ge_22' model...\n",
      "\n",
      "N = 2,305 observations set as training data.\n",
      "Using 11.0% for validation.\n",
      "Data shuffled.\n",
      "Time to set data: 0.108 sec.\n"
     ]
    },
    {
     "data": {
      "application/vnd.jupyter.widget-view+json": {
       "model_id": "02b9b8965abb4dc48c03ac2352566c21",
       "version_major": 2,
       "version_minor": 0
      },
      "text/plain": [
       "0epoch [00:00, ?epoch/s]"
      ]
     },
     "metadata": {},
     "output_type": "display_data"
    },
    {
     "name": "stdout",
     "output_type": "stream",
     "text": [
      "Training time: 18.7 seconds\n",
      "test_I_var: 0.566 +- 0.030 bits\n",
      "test_I_pred: 0.771 +- 0.024 bits\n",
      "Model saved to these files:\n",
      "\tall_promoters_additive_ge_22.pickle\n",
      "\tall_promoters_additive_ge_22.h5\n",
      "-----------------------------\n",
      "Training 'all_promoters_neighbor_ge_22' model...\n",
      "\n",
      "N = 2,305 observations set as training data.\n",
      "Using 11.0% for validation.\n",
      "Data shuffled.\n",
      "Time to set data: 0.113 sec.\n"
     ]
    },
    {
     "data": {
      "application/vnd.jupyter.widget-view+json": {
       "model_id": "3809895bbd4242fbaa2505a329218047",
       "version_major": 2,
       "version_minor": 0
      },
      "text/plain": [
       "0epoch [00:00, ?epoch/s]"
      ]
     },
     "metadata": {},
     "output_type": "display_data"
    },
    {
     "name": "stdout",
     "output_type": "stream",
     "text": [
      "Training time: 20.4 seconds\n",
      "test_I_var: 0.926 +- 0.033 bits\n",
      "test_I_pred: 1.112 +- 0.027 bits\n",
      "Model saved to these files:\n",
      "\tall_promoters_neighbor_ge_22.pickle\n",
      "\tall_promoters_neighbor_ge_22.h5\n",
      "-----------------------------\n",
      "Training 'all_promoters_pairwise_ge_22' model...\n",
      "\n",
      "N = 2,305 observations set as training data.\n",
      "Using 11.0% for validation.\n",
      "Data shuffled.\n",
      "Time to set data: 0.143 sec.\n"
     ]
    },
    {
     "data": {
      "application/vnd.jupyter.widget-view+json": {
       "model_id": "2ddbde01e1174626847c18ef1def9a0a",
       "version_major": 2,
       "version_minor": 0
      },
      "text/plain": [
       "0epoch [00:00, ?epoch/s]"
      ]
     },
     "metadata": {},
     "output_type": "display_data"
    },
    {
     "name": "stdout",
     "output_type": "stream",
     "text": [
      "Training time: 21.9 seconds\n",
      "test_I_var: 1.682 +- 0.035 bits\n",
      "test_I_pred: 1.807 +- 0.024 bits\n",
      "Model saved to these files:\n",
      "\tall_promoters_pairwise_ge_22.pickle\n",
      "\tall_promoters_pairwise_ge_22.h5\n",
      "-----------------------------\n",
      "Training 'all_promoters_blackbox_ge_22' model...\n",
      "\n",
      "N = 2,305 observations set as training data.\n",
      "Using 11.0% for validation.\n",
      "Data shuffled.\n",
      "Time to set data: 0.123 sec.\n"
     ]
    },
    {
     "data": {
      "application/vnd.jupyter.widget-view+json": {
       "model_id": "8d0bd8938bae4c9484b0c705c2f21ca6",
       "version_major": 2,
       "version_minor": 0
      },
      "text/plain": [
       "0epoch [00:00, ?epoch/s]"
      ]
     },
     "metadata": {},
     "output_type": "display_data"
    },
    {
     "name": "stdout",
     "output_type": "stream",
     "text": [
      "Training time: 12.7 seconds\n",
      "test_I_var: 1.692 +- 0.035 bits\n",
      "test_I_pred: 2.599 +- 0.032 bits\n",
      "Model saved to these files:\n",
      "\tall_promoters_blackbox_ge_22.pickle\n",
      "\tall_promoters_blackbox_ge_22.h5\n",
      "Training 4 models: ['additive', 'neighbor', 'pairwise', 'blackbox']\n",
      "-----------------------------\n",
      "Training 'all_promoters_additive_ge_23' model...\n",
      "\n",
      "N = 2,305 observations set as training data.\n",
      "Using 11.0% for validation.\n",
      "Data shuffled.\n",
      "Time to set data: 0.166 sec.\n"
     ]
    },
    {
     "data": {
      "application/vnd.jupyter.widget-view+json": {
       "model_id": "17f0f2ad8e8440b78869d2e072ffdd23",
       "version_major": 2,
       "version_minor": 0
      },
      "text/plain": [
       "0epoch [00:00, ?epoch/s]"
      ]
     },
     "metadata": {},
     "output_type": "display_data"
    },
    {
     "name": "stdout",
     "output_type": "stream",
     "text": [
      "Training time: 54.9 seconds\n",
      "test_I_var: 0.552 +- 0.034 bits\n",
      "test_I_pred: 0.783 +- 0.020 bits\n",
      "Model saved to these files:\n",
      "\tall_promoters_additive_ge_23.pickle\n",
      "\tall_promoters_additive_ge_23.h5\n",
      "-----------------------------\n",
      "Training 'all_promoters_neighbor_ge_23' model...\n",
      "\n",
      "N = 2,305 observations set as training data.\n",
      "Using 11.0% for validation.\n",
      "Data shuffled.\n",
      "Time to set data: 0.116 sec.\n"
     ]
    },
    {
     "data": {
      "application/vnd.jupyter.widget-view+json": {
       "model_id": "c895187a784e455c9d21edcecbca1ee0",
       "version_major": 2,
       "version_minor": 0
      },
      "text/plain": [
       "0epoch [00:00, ?epoch/s]"
      ]
     },
     "metadata": {},
     "output_type": "display_data"
    },
    {
     "name": "stdout",
     "output_type": "stream",
     "text": [
      "Training time: 29.2 seconds\n",
      "test_I_var: 0.923 +- 0.037 bits\n",
      "test_I_pred: 1.075 +- 0.034 bits\n",
      "Model saved to these files:\n",
      "\tall_promoters_neighbor_ge_23.pickle\n",
      "\tall_promoters_neighbor_ge_23.h5\n",
      "-----------------------------\n",
      "Training 'all_promoters_pairwise_ge_23' model...\n",
      "\n",
      "N = 2,305 observations set as training data.\n",
      "Using 11.0% for validation.\n",
      "Data shuffled.\n",
      "Time to set data: 0.129 sec.\n"
     ]
    },
    {
     "data": {
      "application/vnd.jupyter.widget-view+json": {
       "model_id": "e0822cfd1f6e4f48bcae779d99098dcd",
       "version_major": 2,
       "version_minor": 0
      },
      "text/plain": [
       "0epoch [00:00, ?epoch/s]"
      ]
     },
     "metadata": {},
     "output_type": "display_data"
    },
    {
     "name": "stdout",
     "output_type": "stream",
     "text": [
      "Training time: 23.8 seconds\n",
      "test_I_var: 1.676 +- 0.038 bits\n",
      "test_I_pred: 1.825 +- 0.027 bits\n",
      "Model saved to these files:\n",
      "\tall_promoters_pairwise_ge_23.pickle\n",
      "\tall_promoters_pairwise_ge_23.h5\n",
      "-----------------------------\n",
      "Training 'all_promoters_blackbox_ge_23' model...\n",
      "\n",
      "N = 2,305 observations set as training data.\n",
      "Using 11.0% for validation.\n",
      "Data shuffled.\n",
      "Time to set data: 0.127 sec.\n"
     ]
    },
    {
     "data": {
      "application/vnd.jupyter.widget-view+json": {
       "model_id": "db08a9d4e57545bfaeb5d21ea5ff54ef",
       "version_major": 2,
       "version_minor": 0
      },
      "text/plain": [
       "0epoch [00:00, ?epoch/s]"
      ]
     },
     "metadata": {},
     "output_type": "display_data"
    },
    {
     "name": "stdout",
     "output_type": "stream",
     "text": [
      "Training time: 13.6 seconds\n",
      "test_I_var: 1.891 +- 0.030 bits\n",
      "test_I_pred: 2.734 +- 0.027 bits\n",
      "Model saved to these files:\n",
      "\tall_promoters_blackbox_ge_23.pickle\n",
      "\tall_promoters_blackbox_ge_23.h5\n",
      "Training 4 models: ['additive', 'neighbor', 'pairwise', 'blackbox']\n",
      "-----------------------------\n",
      "Training 'all_promoters_additive_ge_24' model...\n",
      "\n",
      "N = 2,305 observations set as training data.\n",
      "Using 11.0% for validation.\n",
      "Data shuffled.\n",
      "Time to set data: 0.119 sec.\n"
     ]
    },
    {
     "data": {
      "application/vnd.jupyter.widget-view+json": {
       "model_id": "e2f9b613afb04bc4acee84ed4a515f9b",
       "version_major": 2,
       "version_minor": 0
      },
      "text/plain": [
       "0epoch [00:00, ?epoch/s]"
      ]
     },
     "metadata": {},
     "output_type": "display_data"
    },
    {
     "name": "stdout",
     "output_type": "stream",
     "text": [
      "Training time: 36.2 seconds\n",
      "test_I_var: 0.581 +- 0.033 bits\n",
      "test_I_pred: 0.782 +- 0.021 bits\n",
      "Model saved to these files:\n",
      "\tall_promoters_additive_ge_24.pickle\n",
      "\tall_promoters_additive_ge_24.h5\n",
      "-----------------------------\n",
      "Training 'all_promoters_neighbor_ge_24' model...\n",
      "\n",
      "N = 2,305 observations set as training data.\n",
      "Using 11.0% for validation.\n",
      "Data shuffled.\n",
      "Time to set data: 0.116 sec.\n"
     ]
    },
    {
     "data": {
      "application/vnd.jupyter.widget-view+json": {
       "model_id": "e26bd04a44a84f5caf57746a14a8aa4d",
       "version_major": 2,
       "version_minor": 0
      },
      "text/plain": [
       "0epoch [00:00, ?epoch/s]"
      ]
     },
     "metadata": {},
     "output_type": "display_data"
    },
    {
     "name": "stdout",
     "output_type": "stream",
     "text": [
      "Training time: 29.4 seconds\n",
      "test_I_var: 0.951 +- 0.043 bits\n",
      "test_I_pred: 1.114 +- 0.021 bits\n",
      "Model saved to these files:\n",
      "\tall_promoters_neighbor_ge_24.pickle\n",
      "\tall_promoters_neighbor_ge_24.h5\n",
      "-----------------------------\n",
      "Training 'all_promoters_pairwise_ge_24' model...\n",
      "\n",
      "N = 2,305 observations set as training data.\n",
      "Using 11.0% for validation.\n",
      "Data shuffled.\n",
      "Time to set data: 0.117 sec.\n"
     ]
    },
    {
     "data": {
      "application/vnd.jupyter.widget-view+json": {
       "model_id": "5185b911e43b4336a9a9b74ecf4bec4c",
       "version_major": 2,
       "version_minor": 0
      },
      "text/plain": [
       "0epoch [00:00, ?epoch/s]"
      ]
     },
     "metadata": {},
     "output_type": "display_data"
    },
    {
     "name": "stdout",
     "output_type": "stream",
     "text": [
      "Training time: 20.9 seconds\n",
      "test_I_var: 1.691 +- 0.038 bits\n",
      "test_I_pred: 1.803 +- 0.034 bits\n",
      "Model saved to these files:\n",
      "\tall_promoters_pairwise_ge_24.pickle\n",
      "\tall_promoters_pairwise_ge_24.h5\n",
      "-----------------------------\n",
      "Training 'all_promoters_blackbox_ge_24' model...\n",
      "\n",
      "N = 2,305 observations set as training data.\n",
      "Using 11.0% for validation.\n",
      "Data shuffled.\n",
      "Time to set data: 0.12 sec.\n"
     ]
    },
    {
     "data": {
      "application/vnd.jupyter.widget-view+json": {
       "model_id": "8adb1f22e84f4c339d2fdb9e20250125",
       "version_major": 2,
       "version_minor": 0
      },
      "text/plain": [
       "0epoch [00:00, ?epoch/s]"
      ]
     },
     "metadata": {},
     "output_type": "display_data"
    },
    {
     "name": "stdout",
     "output_type": "stream",
     "text": [
      "Training time: 13.4 seconds\n",
      "test_I_var: 1.703 +- 0.033 bits\n",
      "test_I_pred: 2.636 +- 0.028 bits\n",
      "Model saved to these files:\n",
      "\tall_promoters_blackbox_ge_24.pickle\n",
      "\tall_promoters_blackbox_ge_24.h5\n",
      "Done!\n"
     ]
    }
   ],
   "source": [
    "# train on all results\n",
    "# Iterate over types of G-P maps\n",
    "\n",
    "Data_file = open(\"CRX_NRL_trainval.pkl\", \"rb\")\n",
    "trainval_df = pickle.load(Data_file)\n",
    "Data_file.close()\n",
    "Test_data_file = open(\"CRX_NRL_test.pkl\", \"rb\")\n",
    "test_df = pickle.load(Test_data_file)\n",
    "Test_data_file.close()\n",
    "info_df = pd.DataFrame(columns=['name', 'gpmap', 'metric', 'I', 'dI'], index = [\"additive\", \"neighbor\", \"pairwise\", \"blackbox\"])\n",
    "\n",
    "\n",
    "gpmap_types = ['additive','neighbor','pairwise','blackbox']\n",
    "for i in range(25):\n",
    "    random.seed(i)\n",
    "    np.random.seed(i) \n",
    "    tf.random.set_seed(i)\n",
    "    print(f'Training {len(gpmap_types)} models: {gpmap_types}')\n",
    "    for gpmap_type in gpmap_types:\n",
    "\n",
    "        # Set model name\n",
    "        model_name = f'all_promoters_{gpmap_type}_ge_{i}'\n",
    "        print('-----------------------------')\n",
    "        print(f\"Training '{model_name}' model...\\n\")\n",
    "\n",
    "        # Copy keyword arguments\n",
    "        model_kwargs = default_model_kwargs.copy()\n",
    "        fit_kwargs = default_fit_kwargs.copy()\n",
    "\n",
    "        # Modify keyword arguments based on G-P map being trained\n",
    "        # Note: the need for different hyperparameters, such as batch_size\n",
    "        # and learning_rate, was found by trial and error.\n",
    "        if gpmap_type=='additive': pass;\n",
    "        elif gpmap_type=='neighbor': pass;\n",
    "        elif gpmap_type=='pairwise':\n",
    "            fit_kwargs['batch_size'] = 50\n",
    "        elif gpmap_type=='blackbox':\n",
    "            model_kwargs['gpmap_kwargs'] = {'hidden_layer_sizes':[10]*5,\n",
    "                                            'features':'pairwise'}\n",
    "            fit_kwargs['learning_rate'] = 0.0005\n",
    "            fit_kwargs['batch_size'] = 50\n",
    "            fit_kwargs['early_stopping_patience'] = 10\n",
    "\n",
    "        # Instantiate model using the keyword arguments in model_kwargs dict\n",
    "        model = mavenn.Model(gpmap_type=gpmap_type, **model_kwargs)\n",
    "\n",
    "        # Set training data\n",
    "        model.set_data(x=trainval_df['Sequence'],\n",
    "                       y=trainval_df['Expression'],\n",
    "                       validation_flags=trainval_df['validation'])\n",
    "    \n",
    "        # Train model using the keyword arguments in fig_kwargs dict\n",
    "        model.fit(**fit_kwargs)\n",
    "\n",
    "        # Compute variational information on test data\n",
    "        I_var, dI_var =  model.I_variational(x=test_df['Sequence'], y=test_df['Expression'])\n",
    "        print(f'test_I_var: {I_var:.3f} +- {dI_var:.3f} bits')\n",
    "\n",
    "        # Compute predictive information on test data\n",
    "        I_pred, dI_pred = model.I_predictive(x=test_df['Sequence'], y=test_df['Expression'])\n",
    "        print(f'test_I_pred: {I_pred:.3f} +- {dI_pred:.3f} bits')\n",
    "\n",
    "        # Save model to file\n",
    "        model.save(model_name)\n",
    "\n",
    "print('Done!')"
   ]
  },
  {
   "cell_type": "code",
   "execution_count": 6,
   "id": "468988a6",
   "metadata": {},
   "outputs": [
    {
     "data": {
      "text/html": [
       "<div>\n",
       "<style scoped>\n",
       "    .dataframe tbody tr th:only-of-type {\n",
       "        vertical-align: middle;\n",
       "    }\n",
       "\n",
       "    .dataframe tbody tr th {\n",
       "        vertical-align: top;\n",
       "    }\n",
       "\n",
       "    .dataframe thead th {\n",
       "        text-align: right;\n",
       "    }\n",
       "</style>\n",
       "<table border=\"1\" class=\"dataframe\">\n",
       "  <thead>\n",
       "    <tr style=\"text-align: right;\">\n",
       "      <th></th>\n",
       "      <th>synthetic_promoter</th>\n",
       "      <th>Rho_basal_wt</th>\n",
       "      <th>Rho_basal_crxnull</th>\n",
       "      <th>hsp68_basal_wt</th>\n",
       "      <th>NRL_motif</th>\n",
       "      <th>CRX_affinity_score</th>\n",
       "    </tr>\n",
       "  </thead>\n",
       "  <tbody>\n",
       "    <tr>\n",
       "      <th>0</th>\n",
       "      <td>OOOO</td>\n",
       "      <td>0.109011</td>\n",
       "      <td>-3.566171</td>\n",
       "      <td>0.021857</td>\n",
       "      <td>0</td>\n",
       "      <td>0.000000</td>\n",
       "    </tr>\n",
       "    <tr>\n",
       "      <th>1</th>\n",
       "      <td>OOOc</td>\n",
       "      <td>0.559031</td>\n",
       "      <td>-0.843686</td>\n",
       "      <td>0.023614</td>\n",
       "      <td>0</td>\n",
       "      <td>0.999877</td>\n",
       "    </tr>\n",
       "    <tr>\n",
       "      <th>2</th>\n",
       "      <td>OOOC</td>\n",
       "      <td>0.570657</td>\n",
       "      <td>-0.908113</td>\n",
       "      <td>0.094922</td>\n",
       "      <td>0</td>\n",
       "      <td>0.999877</td>\n",
       "    </tr>\n",
       "    <tr>\n",
       "      <th>3</th>\n",
       "      <td>OOOn</td>\n",
       "      <td>0.556231</td>\n",
       "      <td>-1.350185</td>\n",
       "      <td>0.011144</td>\n",
       "      <td>1</td>\n",
       "      <td>0.000000</td>\n",
       "    </tr>\n",
       "    <tr>\n",
       "      <th>4</th>\n",
       "      <td>OOON</td>\n",
       "      <td>0.566104</td>\n",
       "      <td>-1.652386</td>\n",
       "      <td>0.031881</td>\n",
       "      <td>1</td>\n",
       "      <td>0.000000</td>\n",
       "    </tr>\n",
       "    <tr>\n",
       "      <th>...</th>\n",
       "      <td>...</td>\n",
       "      <td>...</td>\n",
       "      <td>...</td>\n",
       "      <td>...</td>\n",
       "      <td>...</td>\n",
       "      <td>...</td>\n",
       "    </tr>\n",
       "    <tr>\n",
       "      <th>1286</th>\n",
       "      <td>xxXx</td>\n",
       "      <td>0.248542</td>\n",
       "      <td>-1.496065</td>\n",
       "      <td>0.060946</td>\n",
       "      <td>0</td>\n",
       "      <td>0.299828</td>\n",
       "    </tr>\n",
       "    <tr>\n",
       "      <th>1287</th>\n",
       "      <td>XXxx</td>\n",
       "      <td>0.671732</td>\n",
       "      <td>-0.221630</td>\n",
       "      <td>0.089332</td>\n",
       "      <td>0</td>\n",
       "      <td>0.299828</td>\n",
       "    </tr>\n",
       "    <tr>\n",
       "      <th>1288</th>\n",
       "      <td>XXxX</td>\n",
       "      <td>0.539617</td>\n",
       "      <td>-0.694057</td>\n",
       "      <td>0.018679</td>\n",
       "      <td>0</td>\n",
       "      <td>0.299828</td>\n",
       "    </tr>\n",
       "    <tr>\n",
       "      <th>1289</th>\n",
       "      <td>XXXx</td>\n",
       "      <td>0.484277</td>\n",
       "      <td>-0.661881</td>\n",
       "      <td>0.025510</td>\n",
       "      <td>0</td>\n",
       "      <td>0.299828</td>\n",
       "    </tr>\n",
       "    <tr>\n",
       "      <th>1290</th>\n",
       "      <td>XXXX</td>\n",
       "      <td>0.928659</td>\n",
       "      <td>-0.173015</td>\n",
       "      <td>0.011849</td>\n",
       "      <td>0</td>\n",
       "      <td>0.299828</td>\n",
       "    </tr>\n",
       "  </tbody>\n",
       "</table>\n",
       "<p>1291 rows × 6 columns</p>\n",
       "</div>"
      ],
      "text/plain": [
       "     synthetic_promoter  Rho_basal_wt  Rho_basal_crxnull  hsp68_basal_wt  \\\n",
       "0                  OOOO      0.109011          -3.566171        0.021857   \n",
       "1                  OOOc      0.559031          -0.843686        0.023614   \n",
       "2                  OOOC      0.570657          -0.908113        0.094922   \n",
       "3                  OOOn      0.556231          -1.350185        0.011144   \n",
       "4                  OOON      0.566104          -1.652386        0.031881   \n",
       "...                 ...           ...                ...             ...   \n",
       "1286               xxXx      0.248542          -1.496065        0.060946   \n",
       "1287               XXxx      0.671732          -0.221630        0.089332   \n",
       "1288               XXxX      0.539617          -0.694057        0.018679   \n",
       "1289               XXXx      0.484277          -0.661881        0.025510   \n",
       "1290               XXXX      0.928659          -0.173015        0.011849   \n",
       "\n",
       "      NRL_motif  CRX_affinity_score  \n",
       "0             0            0.000000  \n",
       "1             0            0.999877  \n",
       "2             0            0.999877  \n",
       "3             1            0.000000  \n",
       "4             1            0.000000  \n",
       "...         ...                 ...  \n",
       "1286          0            0.299828  \n",
       "1287          0            0.299828  \n",
       "1288          0            0.299828  \n",
       "1289          0            0.299828  \n",
       "1290          0            0.299828  \n",
       "\n",
       "[1291 rows x 6 columns]"
      ]
     },
     "execution_count": 6,
     "metadata": {},
     "output_type": "execute_result"
    }
   ],
   "source": [
    "# Jamie's synthetic CRX reporters in CRX null retina\n",
    "\n",
    "# Load data\n",
    "Data = pd.read_csv(\"celrep_3189_mmc4.txt\", sep = '\\t')\n",
    "\n",
    "# Reencode binding site arrangements so that all sequences are the same length (use O to pad)\n",
    "# and each binding site is one character\n",
    "max_length = 4\n",
    "Padded_sequences = []\n",
    "for sequence in Data['synthetic_promoter']:\n",
    "    if sequence == \"basal_only\":\n",
    "        Padded_sequence = \"OOOO\"\n",
    "    else:\n",
    "        Padded_sequence = \"\".join(['O']*(max_length - len(sequence))) + sequence \n",
    "    Padded_sequences.append(Padded_sequence)\n",
    "Data['synthetic_promoter'] = Padded_sequences\n",
    "Data['Rho_basal_crxnull'] = np.log(Data['Rho_basal_crxnull'])\n",
    "Data"
   ]
  },
  {
   "cell_type": "code",
   "execution_count": 7,
   "id": "95974388",
   "metadata": {},
   "outputs": [
    {
     "name": "stdout",
     "output_type": "stream",
     "text": [
      "Sequence length: 4 binding sites\n",
      "Training set   :    1,031 observations (  79.86%)\n",
      "Validation set :      139 observations (  10.77%)\n",
      "Test set       :      121 observations (   9.37%)\n",
      "-------------------------------------------------\n",
      "Total dataset  :    1,291 observations ( 100.00%)\n",
      "\n",
      "\n",
      "trainval_df:\n"
     ]
    },
    {
     "data": {
      "text/html": [
       "<div>\n",
       "<style scoped>\n",
       "    .dataframe tbody tr th:only-of-type {\n",
       "        vertical-align: middle;\n",
       "    }\n",
       "\n",
       "    .dataframe tbody tr th {\n",
       "        vertical-align: top;\n",
       "    }\n",
       "\n",
       "    .dataframe thead th {\n",
       "        text-align: right;\n",
       "    }\n",
       "</style>\n",
       "<table border=\"1\" class=\"dataframe\">\n",
       "  <thead>\n",
       "    <tr style=\"text-align: right;\">\n",
       "      <th></th>\n",
       "      <th>validation</th>\n",
       "      <th>synthetic_promoter</th>\n",
       "      <th>Rho_basal_wt</th>\n",
       "      <th>Rho_basal_crxnull</th>\n",
       "      <th>hsp68_basal_wt</th>\n",
       "      <th>NRL_motif</th>\n",
       "      <th>CRX_affinity_score</th>\n",
       "    </tr>\n",
       "  </thead>\n",
       "  <tbody>\n",
       "    <tr>\n",
       "      <th>0</th>\n",
       "      <td>False</td>\n",
       "      <td>OOOO</td>\n",
       "      <td>0.109011</td>\n",
       "      <td>-3.566171</td>\n",
       "      <td>0.021857</td>\n",
       "      <td>0</td>\n",
       "      <td>0.000000</td>\n",
       "    </tr>\n",
       "    <tr>\n",
       "      <th>1</th>\n",
       "      <td>False</td>\n",
       "      <td>OOOc</td>\n",
       "      <td>0.559031</td>\n",
       "      <td>-0.843686</td>\n",
       "      <td>0.023614</td>\n",
       "      <td>0</td>\n",
       "      <td>0.999877</td>\n",
       "    </tr>\n",
       "    <tr>\n",
       "      <th>2</th>\n",
       "      <td>True</td>\n",
       "      <td>OOOC</td>\n",
       "      <td>0.570657</td>\n",
       "      <td>-0.908113</td>\n",
       "      <td>0.094922</td>\n",
       "      <td>0</td>\n",
       "      <td>0.999877</td>\n",
       "    </tr>\n",
       "    <tr>\n",
       "      <th>3</th>\n",
       "      <td>False</td>\n",
       "      <td>OOOn</td>\n",
       "      <td>0.556231</td>\n",
       "      <td>-1.350185</td>\n",
       "      <td>0.011144</td>\n",
       "      <td>1</td>\n",
       "      <td>0.000000</td>\n",
       "    </tr>\n",
       "    <tr>\n",
       "      <th>4</th>\n",
       "      <td>True</td>\n",
       "      <td>OOON</td>\n",
       "      <td>0.566104</td>\n",
       "      <td>-1.652386</td>\n",
       "      <td>0.031881</td>\n",
       "      <td>1</td>\n",
       "      <td>0.000000</td>\n",
       "    </tr>\n",
       "    <tr>\n",
       "      <th>...</th>\n",
       "      <td>...</td>\n",
       "      <td>...</td>\n",
       "      <td>...</td>\n",
       "      <td>...</td>\n",
       "      <td>...</td>\n",
       "      <td>...</td>\n",
       "      <td>...</td>\n",
       "    </tr>\n",
       "    <tr>\n",
       "      <th>1165</th>\n",
       "      <td>False</td>\n",
       "      <td>xxXx</td>\n",
       "      <td>0.248542</td>\n",
       "      <td>-1.496065</td>\n",
       "      <td>0.060946</td>\n",
       "      <td>0</td>\n",
       "      <td>0.299828</td>\n",
       "    </tr>\n",
       "    <tr>\n",
       "      <th>1166</th>\n",
       "      <td>False</td>\n",
       "      <td>XXxx</td>\n",
       "      <td>0.671732</td>\n",
       "      <td>-0.221630</td>\n",
       "      <td>0.089332</td>\n",
       "      <td>0</td>\n",
       "      <td>0.299828</td>\n",
       "    </tr>\n",
       "    <tr>\n",
       "      <th>1167</th>\n",
       "      <td>False</td>\n",
       "      <td>XXxX</td>\n",
       "      <td>0.539617</td>\n",
       "      <td>-0.694057</td>\n",
       "      <td>0.018679</td>\n",
       "      <td>0</td>\n",
       "      <td>0.299828</td>\n",
       "    </tr>\n",
       "    <tr>\n",
       "      <th>1168</th>\n",
       "      <td>False</td>\n",
       "      <td>XXXx</td>\n",
       "      <td>0.484277</td>\n",
       "      <td>-0.661881</td>\n",
       "      <td>0.025510</td>\n",
       "      <td>0</td>\n",
       "      <td>0.299828</td>\n",
       "    </tr>\n",
       "    <tr>\n",
       "      <th>1169</th>\n",
       "      <td>False</td>\n",
       "      <td>XXXX</td>\n",
       "      <td>0.928659</td>\n",
       "      <td>-0.173015</td>\n",
       "      <td>0.011849</td>\n",
       "      <td>0</td>\n",
       "      <td>0.299828</td>\n",
       "    </tr>\n",
       "  </tbody>\n",
       "</table>\n",
       "<p>1170 rows × 7 columns</p>\n",
       "</div>"
      ],
      "text/plain": [
       "      validation synthetic_promoter  Rho_basal_wt  Rho_basal_crxnull  \\\n",
       "0          False               OOOO      0.109011          -3.566171   \n",
       "1          False               OOOc      0.559031          -0.843686   \n",
       "2           True               OOOC      0.570657          -0.908113   \n",
       "3          False               OOOn      0.556231          -1.350185   \n",
       "4           True               OOON      0.566104          -1.652386   \n",
       "...          ...                ...           ...                ...   \n",
       "1165       False               xxXx      0.248542          -1.496065   \n",
       "1166       False               XXxx      0.671732          -0.221630   \n",
       "1167       False               XXxX      0.539617          -0.694057   \n",
       "1168       False               XXXx      0.484277          -0.661881   \n",
       "1169       False               XXXX      0.928659          -0.173015   \n",
       "\n",
       "      hsp68_basal_wt  NRL_motif  CRX_affinity_score  \n",
       "0           0.021857          0            0.000000  \n",
       "1           0.023614          0            0.999877  \n",
       "2           0.094922          0            0.999877  \n",
       "3           0.011144          1            0.000000  \n",
       "4           0.031881          1            0.000000  \n",
       "...              ...        ...                 ...  \n",
       "1165        0.060946          0            0.299828  \n",
       "1166        0.089332          0            0.299828  \n",
       "1167        0.018679          0            0.299828  \n",
       "1168        0.025510          0            0.299828  \n",
       "1169        0.011849          0            0.299828  \n",
       "\n",
       "[1170 rows x 7 columns]"
      ]
     },
     "execution_count": 7,
     "metadata": {},
     "output_type": "execute_result"
    }
   ],
   "source": [
    "# Assign data to training, validation, and test sets\n",
    "group = []\n",
    "for i in range(len(Data)):\n",
    "    group_num = random.random()\n",
    "    if group_num < 0.1:\n",
    "        group.append(\"test\")\n",
    "    elif group_num < 0.2:\n",
    "        group.append(\"validation\")\n",
    "    else:\n",
    "        group.append(\"training\")\n",
    "Data['set'] = group\n",
    "\n",
    "# Get and report sequence length\n",
    "L = len(Data.loc[0,'synthetic_promoter'])\n",
    "print(f'Sequence length: {L:d} binding sites')\n",
    "\n",
    "# Split dataset\n",
    "trainval_df, test_df = mavenn.split_dataset(Data)\n",
    "\n",
    "Data_file = open(\"CRX_null_trainval.pkl\", \"wb\")\n",
    "pickle.dump(trainval_df, Data_file)\n",
    "Data_file.close()\n",
    "\n",
    "Data_file = open(\"CRX_null_test.pkl\", \"wb\")\n",
    "pickle.dump(trainval_df, Data_file)\n",
    "Data_file.close()\n",
    "\n",
    "# Preview trainval_df\n",
    "print('\\ntrainval_df:')\n",
    "trainval_df"
   ]
  },
  {
   "cell_type": "code",
   "execution_count": 8,
   "id": "e6b414d1",
   "metadata": {},
   "outputs": [
    {
     "name": "stdout",
     "output_type": "stream",
     "text": [
      "Training 4 models: ['additive', 'neighbor', 'pairwise', 'blackbox']\n",
      "-----------------------------\n",
      "Training 'crxnull_additive_ge_0' model...\n",
      "\n",
      "N = 1,170 observations set as training data.\n",
      "Using 11.9% for validation.\n",
      "Data shuffled.\n",
      "Time to set data: 0.0699 sec.\n"
     ]
    },
    {
     "data": {
      "application/vnd.jupyter.widget-view+json": {
       "model_id": "11d1140cb9f64ba09df45a93120434bc",
       "version_major": 2,
       "version_minor": 0
      },
      "text/plain": [
       "0epoch [00:00, ?epoch/s]"
      ]
     },
     "metadata": {},
     "output_type": "display_data"
    },
    {
     "name": "stdout",
     "output_type": "stream",
     "text": [
      "Training time: 24.3 seconds\n",
      "test_I_var: 0.724 +- 0.043 bits\n",
      "test_I_pred: 0.779 +- 0.024 bits\n",
      "Model saved to these files:\n",
      "\tcrxnull_additive_ge_0.pickle\n",
      "\tcrxnull_additive_ge_0.h5\n",
      "-----------------------------\n",
      "Training 'crxnull_neighbor_ge_0' model...\n",
      "\n",
      "N = 1,170 observations set as training data.\n",
      "Using 11.9% for validation.\n",
      "Data shuffled.\n",
      "Time to set data: 0.0623 sec.\n"
     ]
    },
    {
     "data": {
      "application/vnd.jupyter.widget-view+json": {
       "model_id": "4e1b2e9b0b78493dad84024f5f8eaee0",
       "version_major": 2,
       "version_minor": 0
      },
      "text/plain": [
       "0epoch [00:00, ?epoch/s]"
      ]
     },
     "metadata": {},
     "output_type": "display_data"
    },
    {
     "name": "stdout",
     "output_type": "stream",
     "text": [
      "Training time: 15.6 seconds\n",
      "test_I_var: 1.113 +- 0.050 bits\n",
      "test_I_pred: 1.248 +- 0.039 bits\n",
      "Model saved to these files:\n",
      "\tcrxnull_neighbor_ge_0.pickle\n",
      "\tcrxnull_neighbor_ge_0.h5\n",
      "-----------------------------\n",
      "Training 'crxnull_pairwise_ge_0' model...\n",
      "\n",
      "N = 1,170 observations set as training data.\n",
      "Using 11.9% for validation.\n",
      "Data shuffled.\n",
      "Time to set data: 0.0663 sec.\n"
     ]
    },
    {
     "data": {
      "application/vnd.jupyter.widget-view+json": {
       "model_id": "1c5b086f07094346a3de47f6caf9af1d",
       "version_major": 2,
       "version_minor": 0
      },
      "text/plain": [
       "0epoch [00:00, ?epoch/s]"
      ]
     },
     "metadata": {},
     "output_type": "display_data"
    },
    {
     "name": "stdout",
     "output_type": "stream",
     "text": [
      "Training time: 15.3 seconds\n",
      "test_I_var: 1.827 +- 0.058 bits\n",
      "test_I_pred: 1.993 +- 0.045 bits\n",
      "Model saved to these files:\n",
      "\tcrxnull_pairwise_ge_0.pickle\n",
      "\tcrxnull_pairwise_ge_0.h5\n",
      "-----------------------------\n",
      "Training 'crxnull_blackbox_ge_0' model...\n",
      "\n",
      "N = 1,170 observations set as training data.\n",
      "Using 11.9% for validation.\n",
      "Data shuffled.\n",
      "Time to set data: 0.0607 sec.\n"
     ]
    },
    {
     "data": {
      "application/vnd.jupyter.widget-view+json": {
       "model_id": "d944b1e0f85d436d8ac1dd8e6c89d4d0",
       "version_major": 2,
       "version_minor": 0
      },
      "text/plain": [
       "0epoch [00:00, ?epoch/s]"
      ]
     },
     "metadata": {},
     "output_type": "display_data"
    },
    {
     "name": "stdout",
     "output_type": "stream",
     "text": [
      "Training time: 11.1 seconds\n",
      "test_I_var: 1.574 +- 0.052 bits\n",
      "test_I_pred: 3.003 +- 0.040 bits\n",
      "Model saved to these files:\n",
      "\tcrxnull_blackbox_ge_0.pickle\n",
      "\tcrxnull_blackbox_ge_0.h5\n",
      "-----------------------------\n",
      "Training 'crxnull_additive_ge_1' model...\n",
      "\n",
      "N = 1,170 observations set as training data.\n",
      "Using 11.9% for validation.\n",
      "Data shuffled.\n",
      "Time to set data: 0.0614 sec.\n"
     ]
    },
    {
     "data": {
      "application/vnd.jupyter.widget-view+json": {
       "model_id": "b6875e6365ce46c58b76d06aca9123fd",
       "version_major": 2,
       "version_minor": 0
      },
      "text/plain": [
       "0epoch [00:00, ?epoch/s]"
      ]
     },
     "metadata": {},
     "output_type": "display_data"
    },
    {
     "name": "stdout",
     "output_type": "stream",
     "text": [
      "Training time: 651.5 seconds\n",
      "test_I_var: -0.032 +- 0.046 bits\n",
      "test_I_pred: -0.005 +- 0.022 bits\n",
      "Model saved to these files:\n",
      "\tcrxnull_additive_ge_1.pickle\n",
      "\tcrxnull_additive_ge_1.h5\n",
      "-----------------------------\n",
      "Training 'crxnull_neighbor_ge_1' model...\n",
      "\n",
      "N = 1,170 observations set as training data.\n",
      "Using 11.9% for validation.\n",
      "Data shuffled.\n",
      "Time to set data: 0.0363 sec.\n"
     ]
    },
    {
     "data": {
      "application/vnd.jupyter.widget-view+json": {
       "model_id": "94b18d4df1564319bab02ecb250def87",
       "version_major": 2,
       "version_minor": 0
      },
      "text/plain": [
       "0epoch [00:00, ?epoch/s]"
      ]
     },
     "metadata": {},
     "output_type": "display_data"
    },
    {
     "name": "stdout",
     "output_type": "stream",
     "text": [
      "Training time: 22.9 seconds\n",
      "test_I_var: 1.199 +- 0.047 bits\n",
      "test_I_pred: 1.330 +- 0.040 bits\n",
      "Model saved to these files:\n",
      "\tcrxnull_neighbor_ge_1.pickle\n",
      "\tcrxnull_neighbor_ge_1.h5\n",
      "-----------------------------\n",
      "Training 'crxnull_pairwise_ge_1' model...\n",
      "\n",
      "N = 1,170 observations set as training data.\n",
      "Using 11.9% for validation.\n",
      "Data shuffled.\n",
      "Time to set data: 0.0373 sec.\n"
     ]
    },
    {
     "data": {
      "application/vnd.jupyter.widget-view+json": {
       "model_id": "7d563a54ff5648ccbfc7dc7f8e1ae41e",
       "version_major": 2,
       "version_minor": 0
      },
      "text/plain": [
       "0epoch [00:00, ?epoch/s]"
      ]
     },
     "metadata": {},
     "output_type": "display_data"
    },
    {
     "name": "stdout",
     "output_type": "stream",
     "text": [
      "Training time: 9.9 seconds\n",
      "test_I_var: 1.901 +- 0.059 bits\n",
      "test_I_pred: 2.058 +- 0.031 bits\n",
      "Model saved to these files:\n",
      "\tcrxnull_pairwise_ge_1.pickle\n",
      "\tcrxnull_pairwise_ge_1.h5\n",
      "-----------------------------\n",
      "Training 'crxnull_blackbox_ge_1' model...\n",
      "\n",
      "N = 1,170 observations set as training data.\n",
      "Using 11.9% for validation.\n",
      "Data shuffled.\n",
      "Time to set data: 0.0431 sec.\n"
     ]
    },
    {
     "data": {
      "application/vnd.jupyter.widget-view+json": {
       "model_id": "988b6a6e7df04f59b35376d79c50ee58",
       "version_major": 2,
       "version_minor": 0
      },
      "text/plain": [
       "0epoch [00:00, ?epoch/s]"
      ]
     },
     "metadata": {},
     "output_type": "display_data"
    },
    {
     "name": "stdout",
     "output_type": "stream",
     "text": [
      "Training time: 7.3 seconds\n",
      "test_I_var: 1.494 +- 0.045 bits\n",
      "test_I_pred: 2.950 +- 0.052 bits\n",
      "Model saved to these files:\n",
      "\tcrxnull_blackbox_ge_1.pickle\n",
      "\tcrxnull_blackbox_ge_1.h5\n",
      "-----------------------------\n",
      "Training 'crxnull_additive_ge_2' model...\n",
      "\n",
      "N = 1,170 observations set as training data.\n",
      "Using 11.9% for validation.\n",
      "Data shuffled.\n",
      "Time to set data: 0.0372 sec.\n"
     ]
    },
    {
     "data": {
      "application/vnd.jupyter.widget-view+json": {
       "model_id": "7612b09693d24896920eb38e1020f68c",
       "version_major": 2,
       "version_minor": 0
      },
      "text/plain": [
       "0epoch [00:00, ?epoch/s]"
      ]
     },
     "metadata": {},
     "output_type": "display_data"
    },
    {
     "name": "stdout",
     "output_type": "stream",
     "text": [
      "Training time: 11.2 seconds\n",
      "test_I_var: 0.687 +- 0.042 bits\n",
      "test_I_pred: 0.736 +- 0.030 bits\n",
      "Model saved to these files:\n",
      "\tcrxnull_additive_ge_2.pickle\n",
      "\tcrxnull_additive_ge_2.h5\n",
      "-----------------------------\n",
      "Training 'crxnull_neighbor_ge_2' model...\n",
      "\n",
      "N = 1,170 observations set as training data.\n",
      "Using 11.9% for validation.\n",
      "Data shuffled.\n",
      "Time to set data: 0.0367 sec.\n"
     ]
    },
    {
     "data": {
      "application/vnd.jupyter.widget-view+json": {
       "model_id": "17577e9748ba4736aa5454e8a520b20d",
       "version_major": 2,
       "version_minor": 0
      },
      "text/plain": [
       "0epoch [00:00, ?epoch/s]"
      ]
     },
     "metadata": {},
     "output_type": "display_data"
    },
    {
     "name": "stdout",
     "output_type": "stream",
     "text": [
      "Training time: 9.6 seconds\n",
      "test_I_var: 1.159 +- 0.055 bits\n",
      "test_I_pred: 1.308 +- 0.037 bits\n",
      "Model saved to these files:\n",
      "\tcrxnull_neighbor_ge_2.pickle\n",
      "\tcrxnull_neighbor_ge_2.h5\n",
      "-----------------------------\n",
      "Training 'crxnull_pairwise_ge_2' model...\n",
      "\n",
      "N = 1,170 observations set as training data.\n",
      "Using 11.9% for validation.\n",
      "Data shuffled.\n",
      "Time to set data: 0.0371 sec.\n"
     ]
    },
    {
     "data": {
      "application/vnd.jupyter.widget-view+json": {
       "model_id": "4576c6db507149b5b2085ed8323aaf6b",
       "version_major": 2,
       "version_minor": 0
      },
      "text/plain": [
       "0epoch [00:00, ?epoch/s]"
      ]
     },
     "metadata": {},
     "output_type": "display_data"
    },
    {
     "name": "stdout",
     "output_type": "stream",
     "text": [
      "Training time: 9.7 seconds\n",
      "test_I_var: 1.809 +- 0.058 bits\n",
      "test_I_pred: 1.942 +- 0.034 bits\n",
      "Model saved to these files:\n",
      "\tcrxnull_pairwise_ge_2.pickle\n",
      "\tcrxnull_pairwise_ge_2.h5\n",
      "-----------------------------\n",
      "Training 'crxnull_blackbox_ge_2' model...\n",
      "\n",
      "N = 1,170 observations set as training data.\n",
      "Using 11.9% for validation.\n",
      "Data shuffled.\n",
      "Time to set data: 0.0705 sec.\n"
     ]
    },
    {
     "data": {
      "application/vnd.jupyter.widget-view+json": {
       "model_id": "54205f0c631247ffa2bb0d16cbffa3dd",
       "version_major": 2,
       "version_minor": 0
      },
      "text/plain": [
       "0epoch [00:00, ?epoch/s]"
      ]
     },
     "metadata": {},
     "output_type": "display_data"
    },
    {
     "name": "stdout",
     "output_type": "stream",
     "text": [
      "Training time: 9.9 seconds\n",
      "test_I_var: 1.887 +- 0.042 bits\n",
      "test_I_pred: 3.360 +- 0.045 bits\n",
      "Model saved to these files:\n",
      "\tcrxnull_blackbox_ge_2.pickle\n",
      "\tcrxnull_blackbox_ge_2.h5\n",
      "-----------------------------\n",
      "Training 'crxnull_additive_ge_3' model...\n",
      "\n",
      "N = 1,170 observations set as training data.\n",
      "Using 11.9% for validation.\n",
      "Data shuffled.\n",
      "Time to set data: 0.0428 sec.\n"
     ]
    },
    {
     "data": {
      "application/vnd.jupyter.widget-view+json": {
       "model_id": "bfc779a17a464fcfb606afeb48f37b87",
       "version_major": 2,
       "version_minor": 0
      },
      "text/plain": [
       "0epoch [00:00, ?epoch/s]"
      ]
     },
     "metadata": {},
     "output_type": "display_data"
    },
    {
     "name": "stdout",
     "output_type": "stream",
     "text": [
      "Training time: 16.2 seconds\n",
      "test_I_var: 0.709 +- 0.047 bits\n",
      "test_I_pred: 0.788 +- 0.028 bits\n",
      "Model saved to these files:\n",
      "\tcrxnull_additive_ge_3.pickle\n",
      "\tcrxnull_additive_ge_3.h5\n",
      "-----------------------------\n",
      "Training 'crxnull_neighbor_ge_3' model...\n",
      "\n",
      "N = 1,170 observations set as training data.\n",
      "Using 11.9% for validation.\n",
      "Data shuffled.\n",
      "Time to set data: 0.0371 sec.\n"
     ]
    },
    {
     "data": {
      "application/vnd.jupyter.widget-view+json": {
       "model_id": "f749f081ec0b41b3ad0470635f35c42e",
       "version_major": 2,
       "version_minor": 0
      },
      "text/plain": [
       "0epoch [00:00, ?epoch/s]"
      ]
     },
     "metadata": {},
     "output_type": "display_data"
    },
    {
     "name": "stdout",
     "output_type": "stream",
     "text": [
      "Training time: 9.7 seconds\n",
      "test_I_var: 1.159 +- 0.049 bits\n",
      "test_I_pred: 1.321 +- 0.034 bits\n",
      "Model saved to these files:\n",
      "\tcrxnull_neighbor_ge_3.pickle\n",
      "\tcrxnull_neighbor_ge_3.h5\n",
      "-----------------------------\n",
      "Training 'crxnull_pairwise_ge_3' model...\n",
      "\n",
      "N = 1,170 observations set as training data.\n",
      "Using 11.9% for validation.\n",
      "Data shuffled.\n",
      "Time to set data: 0.0369 sec.\n"
     ]
    },
    {
     "data": {
      "application/vnd.jupyter.widget-view+json": {
       "model_id": "d4aae52947a047448ae5afed3944507c",
       "version_major": 2,
       "version_minor": 0
      },
      "text/plain": [
       "0epoch [00:00, ?epoch/s]"
      ]
     },
     "metadata": {},
     "output_type": "display_data"
    },
    {
     "name": "stdout",
     "output_type": "stream",
     "text": [
      "Training time: 8.9 seconds\n",
      "test_I_var: 1.896 +- 0.059 bits\n",
      "test_I_pred: 2.067 +- 0.039 bits\n",
      "Model saved to these files:\n",
      "\tcrxnull_pairwise_ge_3.pickle\n",
      "\tcrxnull_pairwise_ge_3.h5\n",
      "-----------------------------\n",
      "Training 'crxnull_blackbox_ge_3' model...\n",
      "\n",
      "N = 1,170 observations set as training data.\n",
      "Using 11.9% for validation.\n",
      "Data shuffled.\n",
      "Time to set data: 0.0372 sec.\n"
     ]
    },
    {
     "data": {
      "application/vnd.jupyter.widget-view+json": {
       "model_id": "1cebf67256674b05a325b9d2588bb17f",
       "version_major": 2,
       "version_minor": 0
      },
      "text/plain": [
       "0epoch [00:00, ?epoch/s]"
      ]
     },
     "metadata": {},
     "output_type": "display_data"
    },
    {
     "name": "stdout",
     "output_type": "stream",
     "text": [
      "Training time: 6.1 seconds\n",
      "test_I_var: 1.312 +- 0.039 bits\n",
      "test_I_pred: 3.155 +- 0.054 bits\n",
      "Model saved to these files:\n",
      "\tcrxnull_blackbox_ge_3.pickle\n",
      "\tcrxnull_blackbox_ge_3.h5\n",
      "-----------------------------\n",
      "Training 'crxnull_additive_ge_4' model...\n",
      "\n",
      "N = 1,170 observations set as training data.\n",
      "Using 11.9% for validation.\n",
      "Data shuffled.\n",
      "Time to set data: 0.0369 sec.\n"
     ]
    },
    {
     "data": {
      "application/vnd.jupyter.widget-view+json": {
       "model_id": "bd15b27edb7e497eb5109eca9a043a76",
       "version_major": 2,
       "version_minor": 0
      },
      "text/plain": [
       "0epoch [00:00, ?epoch/s]"
      ]
     },
     "metadata": {},
     "output_type": "display_data"
    },
    {
     "name": "stdout",
     "output_type": "stream",
     "text": [
      "Training time: 21.2 seconds\n",
      "test_I_var: -0.029 +- 0.049 bits\n",
      "test_I_pred: -0.021 +- 0.019 bits\n",
      "Model saved to these files:\n",
      "\tcrxnull_additive_ge_4.pickle\n",
      "\tcrxnull_additive_ge_4.h5\n",
      "-----------------------------\n",
      "Training 'crxnull_neighbor_ge_4' model...\n",
      "\n",
      "N = 1,170 observations set as training data.\n",
      "Using 11.9% for validation.\n",
      "Data shuffled.\n",
      "Time to set data: 0.0483 sec.\n"
     ]
    },
    {
     "data": {
      "application/vnd.jupyter.widget-view+json": {
       "model_id": "e5c29b5d81f641dc86bb5f4da9e8ddaf",
       "version_major": 2,
       "version_minor": 0
      },
      "text/plain": [
       "0epoch [00:00, ?epoch/s]"
      ]
     },
     "metadata": {},
     "output_type": "display_data"
    },
    {
     "name": "stdout",
     "output_type": "stream",
     "text": [
      "Training time: 11.9 seconds\n",
      "test_I_var: 1.143 +- 0.047 bits\n",
      "test_I_pred: 1.228 +- 0.031 bits\n",
      "Model saved to these files:\n",
      "\tcrxnull_neighbor_ge_4.pickle\n",
      "\tcrxnull_neighbor_ge_4.h5\n",
      "-----------------------------\n",
      "Training 'crxnull_pairwise_ge_4' model...\n",
      "\n",
      "N = 1,170 observations set as training data.\n",
      "Using 11.9% for validation.\n",
      "Data shuffled.\n",
      "Time to set data: 0.0386 sec.\n"
     ]
    },
    {
     "data": {
      "application/vnd.jupyter.widget-view+json": {
       "model_id": "2b8daa3295a84464849c55e2b2983344",
       "version_major": 2,
       "version_minor": 0
      },
      "text/plain": [
       "0epoch [00:00, ?epoch/s]"
      ]
     },
     "metadata": {},
     "output_type": "display_data"
    },
    {
     "name": "stdout",
     "output_type": "stream",
     "text": [
      "Training time: 13.2 seconds\n",
      "test_I_var: 1.969 +- 0.058 bits\n",
      "test_I_pred: 2.123 +- 0.033 bits\n",
      "Model saved to these files:\n",
      "\tcrxnull_pairwise_ge_4.pickle\n",
      "\tcrxnull_pairwise_ge_4.h5\n",
      "-----------------------------\n",
      "Training 'crxnull_blackbox_ge_4' model...\n",
      "\n",
      "N = 1,170 observations set as training data.\n",
      "Using 11.9% for validation.\n",
      "Data shuffled.\n",
      "Time to set data: 0.0369 sec.\n"
     ]
    },
    {
     "data": {
      "application/vnd.jupyter.widget-view+json": {
       "model_id": "44456dc66df846dda144853824e2a881",
       "version_major": 2,
       "version_minor": 0
      },
      "text/plain": [
       "0epoch [00:00, ?epoch/s]"
      ]
     },
     "metadata": {},
     "output_type": "display_data"
    },
    {
     "name": "stdout",
     "output_type": "stream",
     "text": [
      "Training time: 8.8 seconds\n",
      "test_I_var: 1.631 +- 0.042 bits\n",
      "test_I_pred: 3.072 +- 0.036 bits\n",
      "Model saved to these files:\n",
      "\tcrxnull_blackbox_ge_4.pickle\n",
      "\tcrxnull_blackbox_ge_4.h5\n",
      "-----------------------------\n",
      "Training 'crxnull_additive_ge_5' model...\n",
      "\n",
      "N = 1,170 observations set as training data.\n",
      "Using 11.9% for validation.\n",
      "Data shuffled.\n",
      "Time to set data: 0.0372 sec.\n"
     ]
    },
    {
     "data": {
      "application/vnd.jupyter.widget-view+json": {
       "model_id": "9b372d60b5744decb1885c4c6fbbcc21",
       "version_major": 2,
       "version_minor": 0
      },
      "text/plain": [
       "0epoch [00:00, ?epoch/s]"
      ]
     },
     "metadata": {},
     "output_type": "display_data"
    },
    {
     "name": "stdout",
     "output_type": "stream",
     "text": [
      "Training time: 43.0 seconds\n",
      "test_I_var: -0.050 +- 0.044 bits\n",
      "test_I_pred: 0.024 +- 0.025 bits\n",
      "Model saved to these files:\n",
      "\tcrxnull_additive_ge_5.pickle\n",
      "\tcrxnull_additive_ge_5.h5\n",
      "-----------------------------\n",
      "Training 'crxnull_neighbor_ge_5' model...\n",
      "\n",
      "N = 1,170 observations set as training data.\n",
      "Using 11.9% for validation.\n",
      "Data shuffled.\n",
      "Time to set data: 0.0421 sec.\n"
     ]
    },
    {
     "data": {
      "application/vnd.jupyter.widget-view+json": {
       "model_id": "360710f6c972436e8110ce76ac000b8e",
       "version_major": 2,
       "version_minor": 0
      },
      "text/plain": [
       "0epoch [00:00, ?epoch/s]"
      ]
     },
     "metadata": {},
     "output_type": "display_data"
    },
    {
     "name": "stdout",
     "output_type": "stream",
     "text": [
      "Training time: 13.2 seconds\n",
      "test_I_var: 1.164 +- 0.044 bits\n",
      "test_I_pred: 1.254 +- 0.035 bits\n",
      "Model saved to these files:\n",
      "\tcrxnull_neighbor_ge_5.pickle\n",
      "\tcrxnull_neighbor_ge_5.h5\n",
      "-----------------------------\n",
      "Training 'crxnull_pairwise_ge_5' model...\n",
      "\n",
      "N = 1,170 observations set as training data.\n",
      "Using 11.9% for validation.\n",
      "Data shuffled.\n",
      "Time to set data: 0.0462 sec.\n"
     ]
    },
    {
     "data": {
      "application/vnd.jupyter.widget-view+json": {
       "model_id": "54d239d3d2914b7384b670f8d8bb4f99",
       "version_major": 2,
       "version_minor": 0
      },
      "text/plain": [
       "0epoch [00:00, ?epoch/s]"
      ]
     },
     "metadata": {},
     "output_type": "display_data"
    },
    {
     "name": "stdout",
     "output_type": "stream",
     "text": [
      "Training time: 9.0 seconds\n",
      "test_I_var: 1.984 +- 0.052 bits\n",
      "test_I_pred: 2.002 +- 0.041 bits\n",
      "Model saved to these files:\n",
      "\tcrxnull_pairwise_ge_5.pickle\n",
      "\tcrxnull_pairwise_ge_5.h5\n",
      "-----------------------------\n",
      "Training 'crxnull_blackbox_ge_5' model...\n",
      "\n",
      "N = 1,170 observations set as training data.\n",
      "Using 11.9% for validation.\n",
      "Data shuffled.\n",
      "Time to set data: 0.038 sec.\n"
     ]
    },
    {
     "data": {
      "application/vnd.jupyter.widget-view+json": {
       "model_id": "57e76bfce5634e50820822b9608f6b14",
       "version_major": 2,
       "version_minor": 0
      },
      "text/plain": [
       "0epoch [00:00, ?epoch/s]"
      ]
     },
     "metadata": {},
     "output_type": "display_data"
    },
    {
     "name": "stdout",
     "output_type": "stream",
     "text": [
      "Training time: 6.5 seconds\n",
      "test_I_var: 1.410 +- 0.044 bits\n",
      "test_I_pred: 3.096 +- 0.043 bits\n",
      "Model saved to these files:\n",
      "\tcrxnull_blackbox_ge_5.pickle\n",
      "\tcrxnull_blackbox_ge_5.h5\n",
      "-----------------------------\n",
      "Training 'crxnull_additive_ge_6' model...\n",
      "\n",
      "N = 1,170 observations set as training data.\n",
      "Using 11.9% for validation.\n",
      "Data shuffled.\n",
      "Time to set data: 0.0408 sec.\n"
     ]
    },
    {
     "data": {
      "application/vnd.jupyter.widget-view+json": {
       "model_id": "92221a8a825742df98a0ff56c1450371",
       "version_major": 2,
       "version_minor": 0
      },
      "text/plain": [
       "0epoch [00:00, ?epoch/s]"
      ]
     },
     "metadata": {},
     "output_type": "display_data"
    },
    {
     "name": "stdout",
     "output_type": "stream",
     "text": [
      "Training time: 23.6 seconds\n",
      "test_I_var: 0.731 +- 0.045 bits\n",
      "test_I_pred: 0.776 +- 0.030 bits\n",
      "Model saved to these files:\n",
      "\tcrxnull_additive_ge_6.pickle\n",
      "\tcrxnull_additive_ge_6.h5\n",
      "-----------------------------\n",
      "Training 'crxnull_neighbor_ge_6' model...\n",
      "\n",
      "N = 1,170 observations set as training data.\n",
      "Using 11.9% for validation.\n",
      "Data shuffled.\n",
      "Time to set data: 0.0423 sec.\n"
     ]
    },
    {
     "data": {
      "application/vnd.jupyter.widget-view+json": {
       "model_id": "6186f63ffe4b48068761644846bceab2",
       "version_major": 2,
       "version_minor": 0
      },
      "text/plain": [
       "0epoch [00:00, ?epoch/s]"
      ]
     },
     "metadata": {},
     "output_type": "display_data"
    },
    {
     "name": "stdout",
     "output_type": "stream",
     "text": [
      "Training time: 31.4 seconds\n",
      "test_I_var: -0.030 +- 0.042 bits\n",
      "test_I_pred: -0.023 +- 0.014 bits\n",
      "Model saved to these files:\n",
      "\tcrxnull_neighbor_ge_6.pickle\n",
      "\tcrxnull_neighbor_ge_6.h5\n",
      "-----------------------------\n",
      "Training 'crxnull_pairwise_ge_6' model...\n",
      "\n",
      "N = 1,170 observations set as training data.\n",
      "Using 11.9% for validation.\n",
      "Data shuffled.\n",
      "Time to set data: 0.0415 sec.\n"
     ]
    },
    {
     "data": {
      "application/vnd.jupyter.widget-view+json": {
       "model_id": "eb168e7c59ba4fee861336bdffb28e73",
       "version_major": 2,
       "version_minor": 0
      },
      "text/plain": [
       "0epoch [00:00, ?epoch/s]"
      ]
     },
     "metadata": {},
     "output_type": "display_data"
    },
    {
     "name": "stdout",
     "output_type": "stream",
     "text": [
      "Training time: 9.6 seconds\n",
      "test_I_var: 1.859 +- 0.058 bits\n",
      "test_I_pred: 2.002 +- 0.048 bits\n",
      "Model saved to these files:\n",
      "\tcrxnull_pairwise_ge_6.pickle\n",
      "\tcrxnull_pairwise_ge_6.h5\n",
      "-----------------------------\n",
      "Training 'crxnull_blackbox_ge_6' model...\n",
      "\n",
      "N = 1,170 observations set as training data.\n",
      "Using 11.9% for validation.\n",
      "Data shuffled.\n",
      "Time to set data: 0.0574 sec.\n"
     ]
    },
    {
     "data": {
      "application/vnd.jupyter.widget-view+json": {
       "model_id": "af11cf6d8c914c0cba8a066d0f734468",
       "version_major": 2,
       "version_minor": 0
      },
      "text/plain": [
       "0epoch [00:00, ?epoch/s]"
      ]
     },
     "metadata": {},
     "output_type": "display_data"
    },
    {
     "name": "stdout",
     "output_type": "stream",
     "text": [
      "Training time: 10.4 seconds\n",
      "test_I_var: 1.955 +- 0.041 bits\n",
      "test_I_pred: 3.266 +- 0.038 bits\n",
      "Model saved to these files:\n",
      "\tcrxnull_blackbox_ge_6.pickle\n",
      "\tcrxnull_blackbox_ge_6.h5\n",
      "-----------------------------\n",
      "Training 'crxnull_additive_ge_7' model...\n",
      "\n",
      "N = 1,170 observations set as training data.\n",
      "Using 11.9% for validation.\n",
      "Data shuffled.\n",
      "Time to set data: 0.0368 sec.\n"
     ]
    },
    {
     "data": {
      "application/vnd.jupyter.widget-view+json": {
       "model_id": "3e4b7db0ca08422c9440744ad046501f",
       "version_major": 2,
       "version_minor": 0
      },
      "text/plain": [
       "0epoch [00:00, ?epoch/s]"
      ]
     },
     "metadata": {},
     "output_type": "display_data"
    },
    {
     "name": "stdout",
     "output_type": "stream",
     "text": [
      "Training time: 21.2 seconds\n",
      "test_I_var: 0.719 +- 0.048 bits\n",
      "test_I_pred: 0.795 +- 0.040 bits\n",
      "Model saved to these files:\n",
      "\tcrxnull_additive_ge_7.pickle\n",
      "\tcrxnull_additive_ge_7.h5\n",
      "-----------------------------\n",
      "Training 'crxnull_neighbor_ge_7' model...\n",
      "\n",
      "N = 1,170 observations set as training data.\n",
      "Using 11.9% for validation.\n",
      "Data shuffled.\n",
      "Time to set data: 0.0384 sec.\n"
     ]
    },
    {
     "data": {
      "application/vnd.jupyter.widget-view+json": {
       "model_id": "ed35f37b393f418f8b244493d1005208",
       "version_major": 2,
       "version_minor": 0
      },
      "text/plain": [
       "0epoch [00:00, ?epoch/s]"
      ]
     },
     "metadata": {},
     "output_type": "display_data"
    },
    {
     "name": "stdout",
     "output_type": "stream",
     "text": [
      "Training time: 13.0 seconds\n",
      "test_I_var: 1.189 +- 0.051 bits\n",
      "test_I_pred: 1.244 +- 0.032 bits\n",
      "Model saved to these files:\n",
      "\tcrxnull_neighbor_ge_7.pickle\n",
      "\tcrxnull_neighbor_ge_7.h5\n",
      "-----------------------------\n",
      "Training 'crxnull_pairwise_ge_7' model...\n",
      "\n",
      "N = 1,170 observations set as training data.\n",
      "Using 11.9% for validation.\n",
      "Data shuffled.\n",
      "Time to set data: 0.0409 sec.\n"
     ]
    },
    {
     "data": {
      "application/vnd.jupyter.widget-view+json": {
       "model_id": "3f01e8d1122f46f7b40e56d62cb02c28",
       "version_major": 2,
       "version_minor": 0
      },
      "text/plain": [
       "0epoch [00:00, ?epoch/s]"
      ]
     },
     "metadata": {},
     "output_type": "display_data"
    },
    {
     "name": "stdout",
     "output_type": "stream",
     "text": [
      "Training time: 11.8 seconds\n",
      "test_I_var: 1.891 +- 0.061 bits\n",
      "test_I_pred: 2.050 +- 0.042 bits\n",
      "Model saved to these files:\n",
      "\tcrxnull_pairwise_ge_7.pickle\n",
      "\tcrxnull_pairwise_ge_7.h5\n",
      "-----------------------------\n",
      "Training 'crxnull_blackbox_ge_7' model...\n",
      "\n",
      "N = 1,170 observations set as training data.\n",
      "Using 11.9% for validation.\n",
      "Data shuffled.\n",
      "Time to set data: 0.0393 sec.\n"
     ]
    },
    {
     "data": {
      "application/vnd.jupyter.widget-view+json": {
       "model_id": "b1410302fd0449bf9048d1eaf0acdebd",
       "version_major": 2,
       "version_minor": 0
      },
      "text/plain": [
       "0epoch [00:00, ?epoch/s]"
      ]
     },
     "metadata": {},
     "output_type": "display_data"
    },
    {
     "name": "stdout",
     "output_type": "stream",
     "text": [
      "Training time: 12.9 seconds\n",
      "test_I_var: 1.825 +- 0.050 bits\n",
      "test_I_pred: 3.391 +- 0.054 bits\n",
      "Model saved to these files:\n",
      "\tcrxnull_blackbox_ge_7.pickle\n",
      "\tcrxnull_blackbox_ge_7.h5\n",
      "-----------------------------\n",
      "Training 'crxnull_additive_ge_8' model...\n",
      "\n",
      "N = 1,170 observations set as training data.\n",
      "Using 11.9% for validation.\n",
      "Data shuffled.\n",
      "Time to set data: 0.0429 sec.\n"
     ]
    },
    {
     "data": {
      "application/vnd.jupyter.widget-view+json": {
       "model_id": "f19f27ec239e4f46813957075a8d6bd7",
       "version_major": 2,
       "version_minor": 0
      },
      "text/plain": [
       "0epoch [00:00, ?epoch/s]"
      ]
     },
     "metadata": {},
     "output_type": "display_data"
    },
    {
     "name": "stdout",
     "output_type": "stream",
     "text": [
      "Training time: 16.9 seconds\n",
      "test_I_var: 0.717 +- 0.042 bits\n",
      "test_I_pred: 0.754 +- 0.028 bits\n",
      "Model saved to these files:\n",
      "\tcrxnull_additive_ge_8.pickle\n",
      "\tcrxnull_additive_ge_8.h5\n",
      "-----------------------------\n",
      "Training 'crxnull_neighbor_ge_8' model...\n",
      "\n",
      "N = 1,170 observations set as training data.\n",
      "Using 11.9% for validation.\n",
      "Data shuffled.\n",
      "Time to set data: 0.0452 sec.\n"
     ]
    },
    {
     "data": {
      "application/vnd.jupyter.widget-view+json": {
       "model_id": "bd505ab5b9a745ca9675b755e769d521",
       "version_major": 2,
       "version_minor": 0
      },
      "text/plain": [
       "0epoch [00:00, ?epoch/s]"
      ]
     },
     "metadata": {},
     "output_type": "display_data"
    },
    {
     "name": "stdout",
     "output_type": "stream",
     "text": [
      "Training time: 10.4 seconds\n",
      "test_I_var: 0.887 +- 0.045 bits\n",
      "test_I_pred: 1.149 +- 0.030 bits\n",
      "Model saved to these files:\n",
      "\tcrxnull_neighbor_ge_8.pickle\n",
      "\tcrxnull_neighbor_ge_8.h5\n",
      "-----------------------------\n",
      "Training 'crxnull_pairwise_ge_8' model...\n",
      "\n",
      "N = 1,170 observations set as training data.\n",
      "Using 11.9% for validation.\n",
      "Data shuffled.\n",
      "Time to set data: 0.0392 sec.\n"
     ]
    },
    {
     "data": {
      "application/vnd.jupyter.widget-view+json": {
       "model_id": "c098bfc44aa14d36a04f725525c0d4e6",
       "version_major": 2,
       "version_minor": 0
      },
      "text/plain": [
       "0epoch [00:00, ?epoch/s]"
      ]
     },
     "metadata": {},
     "output_type": "display_data"
    },
    {
     "name": "stdout",
     "output_type": "stream",
     "text": [
      "Training time: 12.1 seconds\n",
      "test_I_var: 1.965 +- 0.056 bits\n",
      "test_I_pred: 2.050 +- 0.036 bits\n",
      "Model saved to these files:\n",
      "\tcrxnull_pairwise_ge_8.pickle\n",
      "\tcrxnull_pairwise_ge_8.h5\n",
      "-----------------------------\n",
      "Training 'crxnull_blackbox_ge_8' model...\n",
      "\n",
      "N = 1,170 observations set as training data.\n",
      "Using 11.9% for validation.\n",
      "Data shuffled.\n",
      "Time to set data: 0.0399 sec.\n"
     ]
    },
    {
     "data": {
      "application/vnd.jupyter.widget-view+json": {
       "model_id": "d8b42a0d56d2437b89a3415adb0dc636",
       "version_major": 2,
       "version_minor": 0
      },
      "text/plain": [
       "0epoch [00:00, ?epoch/s]"
      ]
     },
     "metadata": {},
     "output_type": "display_data"
    },
    {
     "name": "stdout",
     "output_type": "stream",
     "text": [
      "Training time: 8.7 seconds\n",
      "test_I_var: 1.329 +- 0.049 bits\n",
      "test_I_pred: 2.838 +- 0.060 bits\n",
      "Model saved to these files:\n",
      "\tcrxnull_blackbox_ge_8.pickle\n",
      "\tcrxnull_blackbox_ge_8.h5\n",
      "-----------------------------\n",
      "Training 'crxnull_additive_ge_9' model...\n",
      "\n",
      "N = 1,170 observations set as training data.\n",
      "Using 11.9% for validation.\n",
      "Data shuffled.\n",
      "Time to set data: 0.038 sec.\n"
     ]
    },
    {
     "data": {
      "application/vnd.jupyter.widget-view+json": {
       "model_id": "1c924dbd091b45e9bae01c4401c5e431",
       "version_major": 2,
       "version_minor": 0
      },
      "text/plain": [
       "0epoch [00:00, ?epoch/s]"
      ]
     },
     "metadata": {},
     "output_type": "display_data"
    },
    {
     "name": "stdout",
     "output_type": "stream",
     "text": [
      "Training time: 13.7 seconds\n",
      "test_I_var: 0.719 +- 0.044 bits\n",
      "test_I_pred: 0.765 +- 0.043 bits\n",
      "Model saved to these files:\n",
      "\tcrxnull_additive_ge_9.pickle\n",
      "\tcrxnull_additive_ge_9.h5\n",
      "-----------------------------\n",
      "Training 'crxnull_neighbor_ge_9' model...\n",
      "\n",
      "N = 1,170 observations set as training data.\n",
      "Using 11.9% for validation.\n",
      "Data shuffled.\n",
      "Time to set data: 0.0427 sec.\n"
     ]
    },
    {
     "data": {
      "application/vnd.jupyter.widget-view+json": {
       "model_id": "27bf5d8c8f2c48ca8b54fc8f6ba05d2b",
       "version_major": 2,
       "version_minor": 0
      },
      "text/plain": [
       "0epoch [00:00, ?epoch/s]"
      ]
     },
     "metadata": {},
     "output_type": "display_data"
    },
    {
     "name": "stdout",
     "output_type": "stream",
     "text": [
      "Training time: 36.8 seconds\n",
      "test_I_var: -0.067 +- 0.055 bits\n",
      "test_I_pred: 0.037 +- 0.024 bits\n",
      "Model saved to these files:\n",
      "\tcrxnull_neighbor_ge_9.pickle\n",
      "\tcrxnull_neighbor_ge_9.h5\n",
      "-----------------------------\n",
      "Training 'crxnull_pairwise_ge_9' model...\n",
      "\n",
      "N = 1,170 observations set as training data.\n",
      "Using 11.9% for validation.\n",
      "Data shuffled.\n",
      "Time to set data: 0.0525 sec.\n"
     ]
    },
    {
     "data": {
      "application/vnd.jupyter.widget-view+json": {
       "model_id": "cdeb21455ad04447a759e0e7b8464095",
       "version_major": 2,
       "version_minor": 0
      },
      "text/plain": [
       "0epoch [00:00, ?epoch/s]"
      ]
     },
     "metadata": {},
     "output_type": "display_data"
    },
    {
     "name": "stdout",
     "output_type": "stream",
     "text": [
      "Training time: 17.9 seconds\n",
      "test_I_var: 1.948 +- 0.060 bits\n",
      "test_I_pred: 2.028 +- 0.047 bits\n",
      "Model saved to these files:\n",
      "\tcrxnull_pairwise_ge_9.pickle\n",
      "\tcrxnull_pairwise_ge_9.h5\n",
      "-----------------------------\n",
      "Training 'crxnull_blackbox_ge_9' model...\n",
      "\n",
      "N = 1,170 observations set as training data.\n",
      "Using 11.9% for validation.\n",
      "Data shuffled.\n",
      "Time to set data: 0.0422 sec.\n"
     ]
    },
    {
     "data": {
      "application/vnd.jupyter.widget-view+json": {
       "model_id": "dea8744bfdd046e48505a78e9c9263e0",
       "version_major": 2,
       "version_minor": 0
      },
      "text/plain": [
       "0epoch [00:00, ?epoch/s]"
      ]
     },
     "metadata": {},
     "output_type": "display_data"
    },
    {
     "name": "stdout",
     "output_type": "stream",
     "text": [
      "Training time: 9.6 seconds\n",
      "test_I_var: 1.748 +- 0.047 bits\n",
      "test_I_pred: 3.353 +- 0.047 bits\n",
      "Model saved to these files:\n",
      "\tcrxnull_blackbox_ge_9.pickle\n",
      "\tcrxnull_blackbox_ge_9.h5\n",
      "-----------------------------\n",
      "Training 'crxnull_additive_ge_10' model...\n",
      "\n",
      "N = 1,170 observations set as training data.\n",
      "Using 11.9% for validation.\n",
      "Data shuffled.\n",
      "Time to set data: 0.0382 sec.\n"
     ]
    },
    {
     "data": {
      "application/vnd.jupyter.widget-view+json": {
       "model_id": "3e011a4a116f49fc9dbb334b51209357",
       "version_major": 2,
       "version_minor": 0
      },
      "text/plain": [
       "0epoch [00:00, ?epoch/s]"
      ]
     },
     "metadata": {},
     "output_type": "display_data"
    },
    {
     "name": "stdout",
     "output_type": "stream",
     "text": [
      "Training time: 23.7 seconds\n",
      "test_I_var: -0.001 +- 0.042 bits\n",
      "test_I_pred: 0.049 +- 0.017 bits\n",
      "Model saved to these files:\n",
      "\tcrxnull_additive_ge_10.pickle\n",
      "\tcrxnull_additive_ge_10.h5\n",
      "-----------------------------\n",
      "Training 'crxnull_neighbor_ge_10' model...\n",
      "\n",
      "N = 1,170 observations set as training data.\n",
      "Using 11.9% for validation.\n",
      "Data shuffled.\n",
      "Time to set data: 0.0737 sec.\n"
     ]
    },
    {
     "data": {
      "application/vnd.jupyter.widget-view+json": {
       "model_id": "a2cd41c6e14a45d1be397c224ce942fb",
       "version_major": 2,
       "version_minor": 0
      },
      "text/plain": [
       "0epoch [00:00, ?epoch/s]"
      ]
     },
     "metadata": {},
     "output_type": "display_data"
    },
    {
     "name": "stdout",
     "output_type": "stream",
     "text": [
      "Training time: 13.7 seconds\n",
      "test_I_var: 1.229 +- 0.051 bits\n",
      "test_I_pred: 1.311 +- 0.041 bits\n",
      "Model saved to these files:\n",
      "\tcrxnull_neighbor_ge_10.pickle\n",
      "\tcrxnull_neighbor_ge_10.h5\n",
      "-----------------------------\n",
      "Training 'crxnull_pairwise_ge_10' model...\n",
      "\n",
      "N = 1,170 observations set as training data.\n",
      "Using 11.9% for validation.\n",
      "Data shuffled.\n",
      "Time to set data: 0.0575 sec.\n"
     ]
    },
    {
     "data": {
      "application/vnd.jupyter.widget-view+json": {
       "model_id": "3f6d9e32ded747d7b7feda7710c5912f",
       "version_major": 2,
       "version_minor": 0
      },
      "text/plain": [
       "0epoch [00:00, ?epoch/s]"
      ]
     },
     "metadata": {},
     "output_type": "display_data"
    },
    {
     "name": "stdout",
     "output_type": "stream",
     "text": [
      "Training time: 11.5 seconds\n",
      "test_I_var: 1.695 +- 0.055 bits\n",
      "test_I_pred: 1.878 +- 0.048 bits\n",
      "Model saved to these files:\n",
      "\tcrxnull_pairwise_ge_10.pickle\n",
      "\tcrxnull_pairwise_ge_10.h5\n",
      "-----------------------------\n",
      "Training 'crxnull_blackbox_ge_10' model...\n",
      "\n",
      "N = 1,170 observations set as training data.\n",
      "Using 11.9% for validation.\n",
      "Data shuffled.\n",
      "Time to set data: 0.0384 sec.\n"
     ]
    },
    {
     "data": {
      "application/vnd.jupyter.widget-view+json": {
       "model_id": "e79c94c06565471096be7df769558919",
       "version_major": 2,
       "version_minor": 0
      },
      "text/plain": [
       "0epoch [00:00, ?epoch/s]"
      ]
     },
     "metadata": {},
     "output_type": "display_data"
    },
    {
     "name": "stdout",
     "output_type": "stream",
     "text": [
      "Training time: 8.1 seconds\n",
      "test_I_var: 1.709 +- 0.043 bits\n",
      "test_I_pred: 2.846 +- 0.043 bits\n",
      "Model saved to these files:\n",
      "\tcrxnull_blackbox_ge_10.pickle\n",
      "\tcrxnull_blackbox_ge_10.h5\n",
      "-----------------------------\n",
      "Training 'crxnull_additive_ge_11' model...\n",
      "\n",
      "N = 1,170 observations set as training data.\n",
      "Using 11.9% for validation.\n",
      "Data shuffled.\n",
      "Time to set data: 0.0373 sec.\n"
     ]
    },
    {
     "data": {
      "application/vnd.jupyter.widget-view+json": {
       "model_id": "744cdb239666418d8e234f7935f6e91e",
       "version_major": 2,
       "version_minor": 0
      },
      "text/plain": [
       "0epoch [00:00, ?epoch/s]"
      ]
     },
     "metadata": {},
     "output_type": "display_data"
    },
    {
     "name": "stdout",
     "output_type": "stream",
     "text": [
      "Training time: 16.3 seconds\n",
      "test_I_var: 0.678 +- 0.045 bits\n",
      "test_I_pred: 0.790 +- 0.029 bits\n",
      "Model saved to these files:\n",
      "\tcrxnull_additive_ge_11.pickle\n",
      "\tcrxnull_additive_ge_11.h5\n",
      "-----------------------------\n",
      "Training 'crxnull_neighbor_ge_11' model...\n",
      "\n",
      "N = 1,170 observations set as training data.\n",
      "Using 11.9% for validation.\n",
      "Data shuffled.\n",
      "Time to set data: 0.0438 sec.\n"
     ]
    },
    {
     "data": {
      "application/vnd.jupyter.widget-view+json": {
       "model_id": "a2e3414d027a4a20937ecaa762b424d8",
       "version_major": 2,
       "version_minor": 0
      },
      "text/plain": [
       "0epoch [00:00, ?epoch/s]"
      ]
     },
     "metadata": {},
     "output_type": "display_data"
    },
    {
     "name": "stdout",
     "output_type": "stream",
     "text": [
      "Training time: 12.4 seconds\n",
      "test_I_var: 1.038 +- 0.056 bits\n",
      "test_I_pred: 1.201 +- 0.039 bits\n",
      "Model saved to these files:\n",
      "\tcrxnull_neighbor_ge_11.pickle\n",
      "\tcrxnull_neighbor_ge_11.h5\n",
      "-----------------------------\n",
      "Training 'crxnull_pairwise_ge_11' model...\n",
      "\n",
      "N = 1,170 observations set as training data.\n",
      "Using 11.9% for validation.\n",
      "Data shuffled.\n",
      "Time to set data: 0.0396 sec.\n"
     ]
    },
    {
     "data": {
      "application/vnd.jupyter.widget-view+json": {
       "model_id": "8f69d26b62df492992806c80793d425b",
       "version_major": 2,
       "version_minor": 0
      },
      "text/plain": [
       "0epoch [00:00, ?epoch/s]"
      ]
     },
     "metadata": {},
     "output_type": "display_data"
    },
    {
     "name": "stdout",
     "output_type": "stream",
     "text": [
      "Training time: 13.7 seconds\n",
      "test_I_var: 1.867 +- 0.061 bits\n",
      "test_I_pred: 2.011 +- 0.044 bits\n",
      "Model saved to these files:\n",
      "\tcrxnull_pairwise_ge_11.pickle\n",
      "\tcrxnull_pairwise_ge_11.h5\n",
      "-----------------------------\n",
      "Training 'crxnull_blackbox_ge_11' model...\n",
      "\n",
      "N = 1,170 observations set as training data.\n",
      "Using 11.9% for validation.\n",
      "Data shuffled.\n",
      "Time to set data: 0.0434 sec.\n"
     ]
    },
    {
     "data": {
      "application/vnd.jupyter.widget-view+json": {
       "model_id": "c693441555994a12aeca53581bb92d1e",
       "version_major": 2,
       "version_minor": 0
      },
      "text/plain": [
       "0epoch [00:00, ?epoch/s]"
      ]
     },
     "metadata": {},
     "output_type": "display_data"
    },
    {
     "name": "stdout",
     "output_type": "stream",
     "text": [
      "Training time: 13.6 seconds\n",
      "test_I_var: 1.618 +- 0.048 bits\n",
      "test_I_pred: 3.253 +- 0.046 bits\n",
      "Model saved to these files:\n",
      "\tcrxnull_blackbox_ge_11.pickle\n",
      "\tcrxnull_blackbox_ge_11.h5\n",
      "-----------------------------\n",
      "Training 'crxnull_additive_ge_12' model...\n",
      "\n",
      "N = 1,170 observations set as training data.\n",
      "Using 11.9% for validation.\n",
      "Data shuffled.\n",
      "Time to set data: 0.0391 sec.\n"
     ]
    },
    {
     "data": {
      "application/vnd.jupyter.widget-view+json": {
       "model_id": "8b5fdc84e8544a77bd89f400859ed29e",
       "version_major": 2,
       "version_minor": 0
      },
      "text/plain": [
       "0epoch [00:00, ?epoch/s]"
      ]
     },
     "metadata": {},
     "output_type": "display_data"
    },
    {
     "name": "stdout",
     "output_type": "stream",
     "text": [
      "Training time: 21.4 seconds\n",
      "test_I_var: 0.706 +- 0.047 bits\n",
      "test_I_pred: 0.790 +- 0.026 bits\n",
      "Model saved to these files:\n",
      "\tcrxnull_additive_ge_12.pickle\n",
      "\tcrxnull_additive_ge_12.h5\n",
      "-----------------------------\n",
      "Training 'crxnull_neighbor_ge_12' model...\n",
      "\n",
      "N = 1,170 observations set as training data.\n",
      "Using 11.9% for validation.\n",
      "Data shuffled.\n",
      "Time to set data: 0.0369 sec.\n"
     ]
    },
    {
     "data": {
      "application/vnd.jupyter.widget-view+json": {
       "model_id": "22a118272cb445f7abfc7cd4c85298b8",
       "version_major": 2,
       "version_minor": 0
      },
      "text/plain": [
       "0epoch [00:00, ?epoch/s]"
      ]
     },
     "metadata": {},
     "output_type": "display_data"
    },
    {
     "name": "stdout",
     "output_type": "stream",
     "text": [
      "Training time: 11.3 seconds\n",
      "test_I_var: 1.173 +- 0.054 bits\n",
      "test_I_pred: 1.300 +- 0.036 bits\n",
      "Model saved to these files:\n",
      "\tcrxnull_neighbor_ge_12.pickle\n",
      "\tcrxnull_neighbor_ge_12.h5\n",
      "-----------------------------\n",
      "Training 'crxnull_pairwise_ge_12' model...\n",
      "\n",
      "N = 1,170 observations set as training data.\n",
      "Using 11.9% for validation.\n",
      "Data shuffled.\n",
      "Time to set data: 0.0381 sec.\n"
     ]
    },
    {
     "data": {
      "application/vnd.jupyter.widget-view+json": {
       "model_id": "9ff7ba0516054c3b97742389d902b76f",
       "version_major": 2,
       "version_minor": 0
      },
      "text/plain": [
       "0epoch [00:00, ?epoch/s]"
      ]
     },
     "metadata": {},
     "output_type": "display_data"
    },
    {
     "name": "stdout",
     "output_type": "stream",
     "text": [
      "Training time: 10.7 seconds\n",
      "test_I_var: 1.796 +- 0.060 bits\n",
      "test_I_pred: 1.879 +- 0.044 bits\n",
      "Model saved to these files:\n",
      "\tcrxnull_pairwise_ge_12.pickle\n",
      "\tcrxnull_pairwise_ge_12.h5\n",
      "-----------------------------\n",
      "Training 'crxnull_blackbox_ge_12' model...\n",
      "\n",
      "N = 1,170 observations set as training data.\n",
      "Using 11.9% for validation.\n",
      "Data shuffled.\n",
      "Time to set data: 0.0388 sec.\n"
     ]
    },
    {
     "data": {
      "application/vnd.jupyter.widget-view+json": {
       "model_id": "d98b9c53fa9b4935bedb03bc04914bf6",
       "version_major": 2,
       "version_minor": 0
      },
      "text/plain": [
       "0epoch [00:00, ?epoch/s]"
      ]
     },
     "metadata": {},
     "output_type": "display_data"
    },
    {
     "name": "stdout",
     "output_type": "stream",
     "text": [
      "Training time: 9.6 seconds\n",
      "test_I_var: 1.737 +- 0.050 bits\n",
      "test_I_pred: 3.200 +- 0.042 bits\n",
      "Model saved to these files:\n",
      "\tcrxnull_blackbox_ge_12.pickle\n",
      "\tcrxnull_blackbox_ge_12.h5\n",
      "-----------------------------\n",
      "Training 'crxnull_additive_ge_13' model...\n",
      "\n",
      "N = 1,170 observations set as training data.\n",
      "Using 11.9% for validation.\n",
      "Data shuffled.\n",
      "Time to set data: 0.0461 sec.\n"
     ]
    },
    {
     "data": {
      "application/vnd.jupyter.widget-view+json": {
       "model_id": "df9a21437c624920b3b4653347d84e06",
       "version_major": 2,
       "version_minor": 0
      },
      "text/plain": [
       "0epoch [00:00, ?epoch/s]"
      ]
     },
     "metadata": {},
     "output_type": "display_data"
    },
    {
     "name": "stdout",
     "output_type": "stream",
     "text": [
      "Training time: 27.7 seconds\n",
      "test_I_var: -0.012 +- 0.048 bits\n",
      "test_I_pred: -0.019 +- 0.023 bits\n",
      "Model saved to these files:\n",
      "\tcrxnull_additive_ge_13.pickle\n",
      "\tcrxnull_additive_ge_13.h5\n",
      "-----------------------------\n",
      "Training 'crxnull_neighbor_ge_13' model...\n",
      "\n",
      "N = 1,170 observations set as training data.\n",
      "Using 11.9% for validation.\n",
      "Data shuffled.\n",
      "Time to set data: 0.0367 sec.\n"
     ]
    },
    {
     "data": {
      "application/vnd.jupyter.widget-view+json": {
       "model_id": "268321f99d124922acaa82854fa0641c",
       "version_major": 2,
       "version_minor": 0
      },
      "text/plain": [
       "0epoch [00:00, ?epoch/s]"
      ]
     },
     "metadata": {},
     "output_type": "display_data"
    },
    {
     "name": "stdout",
     "output_type": "stream",
     "text": [
      "Training time: 24.3 seconds\n",
      "test_I_var: -0.031 +- 0.047 bits\n",
      "test_I_pred: -0.021 +- 0.023 bits\n",
      "Model saved to these files:\n",
      "\tcrxnull_neighbor_ge_13.pickle\n",
      "\tcrxnull_neighbor_ge_13.h5\n",
      "-----------------------------\n",
      "Training 'crxnull_pairwise_ge_13' model...\n",
      "\n",
      "N = 1,170 observations set as training data.\n",
      "Using 11.9% for validation.\n",
      "Data shuffled.\n",
      "Time to set data: 0.042 sec.\n"
     ]
    },
    {
     "data": {
      "application/vnd.jupyter.widget-view+json": {
       "model_id": "29947c21d9e641b6a0464d52bf3d4177",
       "version_major": 2,
       "version_minor": 0
      },
      "text/plain": [
       "0epoch [00:00, ?epoch/s]"
      ]
     },
     "metadata": {},
     "output_type": "display_data"
    },
    {
     "name": "stdout",
     "output_type": "stream",
     "text": [
      "Training time: 22.6 seconds\n",
      "test_I_var: -0.048 +- 0.051 bits\n",
      "test_I_pred: 0.035 +- 0.017 bits\n",
      "Model saved to these files:\n",
      "\tcrxnull_pairwise_ge_13.pickle\n",
      "\tcrxnull_pairwise_ge_13.h5\n",
      "-----------------------------\n",
      "Training 'crxnull_blackbox_ge_13' model...\n",
      "\n",
      "N = 1,170 observations set as training data.\n",
      "Using 11.9% for validation.\n",
      "Data shuffled.\n",
      "Time to set data: 0.0393 sec.\n"
     ]
    },
    {
     "data": {
      "application/vnd.jupyter.widget-view+json": {
       "model_id": "720ab554bb3044ac8dd81284e58b87d0",
       "version_major": 2,
       "version_minor": 0
      },
      "text/plain": [
       "0epoch [00:00, ?epoch/s]"
      ]
     },
     "metadata": {},
     "output_type": "display_data"
    },
    {
     "name": "stdout",
     "output_type": "stream",
     "text": [
      "Training time: 6.4 seconds\n",
      "test_I_var: 1.230 +- 0.046 bits\n",
      "test_I_pred: 3.041 +- 0.037 bits\n",
      "Model saved to these files:\n",
      "\tcrxnull_blackbox_ge_13.pickle\n",
      "\tcrxnull_blackbox_ge_13.h5\n",
      "-----------------------------\n",
      "Training 'crxnull_additive_ge_14' model...\n",
      "\n",
      "N = 1,170 observations set as training data.\n",
      "Using 11.9% for validation.\n",
      "Data shuffled.\n",
      "Time to set data: 0.0441 sec.\n"
     ]
    },
    {
     "data": {
      "application/vnd.jupyter.widget-view+json": {
       "model_id": "4f037691f2a04f65966807f55549a3f1",
       "version_major": 2,
       "version_minor": 0
      },
      "text/plain": [
       "0epoch [00:00, ?epoch/s]"
      ]
     },
     "metadata": {},
     "output_type": "display_data"
    },
    {
     "name": "stdout",
     "output_type": "stream",
     "text": [
      "Training time: 18.4 seconds\n",
      "test_I_var: 0.738 +- 0.048 bits\n",
      "test_I_pred: 0.795 +- 0.031 bits\n",
      "Model saved to these files:\n",
      "\tcrxnull_additive_ge_14.pickle\n",
      "\tcrxnull_additive_ge_14.h5\n",
      "-----------------------------\n",
      "Training 'crxnull_neighbor_ge_14' model...\n",
      "\n",
      "N = 1,170 observations set as training data.\n",
      "Using 11.9% for validation.\n",
      "Data shuffled.\n",
      "Time to set data: 0.0395 sec.\n"
     ]
    },
    {
     "data": {
      "application/vnd.jupyter.widget-view+json": {
       "model_id": "ec901deb9be2405d88b1f15ed06530a6",
       "version_major": 2,
       "version_minor": 0
      },
      "text/plain": [
       "0epoch [00:00, ?epoch/s]"
      ]
     },
     "metadata": {},
     "output_type": "display_data"
    },
    {
     "name": "stdout",
     "output_type": "stream",
     "text": [
      "Training time: 10.7 seconds\n",
      "test_I_var: 1.121 +- 0.050 bits\n",
      "test_I_pred: 1.215 +- 0.035 bits\n",
      "Model saved to these files:\n",
      "\tcrxnull_neighbor_ge_14.pickle\n",
      "\tcrxnull_neighbor_ge_14.h5\n",
      "-----------------------------\n",
      "Training 'crxnull_pairwise_ge_14' model...\n",
      "\n",
      "N = 1,170 observations set as training data.\n",
      "Using 11.9% for validation.\n",
      "Data shuffled.\n",
      "Time to set data: 0.0449 sec.\n"
     ]
    },
    {
     "data": {
      "application/vnd.jupyter.widget-view+json": {
       "model_id": "0339180de2214728adbc995d14ef768f",
       "version_major": 2,
       "version_minor": 0
      },
      "text/plain": [
       "0epoch [00:00, ?epoch/s]"
      ]
     },
     "metadata": {},
     "output_type": "display_data"
    },
    {
     "name": "stdout",
     "output_type": "stream",
     "text": [
      "Training time: 9.5 seconds\n",
      "test_I_var: 1.786 +- 0.052 bits\n",
      "test_I_pred: 1.888 +- 0.037 bits\n",
      "Model saved to these files:\n",
      "\tcrxnull_pairwise_ge_14.pickle\n",
      "\tcrxnull_pairwise_ge_14.h5\n",
      "-----------------------------\n",
      "Training 'crxnull_blackbox_ge_14' model...\n",
      "\n",
      "N = 1,170 observations set as training data.\n",
      "Using 11.9% for validation.\n",
      "Data shuffled.\n",
      "Time to set data: 0.0387 sec.\n"
     ]
    },
    {
     "data": {
      "application/vnd.jupyter.widget-view+json": {
       "model_id": "c0813a62139948a6bfcf81e4703eee93",
       "version_major": 2,
       "version_minor": 0
      },
      "text/plain": [
       "0epoch [00:00, ?epoch/s]"
      ]
     },
     "metadata": {},
     "output_type": "display_data"
    },
    {
     "name": "stdout",
     "output_type": "stream",
     "text": [
      "Training time: 7.1 seconds\n",
      "test_I_var: 1.801 +- 0.042 bits\n",
      "test_I_pred: 3.275 +- 0.039 bits\n",
      "Model saved to these files:\n",
      "\tcrxnull_blackbox_ge_14.pickle\n",
      "\tcrxnull_blackbox_ge_14.h5\n",
      "-----------------------------\n",
      "Training 'crxnull_additive_ge_15' model...\n",
      "\n",
      "N = 1,170 observations set as training data.\n",
      "Using 11.9% for validation.\n",
      "Data shuffled.\n",
      "Time to set data: 0.0397 sec.\n"
     ]
    },
    {
     "data": {
      "application/vnd.jupyter.widget-view+json": {
       "model_id": "6673bc4ee7b44ed18cfde28038c8eb49",
       "version_major": 2,
       "version_minor": 0
      },
      "text/plain": [
       "0epoch [00:00, ?epoch/s]"
      ]
     },
     "metadata": {},
     "output_type": "display_data"
    },
    {
     "name": "stdout",
     "output_type": "stream",
     "text": [
      "Training time: 25.2 seconds\n",
      "test_I_var: 0.756 +- 0.044 bits\n",
      "test_I_pred: 0.802 +- 0.024 bits\n",
      "Model saved to these files:\n",
      "\tcrxnull_additive_ge_15.pickle\n",
      "\tcrxnull_additive_ge_15.h5\n",
      "-----------------------------\n",
      "Training 'crxnull_neighbor_ge_15' model...\n",
      "\n",
      "N = 1,170 observations set as training data.\n",
      "Using 11.9% for validation.\n",
      "Data shuffled.\n",
      "Time to set data: 0.0492 sec.\n"
     ]
    },
    {
     "data": {
      "application/vnd.jupyter.widget-view+json": {
       "model_id": "092cee1b02d5470699b455225a430768",
       "version_major": 2,
       "version_minor": 0
      },
      "text/plain": [
       "0epoch [00:00, ?epoch/s]"
      ]
     },
     "metadata": {},
     "output_type": "display_data"
    },
    {
     "name": "stdout",
     "output_type": "stream",
     "text": [
      "Training time: 19.0 seconds\n",
      "test_I_var: 1.166 +- 0.052 bits\n",
      "test_I_pred: 1.286 +- 0.036 bits\n",
      "Model saved to these files:\n",
      "\tcrxnull_neighbor_ge_15.pickle\n",
      "\tcrxnull_neighbor_ge_15.h5\n",
      "-----------------------------\n",
      "Training 'crxnull_pairwise_ge_15' model...\n",
      "\n",
      "N = 1,170 observations set as training data.\n",
      "Using 11.9% for validation.\n",
      "Data shuffled.\n",
      "Time to set data: 0.0495 sec.\n"
     ]
    },
    {
     "data": {
      "application/vnd.jupyter.widget-view+json": {
       "model_id": "a022dd68ac70448f82045bb0fa0eb036",
       "version_major": 2,
       "version_minor": 0
      },
      "text/plain": [
       "0epoch [00:00, ?epoch/s]"
      ]
     },
     "metadata": {},
     "output_type": "display_data"
    },
    {
     "name": "stdout",
     "output_type": "stream",
     "text": [
      "Training time: 23.2 seconds\n",
      "test_I_var: -0.059 +- 0.045 bits\n",
      "test_I_pred: -0.004 +- 0.026 bits\n",
      "Model saved to these files:\n",
      "\tcrxnull_pairwise_ge_15.pickle\n",
      "\tcrxnull_pairwise_ge_15.h5\n",
      "-----------------------------\n",
      "Training 'crxnull_blackbox_ge_15' model...\n",
      "\n",
      "N = 1,170 observations set as training data.\n",
      "Using 11.9% for validation.\n",
      "Data shuffled.\n",
      "Time to set data: 0.0378 sec.\n"
     ]
    },
    {
     "data": {
      "application/vnd.jupyter.widget-view+json": {
       "model_id": "364babfe9382470db9615030026f0dbc",
       "version_major": 2,
       "version_minor": 0
      },
      "text/plain": [
       "0epoch [00:00, ?epoch/s]"
      ]
     },
     "metadata": {},
     "output_type": "display_data"
    },
    {
     "name": "stdout",
     "output_type": "stream",
     "text": [
      "Training time: 8.2 seconds\n",
      "test_I_var: 1.863 +- 0.051 bits\n",
      "test_I_pred: 3.355 +- 0.050 bits\n",
      "Model saved to these files:\n",
      "\tcrxnull_blackbox_ge_15.pickle\n",
      "\tcrxnull_blackbox_ge_15.h5\n",
      "-----------------------------\n",
      "Training 'crxnull_additive_ge_16' model...\n",
      "\n",
      "N = 1,170 observations set as training data.\n",
      "Using 11.9% for validation.\n",
      "Data shuffled.\n",
      "Time to set data: 0.038 sec.\n"
     ]
    },
    {
     "data": {
      "application/vnd.jupyter.widget-view+json": {
       "model_id": "7c7f0bbbe0b44161b2a729c17c23aced",
       "version_major": 2,
       "version_minor": 0
      },
      "text/plain": [
       "0epoch [00:00, ?epoch/s]"
      ]
     },
     "metadata": {},
     "output_type": "display_data"
    },
    {
     "name": "stdout",
     "output_type": "stream",
     "text": [
      "Training time: 27.7 seconds\n",
      "test_I_var: -0.060 +- 0.044 bits\n",
      "test_I_pred: 0.017 +- 0.021 bits\n",
      "Model saved to these files:\n",
      "\tcrxnull_additive_ge_16.pickle\n",
      "\tcrxnull_additive_ge_16.h5\n",
      "-----------------------------\n",
      "Training 'crxnull_neighbor_ge_16' model...\n",
      "\n",
      "N = 1,170 observations set as training data.\n",
      "Using 11.9% for validation.\n",
      "Data shuffled.\n",
      "Time to set data: 0.0493 sec.\n"
     ]
    },
    {
     "data": {
      "application/vnd.jupyter.widget-view+json": {
       "model_id": "c2d23e3e2b474eaabcd4d23b0cb9f82f",
       "version_major": 2,
       "version_minor": 0
      },
      "text/plain": [
       "0epoch [00:00, ?epoch/s]"
      ]
     },
     "metadata": {},
     "output_type": "display_data"
    },
    {
     "name": "stdout",
     "output_type": "stream",
     "text": [
      "Training time: 11.1 seconds\n",
      "test_I_var: 1.097 +- 0.046 bits\n",
      "test_I_pred: 1.213 +- 0.038 bits\n",
      "Model saved to these files:\n",
      "\tcrxnull_neighbor_ge_16.pickle\n",
      "\tcrxnull_neighbor_ge_16.h5\n",
      "-----------------------------\n",
      "Training 'crxnull_pairwise_ge_16' model...\n",
      "\n",
      "N = 1,170 observations set as training data.\n",
      "Using 11.9% for validation.\n",
      "Data shuffled.\n",
      "Time to set data: 0.0373 sec.\n"
     ]
    },
    {
     "data": {
      "application/vnd.jupyter.widget-view+json": {
       "model_id": "8a2ef1bf9fd54ebfa615604ebc3bd91a",
       "version_major": 2,
       "version_minor": 0
      },
      "text/plain": [
       "0epoch [00:00, ?epoch/s]"
      ]
     },
     "metadata": {},
     "output_type": "display_data"
    },
    {
     "name": "stdout",
     "output_type": "stream",
     "text": [
      "Training time: 12.2 seconds\n",
      "test_I_var: 1.889 +- 0.065 bits\n",
      "test_I_pred: 2.036 +- 0.038 bits\n",
      "Model saved to these files:\n",
      "\tcrxnull_pairwise_ge_16.pickle\n",
      "\tcrxnull_pairwise_ge_16.h5\n",
      "-----------------------------\n",
      "Training 'crxnull_blackbox_ge_16' model...\n",
      "\n",
      "N = 1,170 observations set as training data.\n",
      "Using 11.9% for validation.\n",
      "Data shuffled.\n",
      "Time to set data: 0.046 sec.\n"
     ]
    },
    {
     "data": {
      "application/vnd.jupyter.widget-view+json": {
       "model_id": "d5bd7be655e843ab8298fafc79430012",
       "version_major": 2,
       "version_minor": 0
      },
      "text/plain": [
       "0epoch [00:00, ?epoch/s]"
      ]
     },
     "metadata": {},
     "output_type": "display_data"
    },
    {
     "name": "stdout",
     "output_type": "stream",
     "text": [
      "Training time: 10.2 seconds\n",
      "test_I_var: 1.882 +- 0.045 bits\n",
      "test_I_pred: 3.510 +- 0.037 bits\n",
      "Model saved to these files:\n",
      "\tcrxnull_blackbox_ge_16.pickle\n",
      "\tcrxnull_blackbox_ge_16.h5\n",
      "-----------------------------\n",
      "Training 'crxnull_additive_ge_17' model...\n",
      "\n",
      "N = 1,170 observations set as training data.\n",
      "Using 11.9% for validation.\n",
      "Data shuffled.\n",
      "Time to set data: 0.0375 sec.\n"
     ]
    },
    {
     "data": {
      "application/vnd.jupyter.widget-view+json": {
       "model_id": "0e371cb3981649669877d3152e530a2f",
       "version_major": 2,
       "version_minor": 0
      },
      "text/plain": [
       "0epoch [00:00, ?epoch/s]"
      ]
     },
     "metadata": {},
     "output_type": "display_data"
    },
    {
     "name": "stdout",
     "output_type": "stream",
     "text": [
      "Training time: 16.3 seconds\n",
      "test_I_var: 0.727 +- 0.048 bits\n",
      "test_I_pred: 0.778 +- 0.025 bits\n",
      "Model saved to these files:\n",
      "\tcrxnull_additive_ge_17.pickle\n",
      "\tcrxnull_additive_ge_17.h5\n",
      "-----------------------------\n",
      "Training 'crxnull_neighbor_ge_17' model...\n",
      "\n",
      "N = 1,170 observations set as training data.\n",
      "Using 11.9% for validation.\n",
      "Data shuffled.\n",
      "Time to set data: 0.0372 sec.\n"
     ]
    },
    {
     "data": {
      "application/vnd.jupyter.widget-view+json": {
       "model_id": "7154edb5d6204231b86d1ed1f75ddac6",
       "version_major": 2,
       "version_minor": 0
      },
      "text/plain": [
       "0epoch [00:00, ?epoch/s]"
      ]
     },
     "metadata": {},
     "output_type": "display_data"
    },
    {
     "name": "stdout",
     "output_type": "stream",
     "text": [
      "WARNING:tensorflow:Callback method `on_train_batch_begin` is slow compared to the batch time (batch time: 0.0079s vs `on_train_batch_begin` time: 0.0095s). Check your callbacks.\n",
      "Training time: 28.8 seconds\n",
      "test_I_var: -0.060 +- 0.046 bits\n",
      "test_I_pred: 0.089 +- 0.022 bits\n",
      "Model saved to these files:\n",
      "\tcrxnull_neighbor_ge_17.pickle\n",
      "\tcrxnull_neighbor_ge_17.h5\n",
      "-----------------------------\n",
      "Training 'crxnull_pairwise_ge_17' model...\n",
      "\n",
      "N = 1,170 observations set as training data.\n",
      "Using 11.9% for validation.\n",
      "Data shuffled.\n",
      "Time to set data: 0.0374 sec.\n"
     ]
    },
    {
     "data": {
      "application/vnd.jupyter.widget-view+json": {
       "model_id": "4dd860e3c81a476a93415096d1eb28b8",
       "version_major": 2,
       "version_minor": 0
      },
      "text/plain": [
       "0epoch [00:00, ?epoch/s]"
      ]
     },
     "metadata": {},
     "output_type": "display_data"
    },
    {
     "name": "stdout",
     "output_type": "stream",
     "text": [
      "Training time: 7.5 seconds\n",
      "test_I_var: 1.718 +- 0.058 bits\n",
      "test_I_pred: 1.850 +- 0.044 bits\n",
      "Model saved to these files:\n",
      "\tcrxnull_pairwise_ge_17.pickle\n",
      "\tcrxnull_pairwise_ge_17.h5\n",
      "-----------------------------\n",
      "Training 'crxnull_blackbox_ge_17' model...\n",
      "\n",
      "N = 1,170 observations set as training data.\n",
      "Using 11.9% for validation.\n",
      "Data shuffled.\n",
      "Time to set data: 0.0367 sec.\n"
     ]
    },
    {
     "data": {
      "application/vnd.jupyter.widget-view+json": {
       "model_id": "9617946da8074755ae1818302c2bdcec",
       "version_major": 2,
       "version_minor": 0
      },
      "text/plain": [
       "0epoch [00:00, ?epoch/s]"
      ]
     },
     "metadata": {},
     "output_type": "display_data"
    },
    {
     "name": "stdout",
     "output_type": "stream",
     "text": [
      "Training time: 7.0 seconds\n",
      "test_I_var: 1.123 +- 0.045 bits\n",
      "test_I_pred: 2.755 +- 0.054 bits\n",
      "Model saved to these files:\n",
      "\tcrxnull_blackbox_ge_17.pickle\n",
      "\tcrxnull_blackbox_ge_17.h5\n",
      "-----------------------------\n",
      "Training 'crxnull_additive_ge_18' model...\n",
      "\n",
      "N = 1,170 observations set as training data.\n",
      "Using 11.9% for validation.\n",
      "Data shuffled.\n",
      "Time to set data: 0.0427 sec.\n"
     ]
    },
    {
     "data": {
      "application/vnd.jupyter.widget-view+json": {
       "model_id": "a8cab68ba3bb447eb291519a3ba0d689",
       "version_major": 2,
       "version_minor": 0
      },
      "text/plain": [
       "0epoch [00:00, ?epoch/s]"
      ]
     },
     "metadata": {},
     "output_type": "display_data"
    },
    {
     "name": "stdout",
     "output_type": "stream",
     "text": [
      "Training time: 14.8 seconds\n",
      "test_I_var: 0.706 +- 0.043 bits\n",
      "test_I_pred: 0.778 +- 0.038 bits\n",
      "Model saved to these files:\n",
      "\tcrxnull_additive_ge_18.pickle\n",
      "\tcrxnull_additive_ge_18.h5\n",
      "-----------------------------\n",
      "Training 'crxnull_neighbor_ge_18' model...\n",
      "\n",
      "N = 1,170 observations set as training data.\n",
      "Using 11.9% for validation.\n",
      "Data shuffled.\n",
      "Time to set data: 0.0411 sec.\n"
     ]
    },
    {
     "data": {
      "application/vnd.jupyter.widget-view+json": {
       "model_id": "35ca8039f10c4d43b56c1623149b9641",
       "version_major": 2,
       "version_minor": 0
      },
      "text/plain": [
       "0epoch [00:00, ?epoch/s]"
      ]
     },
     "metadata": {},
     "output_type": "display_data"
    },
    {
     "name": "stdout",
     "output_type": "stream",
     "text": [
      "Training time: 11.2 seconds\n",
      "test_I_var: 1.170 +- 0.049 bits\n",
      "test_I_pred: 1.292 +- 0.031 bits\n",
      "Model saved to these files:\n",
      "\tcrxnull_neighbor_ge_18.pickle\n",
      "\tcrxnull_neighbor_ge_18.h5\n",
      "-----------------------------\n",
      "Training 'crxnull_pairwise_ge_18' model...\n",
      "\n",
      "N = 1,170 observations set as training data.\n",
      "Using 11.9% for validation.\n",
      "Data shuffled.\n",
      "Time to set data: 0.0447 sec.\n"
     ]
    },
    {
     "data": {
      "application/vnd.jupyter.widget-view+json": {
       "model_id": "4971b6e50bda40a9ac2dea25223d5de1",
       "version_major": 2,
       "version_minor": 0
      },
      "text/plain": [
       "0epoch [00:00, ?epoch/s]"
      ]
     },
     "metadata": {},
     "output_type": "display_data"
    },
    {
     "name": "stdout",
     "output_type": "stream",
     "text": [
      "Training time: 10.9 seconds\n",
      "test_I_var: 1.946 +- 0.067 bits\n",
      "test_I_pred: 2.093 +- 0.048 bits\n",
      "Model saved to these files:\n",
      "\tcrxnull_pairwise_ge_18.pickle\n",
      "\tcrxnull_pairwise_ge_18.h5\n",
      "-----------------------------\n",
      "Training 'crxnull_blackbox_ge_18' model...\n",
      "\n",
      "N = 1,170 observations set as training data.\n",
      "Using 11.9% for validation.\n",
      "Data shuffled.\n",
      "Time to set data: 0.0369 sec.\n"
     ]
    },
    {
     "data": {
      "application/vnd.jupyter.widget-view+json": {
       "model_id": "101173fc63f44a249b6ec5d8e260328a",
       "version_major": 2,
       "version_minor": 0
      },
      "text/plain": [
       "0epoch [00:00, ?epoch/s]"
      ]
     },
     "metadata": {},
     "output_type": "display_data"
    },
    {
     "name": "stdout",
     "output_type": "stream",
     "text": [
      "Training time: 8.4 seconds\n",
      "test_I_var: 1.814 +- 0.042 bits\n",
      "test_I_pred: 3.160 +- 0.049 bits\n",
      "Model saved to these files:\n",
      "\tcrxnull_blackbox_ge_18.pickle\n",
      "\tcrxnull_blackbox_ge_18.h5\n",
      "-----------------------------\n",
      "Training 'crxnull_additive_ge_19' model...\n",
      "\n",
      "N = 1,170 observations set as training data.\n",
      "Using 11.9% for validation.\n",
      "Data shuffled.\n",
      "Time to set data: 0.037 sec.\n"
     ]
    },
    {
     "data": {
      "application/vnd.jupyter.widget-view+json": {
       "model_id": "36ff6e37a0d844589ee57868462394a8",
       "version_major": 2,
       "version_minor": 0
      },
      "text/plain": [
       "0epoch [00:00, ?epoch/s]"
      ]
     },
     "metadata": {},
     "output_type": "display_data"
    },
    {
     "name": "stdout",
     "output_type": "stream",
     "text": [
      "Training time: 10.7 seconds\n",
      "test_I_var: 0.691 +- 0.040 bits\n",
      "test_I_pred: 0.782 +- 0.021 bits\n",
      "Model saved to these files:\n",
      "\tcrxnull_additive_ge_19.pickle\n",
      "\tcrxnull_additive_ge_19.h5\n",
      "-----------------------------\n",
      "Training 'crxnull_neighbor_ge_19' model...\n",
      "\n",
      "N = 1,170 observations set as training data.\n",
      "Using 11.9% for validation.\n",
      "Data shuffled.\n",
      "Time to set data: 0.0416 sec.\n"
     ]
    },
    {
     "data": {
      "application/vnd.jupyter.widget-view+json": {
       "model_id": "6ff55ef3ec42465c9db77ddc30767a92",
       "version_major": 2,
       "version_minor": 0
      },
      "text/plain": [
       "0epoch [00:00, ?epoch/s]"
      ]
     },
     "metadata": {},
     "output_type": "display_data"
    },
    {
     "name": "stdout",
     "output_type": "stream",
     "text": [
      "Training time: 17.4 seconds\n",
      "test_I_var: 1.120 +- 0.046 bits\n",
      "test_I_pred: 1.214 +- 0.041 bits\n",
      "Model saved to these files:\n",
      "\tcrxnull_neighbor_ge_19.pickle\n",
      "\tcrxnull_neighbor_ge_19.h5\n",
      "-----------------------------\n",
      "Training 'crxnull_pairwise_ge_19' model...\n",
      "\n",
      "N = 1,170 observations set as training data.\n",
      "Using 11.9% for validation.\n",
      "Data shuffled.\n",
      "Time to set data: 0.0394 sec.\n"
     ]
    },
    {
     "data": {
      "application/vnd.jupyter.widget-view+json": {
       "model_id": "172dcdcb3a15438fa3111f2bf160abec",
       "version_major": 2,
       "version_minor": 0
      },
      "text/plain": [
       "0epoch [00:00, ?epoch/s]"
      ]
     },
     "metadata": {},
     "output_type": "display_data"
    },
    {
     "name": "stdout",
     "output_type": "stream",
     "text": [
      "Training time: 12.8 seconds\n",
      "test_I_var: 1.904 +- 0.056 bits\n",
      "test_I_pred: 1.976 +- 0.030 bits\n",
      "Model saved to these files:\n",
      "\tcrxnull_pairwise_ge_19.pickle\n",
      "\tcrxnull_pairwise_ge_19.h5\n",
      "-----------------------------\n",
      "Training 'crxnull_blackbox_ge_19' model...\n",
      "\n",
      "N = 1,170 observations set as training data.\n",
      "Using 11.9% for validation.\n",
      "Data shuffled.\n",
      "Time to set data: 0.0402 sec.\n"
     ]
    },
    {
     "data": {
      "application/vnd.jupyter.widget-view+json": {
       "model_id": "a9fd7b7c02124287aa40c9a04def5377",
       "version_major": 2,
       "version_minor": 0
      },
      "text/plain": [
       "0epoch [00:00, ?epoch/s]"
      ]
     },
     "metadata": {},
     "output_type": "display_data"
    },
    {
     "name": "stdout",
     "output_type": "stream",
     "text": [
      "Training time: 8.4 seconds\n",
      "test_I_var: 1.448 +- 0.042 bits\n",
      "test_I_pred: 2.776 +- 0.041 bits\n",
      "Model saved to these files:\n",
      "\tcrxnull_blackbox_ge_19.pickle\n",
      "\tcrxnull_blackbox_ge_19.h5\n",
      "Done!\n"
     ]
    }
   ],
   "source": [
    "Data_file = open(\"CRX_null_trainval.pkl\", \"rb\")\n",
    "trainval_df = pickle.load(Data_file)\n",
    "Data_file.close()\n",
    "\n",
    "Data_file = open(\"CRX_null_test.pkl\", \"rb\")\n",
    "test_df = pickle.load(Data_file)\n",
    "Data_file.close()\n",
    "\n",
    "# train on CRX null results\n",
    "site_letters = ['N', 'n', 'C', 'c', 'R', 'r', 'X', 'x', 'O']\n",
    "# Set default keyword arguments for model.Model()\n",
    "default_model_kwargs = {\n",
    "    'L':4,\n",
    "    'alphabet':site_letters,\n",
    "    'regression_type':'GE',\n",
    "    'ge_noise_model_type':'SkewedT',\n",
    "    'ge_heteroskedasticity_order':2\n",
    "}\n",
    "\n",
    "# Set default keyword arguments for model.fit()\n",
    "default_fit_kwargs = {\n",
    "    'learning_rate':.001,\n",
    "    'epochs':1000,\n",
    "    'batch_size':200,\n",
    "    'early_stopping':True,\n",
    "    'early_stopping_patience':30,\n",
    "    'linear_initialization':False,\n",
    "    'verbose':False\n",
    "}\n",
    "\n",
    "# Iterate over types of G-P maps\n",
    "gpmap_types = ['additive','neighbor','pairwise','blackbox']\n",
    "print(f'Training {len(gpmap_types)} models: {gpmap_types}')\n",
    "for i in range(20):\n",
    "    random.seed(i)\n",
    "    np.random.seed(i) \n",
    "    tf.random.set_seed(i)\n",
    "    for gpmap_type in gpmap_types:\n",
    "\n",
    "        # Set model name\n",
    "        model_name = f'crxnull_{gpmap_type}_ge_{i}'\n",
    "        print('-----------------------------')\n",
    "        print(f\"Training '{model_name}' model...\\n\")\n",
    "\n",
    "        # Copy keyword arguments\n",
    "        model_kwargs = default_model_kwargs.copy()\n",
    "        fit_kwargs = default_fit_kwargs.copy()\n",
    "\n",
    "        # Modify keyword arguments based on G-P map being trained\n",
    "        # Note: the need for different hyperparameters, such as batch_size\n",
    "        # and learning_rate, was found by trial and error.\n",
    "        if gpmap_type=='additive': pass;\n",
    "        elif gpmap_type=='neighbor': pass;\n",
    "        elif gpmap_type=='pairwise':\n",
    "            fit_kwargs['batch_size'] = 50\n",
    "        elif gpmap_type=='blackbox':\n",
    "            model_kwargs['gpmap_kwargs'] = {'hidden_layer_sizes':[10]*5,\n",
    "                                            'features':'pairwise'}\n",
    "            fit_kwargs['learning_rate'] = 0.0005\n",
    "            fit_kwargs['batch_size'] = 50\n",
    "            fit_kwargs['early_stopping_patience'] = 10\n",
    "\n",
    "        # Instantiate model using the keyword arguments in model_kwargs dict\n",
    "        model = mavenn.Model(gpmap_type=gpmap_type, **model_kwargs)\n",
    "\n",
    "        # Set training data\n",
    "        model.set_data(x=trainval_df['synthetic_promoter'],\n",
    "                       y=trainval_df['Rho_basal_crxnull'],\n",
    "                       validation_flags=trainval_df['validation'])\n",
    "\n",
    "        # Train model using the keyword arguments in fig_kwargs dict\n",
    "        model.fit(**fit_kwargs)\n",
    "\n",
    "        # Compute variational information on test data\n",
    "        I_var, dI_var =  model.I_variational(x=test_df['synthetic_promoter'], y=test_df['Rho_basal_crxnull'])\n",
    "        print(f'test_I_var: {I_var:.3f} +- {dI_var:.3f} bits')\n",
    "\n",
    "        # Compute predictive information on test data\n",
    "        I_pred, dI_pred = model.I_predictive(x=test_df['synthetic_promoter'], y=test_df['Rho_basal_crxnull'])\n",
    "        print(f'test_I_pred: {I_pred:.3f} +- {dI_pred:.3f} bits')\n",
    "\n",
    "        # Save model to file\n",
    "        model.save(model_name)\n",
    "\n",
    "print('Done!')"
   ]
  },
  {
   "cell_type": "code",
   "execution_count": 9,
   "id": "01f3c730",
   "metadata": {},
   "outputs": [
    {
     "data": {
      "text/html": [
       "<div>\n",
       "<style scoped>\n",
       "    .dataframe tbody tr th:only-of-type {\n",
       "        vertical-align: middle;\n",
       "    }\n",
       "\n",
       "    .dataframe tbody tr th {\n",
       "        vertical-align: top;\n",
       "    }\n",
       "\n",
       "    .dataframe thead th {\n",
       "        text-align: right;\n",
       "    }\n",
       "</style>\n",
       "<table border=\"1\" class=\"dataframe\">\n",
       "  <thead>\n",
       "    <tr style=\"text-align: right;\">\n",
       "      <th></th>\n",
       "      <th>Sequence</th>\n",
       "      <th>Expression</th>\n",
       "    </tr>\n",
       "  </thead>\n",
       "  <tbody>\n",
       "    <tr>\n",
       "      <th>0</th>\n",
       "      <td>CCCDZ</td>\n",
       "      <td>3.281311</td>\n",
       "    </tr>\n",
       "    <tr>\n",
       "      <th>1</th>\n",
       "      <td>CCCEA</td>\n",
       "      <td>-0.350084</td>\n",
       "    </tr>\n",
       "    <tr>\n",
       "      <th>2</th>\n",
       "      <td>CCCEN</td>\n",
       "      <td>-0.169063</td>\n",
       "    </tr>\n",
       "    <tr>\n",
       "      <th>3</th>\n",
       "      <td>CCCAE</td>\n",
       "      <td>0.420798</td>\n",
       "    </tr>\n",
       "    <tr>\n",
       "      <th>4</th>\n",
       "      <td>CCCAN</td>\n",
       "      <td>1.890108</td>\n",
       "    </tr>\n",
       "    <tr>\n",
       "      <th>...</th>\n",
       "      <td>...</td>\n",
       "      <td>...</td>\n",
       "    </tr>\n",
       "    <tr>\n",
       "      <th>6593</th>\n",
       "      <td>BOACC</td>\n",
       "      <td>4.623494</td>\n",
       "    </tr>\n",
       "    <tr>\n",
       "      <th>6594</th>\n",
       "      <td>BOACR</td>\n",
       "      <td>4.390299</td>\n",
       "    </tr>\n",
       "    <tr>\n",
       "      <th>6595</th>\n",
       "      <td>BOARC</td>\n",
       "      <td>4.523007</td>\n",
       "    </tr>\n",
       "    <tr>\n",
       "      <th>6596</th>\n",
       "      <td>BONCR</td>\n",
       "      <td>4.696074</td>\n",
       "    </tr>\n",
       "    <tr>\n",
       "      <th>6597</th>\n",
       "      <td>BONRC</td>\n",
       "      <td>4.612609</td>\n",
       "    </tr>\n",
       "  </tbody>\n",
       "</table>\n",
       "<p>6598 rows × 2 columns</p>\n",
       "</div>"
      ],
      "text/plain": [
       "     Sequence  Expression\n",
       "0       CCCDZ    3.281311\n",
       "1       CCCEA   -0.350084\n",
       "2       CCCEN   -0.169063\n",
       "3       CCCAE    0.420798\n",
       "4       CCCAN    1.890108\n",
       "...       ...         ...\n",
       "6593    BOACC    4.623494\n",
       "6594    BOACR    4.390299\n",
       "6595    BOARC    4.523007\n",
       "6596    BONCR    4.696074\n",
       "6597    BONRC    4.612609\n",
       "\n",
       "[6598 rows x 2 columns]"
      ]
     },
     "execution_count": 9,
     "metadata": {},
     "output_type": "execute_result"
    }
   ],
   "source": [
    "# Ryan's building block library\n",
    "\n",
    "Data = pd.read_csv(\"data_files/cdnrm_mpra_library.txt\", sep = '\\t', header = None, names = ['Sequence', 'Expression'])\n",
    "\n",
    "# Reencode binding site arrangements so that all sequences are the same length (use O to pad)\n",
    "# and each binding site is one character\n",
    "max_length = 5\n",
    "Padded_sequences = []\n",
    "for sequence in Data['Sequence']:\n",
    "    building_blocks = sequence.split(\"_\")[1]\n",
    "    encoding = \"\"\n",
    "    letter = \"\"\n",
    "    for i in np.linspace(0, 8, 5):\n",
    "        i = int(i)\n",
    "        if building_blocks[i:(i + 2)] == \"Ch\":\n",
    "            encoding = encoding + \"C\"\n",
    "        elif building_blocks[i:(i + 2)] == \"Cm\":\n",
    "            encoding = encoding + \"R\"\n",
    "        elif building_blocks[i:(i + 2)] == \"Cl\":\n",
    "            encoding = encoding + \"X\"\n",
    "        elif building_blocks[i:(i + 2)] == \"Dh\":\n",
    "            encoding = encoding + \"D\"\n",
    "        elif building_blocks[i:(i + 2)] == \"Dm\":\n",
    "            encoding = encoding + \"E\"\n",
    "        elif building_blocks[i:(i + 2)] == \"Nh\":\n",
    "            encoding = encoding + \"N\"\n",
    "        elif building_blocks[i:(i + 2)] == \"Nm\":\n",
    "            encoding = encoding + \"L\"\n",
    "        elif building_blocks[i:(i + 2)] == \"Rh\":\n",
    "            encoding = encoding + \"O\"\n",
    "        elif building_blocks[i:(i + 2)] == \"Rm\":\n",
    "            encoding = encoding + \"B\"\n",
    "        elif building_blocks[i:(i + 2)] == \"Mh\":\n",
    "            encoding = encoding + \"A\"\n",
    "        elif building_blocks[i:(i + 2)] == \"Mm\":\n",
    "            encoding = encoding + \"Z\"\n",
    "    Padded_sequences.append(encoding)\n",
    "Data['Sequence'] = Padded_sequences\n",
    "Data\n",
    "#Sequence = np.concatenate([Data['synthetic_promoter'] + \"P\", \n",
    "#                     Data['synthetic_promoter'] + \"p\", \n",
    "#                     Data['synthetic_promoter'] + \"H\"])\n",
    "#Expression = np.concatenate([Data[\"Rho_basal_wt\"],  \n",
    "#          Data[\"Rho_basal_crxnull\"], \n",
    "#          Data[\"hsp68_basal_wt\"]])\n",
    "#Data_bypromoter = pd.DataFrame({'Sequence': Sequence, 'Expression': Expression})\n",
    "#Data_bypromoter"
   ]
  },
  {
   "cell_type": "code",
   "execution_count": 10,
   "id": "33347113",
   "metadata": {},
   "outputs": [
    {
     "name": "stdout",
     "output_type": "stream",
     "text": [
      "Sequence length: 5 binding sites\n",
      "Training set   :    5,274 observations (  79.93%)\n",
      "Validation set :      658 observations (   9.97%)\n",
      "Test set       :      666 observations (  10.09%)\n",
      "-------------------------------------------------\n",
      "Total dataset  :    6,598 observations ( 100.00%)\n",
      "\n",
      "\n",
      "trainval_df:\n"
     ]
    },
    {
     "data": {
      "text/html": [
       "<div>\n",
       "<style scoped>\n",
       "    .dataframe tbody tr th:only-of-type {\n",
       "        vertical-align: middle;\n",
       "    }\n",
       "\n",
       "    .dataframe tbody tr th {\n",
       "        vertical-align: top;\n",
       "    }\n",
       "\n",
       "    .dataframe thead th {\n",
       "        text-align: right;\n",
       "    }\n",
       "</style>\n",
       "<table border=\"1\" class=\"dataframe\">\n",
       "  <thead>\n",
       "    <tr style=\"text-align: right;\">\n",
       "      <th></th>\n",
       "      <th>validation</th>\n",
       "      <th>Sequence</th>\n",
       "      <th>Expression</th>\n",
       "    </tr>\n",
       "  </thead>\n",
       "  <tbody>\n",
       "    <tr>\n",
       "      <th>0</th>\n",
       "      <td>False</td>\n",
       "      <td>CCCDZ</td>\n",
       "      <td>3.281311</td>\n",
       "    </tr>\n",
       "    <tr>\n",
       "      <th>1</th>\n",
       "      <td>False</td>\n",
       "      <td>CCCEA</td>\n",
       "      <td>-0.350084</td>\n",
       "    </tr>\n",
       "    <tr>\n",
       "      <th>2</th>\n",
       "      <td>False</td>\n",
       "      <td>CCCEN</td>\n",
       "      <td>-0.169063</td>\n",
       "    </tr>\n",
       "    <tr>\n",
       "      <th>3</th>\n",
       "      <td>False</td>\n",
       "      <td>CCCAE</td>\n",
       "      <td>0.420798</td>\n",
       "    </tr>\n",
       "    <tr>\n",
       "      <th>4</th>\n",
       "      <td>False</td>\n",
       "      <td>CCCAN</td>\n",
       "      <td>1.890108</td>\n",
       "    </tr>\n",
       "    <tr>\n",
       "      <th>...</th>\n",
       "      <td>...</td>\n",
       "      <td>...</td>\n",
       "      <td>...</td>\n",
       "    </tr>\n",
       "    <tr>\n",
       "      <th>5927</th>\n",
       "      <td>False</td>\n",
       "      <td>BOACC</td>\n",
       "      <td>4.623494</td>\n",
       "    </tr>\n",
       "    <tr>\n",
       "      <th>5928</th>\n",
       "      <td>False</td>\n",
       "      <td>BOACR</td>\n",
       "      <td>4.390299</td>\n",
       "    </tr>\n",
       "    <tr>\n",
       "      <th>5929</th>\n",
       "      <td>False</td>\n",
       "      <td>BOARC</td>\n",
       "      <td>4.523007</td>\n",
       "    </tr>\n",
       "    <tr>\n",
       "      <th>5930</th>\n",
       "      <td>False</td>\n",
       "      <td>BONCR</td>\n",
       "      <td>4.696074</td>\n",
       "    </tr>\n",
       "    <tr>\n",
       "      <th>5931</th>\n",
       "      <td>False</td>\n",
       "      <td>BONRC</td>\n",
       "      <td>4.612609</td>\n",
       "    </tr>\n",
       "  </tbody>\n",
       "</table>\n",
       "<p>5932 rows × 3 columns</p>\n",
       "</div>"
      ],
      "text/plain": [
       "      validation Sequence  Expression\n",
       "0          False    CCCDZ    3.281311\n",
       "1          False    CCCEA   -0.350084\n",
       "2          False    CCCEN   -0.169063\n",
       "3          False    CCCAE    0.420798\n",
       "4          False    CCCAN    1.890108\n",
       "...          ...      ...         ...\n",
       "5927       False    BOACC    4.623494\n",
       "5928       False    BOACR    4.390299\n",
       "5929       False    BOARC    4.523007\n",
       "5930       False    BONCR    4.696074\n",
       "5931       False    BONRC    4.612609\n",
       "\n",
       "[5932 rows x 3 columns]"
      ]
     },
     "execution_count": 10,
     "metadata": {},
     "output_type": "execute_result"
    }
   ],
   "source": [
    "# Assign data to training, validation, and test sets\n",
    "group = []\n",
    "for i in range(len(Data)):\n",
    "    group_num = random.random()\n",
    "    if group_num < 0.1:\n",
    "        group.append(\"test\")\n",
    "    elif group_num < 0.2:\n",
    "        group.append(\"validation\")\n",
    "    else:\n",
    "        group.append(\"training\")\n",
    "Data['set'] = group\n",
    "\n",
    "# Get and report sequence length\n",
    "L = len(Data.loc[0,'Sequence'])\n",
    "print(f'Sequence length: {L:d} binding sites')\n",
    "\n",
    "# Split dataset\n",
    "trainval_df, test_df = mavenn.split_dataset(Data)\n",
    "\n",
    "Data_file = open(\"Ryan_trainval.pkl\", \"wb\")\n",
    "pickle.dump(trainval_df, Data_file)\n",
    "Data_file.close()\n",
    "\n",
    "Data_file = open(\"Ryan_test.pkl\", \"wb\")\n",
    "pickle.dump(test_df, Data_file)\n",
    "Data_file.close()\n",
    "\n",
    "# Preview trainval_df\n",
    "print('\\ntrainval_df:')\n",
    "trainval_df"
   ]
  },
  {
   "cell_type": "code",
   "execution_count": null,
   "id": "ce15f7b0",
   "metadata": {},
   "outputs": [
    {
     "name": "stdout",
     "output_type": "stream",
     "text": [
      "Training 4 models: ['additive', 'neighbor', 'pairwise', 'blackbox']\n",
      "-----------------------------\n",
      "Training 'CDNRM_additive_ge_0' model...\n",
      "\n",
      "N = 5,932 observations set as training data.\n",
      "Using 11.1% for validation.\n",
      "Data shuffled.\n",
      "Time to set data: 0.168 sec.\n"
     ]
    },
    {
     "data": {
      "application/vnd.jupyter.widget-view+json": {
       "model_id": "453e4b30262e488e95cd70b07314ac6f",
       "version_major": 2,
       "version_minor": 0
      },
      "text/plain": [
       "0epoch [00:00, ?epoch/s]"
      ]
     },
     "metadata": {},
     "output_type": "display_data"
    },
    {
     "name": "stdout",
     "output_type": "stream",
     "text": [
      "Training time: 23.3 seconds\n",
      "test_I_var: 1.406 +- 0.072 bits\n",
      "test_I_pred: 1.527 +- 0.040 bits\n",
      "Model saved to these files:\n",
      "\tCDNRM_additive_ge_0.pickle\n",
      "\tCDNRM_additive_ge_0.h5\n",
      "-----------------------------\n",
      "Training 'CDNRM_neighbor_ge_0' model...\n",
      "\n",
      "N = 5,932 observations set as training data.\n",
      "Using 11.1% for validation.\n",
      "Data shuffled.\n",
      "Time to set data: 0.154 sec.\n"
     ]
    },
    {
     "data": {
      "application/vnd.jupyter.widget-view+json": {
       "model_id": "b6eb6d80a89442169265f1f3bfbf1a82",
       "version_major": 2,
       "version_minor": 0
      },
      "text/plain": [
       "0epoch [00:00, ?epoch/s]"
      ]
     },
     "metadata": {},
     "output_type": "display_data"
    },
    {
     "name": "stdout",
     "output_type": "stream",
     "text": [
      "Training time: 56.9 seconds\n",
      "test_I_var: 2.073 +- 0.062 bits\n",
      "test_I_pred: 2.198 +- 0.036 bits\n",
      "Model saved to these files:\n",
      "\tCDNRM_neighbor_ge_0.pickle\n",
      "\tCDNRM_neighbor_ge_0.h5\n",
      "-----------------------------\n",
      "Training 'CDNRM_pairwise_ge_0' model...\n",
      "\n",
      "N = 5,932 observations set as training data.\n",
      "Using 11.1% for validation.\n",
      "Data shuffled.\n",
      "Time to set data: 0.148 sec.\n"
     ]
    },
    {
     "data": {
      "application/vnd.jupyter.widget-view+json": {
       "model_id": "bec5f8f2e2ca43f9977c6e360dbb09b1",
       "version_major": 2,
       "version_minor": 0
      },
      "text/plain": [
       "0epoch [00:00, ?epoch/s]"
      ]
     },
     "metadata": {},
     "output_type": "display_data"
    },
    {
     "name": "stdout",
     "output_type": "stream",
     "text": [
      "Training time: 47.4 seconds\n",
      "test_I_var: 2.531 +- 0.063 bits\n",
      "test_I_pred: 2.657 +- 0.036 bits\n",
      "Model saved to these files:\n",
      "\tCDNRM_pairwise_ge_0.pickle\n",
      "\tCDNRM_pairwise_ge_0.h5\n",
      "-----------------------------\n",
      "Training 'CDNRM_blackbox_ge_0' model...\n",
      "\n",
      "N = 5,932 observations set as training data.\n",
      "Using 11.1% for validation.\n",
      "Data shuffled.\n",
      "Time to set data: 0.158 sec.\n"
     ]
    },
    {
     "data": {
      "application/vnd.jupyter.widget-view+json": {
       "model_id": "8247ca7806c74a948e48a1ef30cd018f",
       "version_major": 2,
       "version_minor": 0
      },
      "text/plain": [
       "0epoch [00:00, ?epoch/s]"
      ]
     },
     "metadata": {},
     "output_type": "display_data"
    },
    {
     "name": "stdout",
     "output_type": "stream",
     "text": [
      "Training time: 22.9 seconds\n",
      "test_I_var: 1.344 +- 0.164 bits\n",
      "test_I_pred: 2.256 +- 0.044 bits\n",
      "Model saved to these files:\n",
      "\tCDNRM_blackbox_ge_0.pickle\n",
      "\tCDNRM_blackbox_ge_0.h5\n",
      "-----------------------------\n",
      "Training 'CDNRM_additive_ge_1' model...\n",
      "\n",
      "N = 5,932 observations set as training data.\n",
      "Using 11.1% for validation.\n",
      "Data shuffled.\n",
      "Time to set data: 0.155 sec.\n"
     ]
    },
    {
     "data": {
      "application/vnd.jupyter.widget-view+json": {
       "model_id": "e3beff8f942241ba988d0c26c8b7d34c",
       "version_major": 2,
       "version_minor": 0
      },
      "text/plain": [
       "0epoch [00:00, ?epoch/s]"
      ]
     },
     "metadata": {},
     "output_type": "display_data"
    },
    {
     "name": "stdout",
     "output_type": "stream",
     "text": [
      "Training time: 19.4 seconds\n",
      "test_I_var: 1.371 +- 0.074 bits\n",
      "test_I_pred: 1.542 +- 0.048 bits\n",
      "Model saved to these files:\n",
      "\tCDNRM_additive_ge_1.pickle\n",
      "\tCDNRM_additive_ge_1.h5\n",
      "-----------------------------\n",
      "Training 'CDNRM_neighbor_ge_1' model...\n",
      "\n",
      "N = 5,932 observations set as training data.\n",
      "Using 11.1% for validation.\n",
      "Data shuffled.\n",
      "Time to set data: 0.148 sec.\n"
     ]
    },
    {
     "data": {
      "application/vnd.jupyter.widget-view+json": {
       "model_id": "eabbce1fea9540c8b456dfa97f5d7529",
       "version_major": 2,
       "version_minor": 0
      },
      "text/plain": [
       "0epoch [00:00, ?epoch/s]"
      ]
     },
     "metadata": {},
     "output_type": "display_data"
    },
    {
     "name": "stdout",
     "output_type": "stream",
     "text": [
      "Training time: 29.6 seconds\n",
      "test_I_var: 2.110 +- 0.064 bits\n",
      "test_I_pred: 2.207 +- 0.040 bits\n",
      "Model saved to these files:\n",
      "\tCDNRM_neighbor_ge_1.pickle\n",
      "\tCDNRM_neighbor_ge_1.h5\n",
      "-----------------------------\n",
      "Training 'CDNRM_pairwise_ge_1' model...\n",
      "\n",
      "N = 5,932 observations set as training data.\n",
      "Using 11.1% for validation.\n",
      "Data shuffled.\n",
      "Time to set data: 0.15 sec.\n"
     ]
    },
    {
     "data": {
      "application/vnd.jupyter.widget-view+json": {
       "model_id": "d20e73dacf014b9980a72524dae91aaa",
       "version_major": 2,
       "version_minor": 0
      },
      "text/plain": [
       "0epoch [00:00, ?epoch/s]"
      ]
     },
     "metadata": {},
     "output_type": "display_data"
    },
    {
     "name": "stdout",
     "output_type": "stream",
     "text": [
      "Training time: 47.0 seconds\n",
      "test_I_var: 2.501 +- 0.070 bits\n",
      "test_I_pred: 2.639 +- 0.039 bits\n",
      "Model saved to these files:\n",
      "\tCDNRM_pairwise_ge_1.pickle\n",
      "\tCDNRM_pairwise_ge_1.h5\n",
      "-----------------------------\n",
      "Training 'CDNRM_blackbox_ge_1' model...\n",
      "\n",
      "N = 5,932 observations set as training data.\n",
      "Using 11.1% for validation.\n",
      "Data shuffled.\n",
      "Time to set data: 0.152 sec.\n"
     ]
    },
    {
     "data": {
      "application/vnd.jupyter.widget-view+json": {
       "model_id": "1cc411adabe44a68b1b3391daefa1e2d",
       "version_major": 2,
       "version_minor": 0
      },
      "text/plain": [
       "0epoch [00:00, ?epoch/s]"
      ]
     },
     "metadata": {},
     "output_type": "display_data"
    },
    {
     "name": "stdout",
     "output_type": "stream",
     "text": [
      "Training time: 16.0 seconds\n",
      "test_I_var: 1.444 +- 0.144 bits\n",
      "test_I_pred: 2.169 +- 0.036 bits\n",
      "Model saved to these files:\n",
      "\tCDNRM_blackbox_ge_1.pickle\n",
      "\tCDNRM_blackbox_ge_1.h5\n",
      "-----------------------------\n",
      "Training 'CDNRM_additive_ge_2' model...\n",
      "\n",
      "N = 5,932 observations set as training data.\n",
      "Using 11.1% for validation.\n",
      "Data shuffled.\n",
      "Time to set data: 0.149 sec.\n"
     ]
    },
    {
     "data": {
      "application/vnd.jupyter.widget-view+json": {
       "model_id": "aeb08b7843034aaf8d84b5e986001eb1",
       "version_major": 2,
       "version_minor": 0
      },
      "text/plain": [
       "0epoch [00:00, ?epoch/s]"
      ]
     },
     "metadata": {},
     "output_type": "display_data"
    },
    {
     "name": "stdout",
     "output_type": "stream",
     "text": [
      "Training time: 23.7 seconds\n",
      "test_I_var: 1.390 +- 0.070 bits\n",
      "test_I_pred: 1.539 +- 0.049 bits\n",
      "Model saved to these files:\n",
      "\tCDNRM_additive_ge_2.pickle\n",
      "\tCDNRM_additive_ge_2.h5\n",
      "-----------------------------\n",
      "Training 'CDNRM_neighbor_ge_2' model...\n",
      "\n",
      "N = 5,932 observations set as training data.\n",
      "Using 11.1% for validation.\n",
      "Data shuffled.\n",
      "Time to set data: 0.169 sec.\n"
     ]
    },
    {
     "data": {
      "application/vnd.jupyter.widget-view+json": {
       "model_id": "ded48579287e413ca838016f0e7ef4eb",
       "version_major": 2,
       "version_minor": 0
      },
      "text/plain": [
       "0epoch [00:00, ?epoch/s]"
      ]
     },
     "metadata": {},
     "output_type": "display_data"
    },
    {
     "name": "stdout",
     "output_type": "stream",
     "text": [
      "Training time: 33.1 seconds\n",
      "test_I_var: 2.087 +- 0.071 bits\n",
      "test_I_pred: 2.213 +- 0.043 bits\n",
      "Model saved to these files:\n",
      "\tCDNRM_neighbor_ge_2.pickle\n",
      "\tCDNRM_neighbor_ge_2.h5\n",
      "-----------------------------\n",
      "Training 'CDNRM_pairwise_ge_2' model...\n",
      "\n",
      "N = 5,932 observations set as training data.\n",
      "Using 11.1% for validation.\n",
      "Data shuffled.\n",
      "Time to set data: 0.152 sec.\n"
     ]
    },
    {
     "data": {
      "application/vnd.jupyter.widget-view+json": {
       "model_id": "d3c130457e784d58be7dca244fb384e4",
       "version_major": 2,
       "version_minor": 0
      },
      "text/plain": [
       "0epoch [00:00, ?epoch/s]"
      ]
     },
     "metadata": {},
     "output_type": "display_data"
    },
    {
     "name": "stdout",
     "output_type": "stream",
     "text": [
      "Training time: 38.3 seconds\n",
      "test_I_var: 2.505 +- 0.069 bits\n",
      "test_I_pred: 2.673 +- 0.050 bits\n",
      "Model saved to these files:\n",
      "\tCDNRM_pairwise_ge_2.pickle\n",
      "\tCDNRM_pairwise_ge_2.h5\n",
      "-----------------------------\n",
      "Training 'CDNRM_blackbox_ge_2' model...\n",
      "\n",
      "N = 5,932 observations set as training data.\n",
      "Using 11.1% for validation.\n",
      "Data shuffled.\n",
      "Time to set data: 0.153 sec.\n"
     ]
    },
    {
     "data": {
      "application/vnd.jupyter.widget-view+json": {
       "model_id": "ebece79850ce4115b22a4a5bc523eb81",
       "version_major": 2,
       "version_minor": 0
      },
      "text/plain": [
       "0epoch [00:00, ?epoch/s]"
      ]
     },
     "metadata": {},
     "output_type": "display_data"
    },
    {
     "name": "stdout",
     "output_type": "stream",
     "text": [
      "Training time: 18.2 seconds\n",
      "test_I_var: 1.666 +- 0.124 bits\n",
      "test_I_pred: 2.261 +- 0.034 bits\n",
      "Model saved to these files:\n",
      "\tCDNRM_blackbox_ge_2.pickle\n",
      "\tCDNRM_blackbox_ge_2.h5\n",
      "-----------------------------\n",
      "Training 'CDNRM_additive_ge_3' model...\n",
      "\n",
      "N = 5,932 observations set as training data.\n",
      "Using 11.1% for validation.\n",
      "Data shuffled.\n",
      "Time to set data: 0.189 sec.\n"
     ]
    },
    {
     "data": {
      "application/vnd.jupyter.widget-view+json": {
       "model_id": "b7f91af9319841448668b2bf36b579ce",
       "version_major": 2,
       "version_minor": 0
      },
      "text/plain": [
       "0epoch [00:00, ?epoch/s]"
      ]
     },
     "metadata": {},
     "output_type": "display_data"
    },
    {
     "name": "stdout",
     "output_type": "stream",
     "text": [
      "Training time: 24.3 seconds\n",
      "test_I_var: 1.369 +- 0.070 bits\n",
      "test_I_pred: 1.547 +- 0.046 bits\n",
      "Model saved to these files:\n",
      "\tCDNRM_additive_ge_3.pickle\n",
      "\tCDNRM_additive_ge_3.h5\n",
      "-----------------------------\n",
      "Training 'CDNRM_neighbor_ge_3' model...\n",
      "\n",
      "N = 5,932 observations set as training data.\n",
      "Using 11.1% for validation.\n",
      "Data shuffled.\n",
      "Time to set data: 0.149 sec.\n"
     ]
    },
    {
     "data": {
      "application/vnd.jupyter.widget-view+json": {
       "model_id": "a2a63b8c979e46009493fa9c0c377e7d",
       "version_major": 2,
       "version_minor": 0
      },
      "text/plain": [
       "0epoch [00:00, ?epoch/s]"
      ]
     },
     "metadata": {},
     "output_type": "display_data"
    },
    {
     "name": "stdout",
     "output_type": "stream",
     "text": [
      "Training time: 36.0 seconds\n",
      "test_I_var: 2.079 +- 0.063 bits\n",
      "test_I_pred: 2.207 +- 0.035 bits\n",
      "Model saved to these files:\n",
      "\tCDNRM_neighbor_ge_3.pickle\n",
      "\tCDNRM_neighbor_ge_3.h5\n",
      "-----------------------------\n",
      "Training 'CDNRM_pairwise_ge_3' model...\n",
      "\n",
      "N = 5,932 observations set as training data.\n",
      "Using 11.1% for validation.\n",
      "Data shuffled.\n",
      "Time to set data: 0.149 sec.\n"
     ]
    },
    {
     "data": {
      "application/vnd.jupyter.widget-view+json": {
       "model_id": "d7220dccdd204cb0831f7f3c7d937bf6",
       "version_major": 2,
       "version_minor": 0
      },
      "text/plain": [
       "0epoch [00:00, ?epoch/s]"
      ]
     },
     "metadata": {},
     "output_type": "display_data"
    },
    {
     "name": "stdout",
     "output_type": "stream",
     "text": [
      "Training time: 37.8 seconds\n",
      "test_I_var: 2.496 +- 0.066 bits\n",
      "test_I_pred: 2.623 +- 0.037 bits\n",
      "Model saved to these files:\n",
      "\tCDNRM_pairwise_ge_3.pickle\n",
      "\tCDNRM_pairwise_ge_3.h5\n",
      "-----------------------------\n",
      "Training 'CDNRM_blackbox_ge_3' model...\n",
      "\n",
      "N = 5,932 observations set as training data.\n",
      "Using 11.1% for validation.\n",
      "Data shuffled.\n",
      "Time to set data: 0.152 sec.\n"
     ]
    },
    {
     "data": {
      "application/vnd.jupyter.widget-view+json": {
       "model_id": "fbf594b6545043648665f4754bb19695",
       "version_major": 2,
       "version_minor": 0
      },
      "text/plain": [
       "0epoch [00:00, ?epoch/s]"
      ]
     },
     "metadata": {},
     "output_type": "display_data"
    },
    {
     "name": "stdout",
     "output_type": "stream",
     "text": [
      "Training time: 13.4 seconds\n",
      "test_I_var: 1.312 +- 0.164 bits\n",
      "test_I_pred: 2.213 +- 0.042 bits\n",
      "Model saved to these files:\n",
      "\tCDNRM_blackbox_ge_3.pickle\n",
      "\tCDNRM_blackbox_ge_3.h5\n",
      "-----------------------------\n",
      "Training 'CDNRM_additive_ge_4' model...\n",
      "\n",
      "N = 5,932 observations set as training data.\n",
      "Using 11.1% for validation.\n",
      "Data shuffled.\n",
      "Time to set data: 0.153 sec.\n"
     ]
    },
    {
     "data": {
      "application/vnd.jupyter.widget-view+json": {
       "model_id": "90c2bf0fd6fe4b24a154fb10e7869f26",
       "version_major": 2,
       "version_minor": 0
      },
      "text/plain": [
       "0epoch [00:00, ?epoch/s]"
      ]
     },
     "metadata": {},
     "output_type": "display_data"
    },
    {
     "name": "stdout",
     "output_type": "stream",
     "text": [
      "Training time: 35.5 seconds\n",
      "test_I_var: -0.131 +- 0.068 bits\n",
      "test_I_pred: 0.045 +- 0.031 bits\n",
      "Model saved to these files:\n",
      "\tCDNRM_additive_ge_4.pickle\n",
      "\tCDNRM_additive_ge_4.h5\n",
      "-----------------------------\n",
      "Training 'CDNRM_neighbor_ge_4' model...\n",
      "\n",
      "N = 5,932 observations set as training data.\n",
      "Using 11.1% for validation.\n",
      "Data shuffled.\n",
      "Time to set data: 0.153 sec.\n"
     ]
    },
    {
     "data": {
      "application/vnd.jupyter.widget-view+json": {
       "model_id": "db3fe9c44d654841971361c6ddb0de4a",
       "version_major": 2,
       "version_minor": 0
      },
      "text/plain": [
       "0epoch [00:00, ?epoch/s]"
      ]
     },
     "metadata": {},
     "output_type": "display_data"
    },
    {
     "name": "stdout",
     "output_type": "stream",
     "text": [
      "Training time: 31.6 seconds\n",
      "test_I_var: 2.110 +- 0.058 bits\n",
      "test_I_pred: 2.201 +- 0.030 bits\n",
      "Model saved to these files:\n",
      "\tCDNRM_neighbor_ge_4.pickle\n",
      "\tCDNRM_neighbor_ge_4.h5\n",
      "-----------------------------\n",
      "Training 'CDNRM_pairwise_ge_4' model...\n",
      "\n",
      "N = 5,932 observations set as training data.\n",
      "Using 11.1% for validation.\n",
      "Data shuffled.\n",
      "Time to set data: 0.147 sec.\n"
     ]
    },
    {
     "data": {
      "application/vnd.jupyter.widget-view+json": {
       "model_id": "52b578b0477a4b5a9af799ac14f3b588",
       "version_major": 2,
       "version_minor": 0
      },
      "text/plain": [
       "0epoch [00:00, ?epoch/s]"
      ]
     },
     "metadata": {},
     "output_type": "display_data"
    },
    {
     "name": "stdout",
     "output_type": "stream",
     "text": [
      "Training time: 30.8 seconds\n",
      "test_I_var: 2.459 +- 0.067 bits\n",
      "test_I_pred: 2.591 +- 0.038 bits\n",
      "Model saved to these files:\n",
      "\tCDNRM_pairwise_ge_4.pickle\n",
      "\tCDNRM_pairwise_ge_4.h5\n",
      "-----------------------------\n",
      "Training 'CDNRM_blackbox_ge_4' model...\n",
      "\n",
      "N = 5,932 observations set as training data.\n",
      "Using 11.1% for validation.\n",
      "Data shuffled.\n",
      "Time to set data: 0.149 sec.\n"
     ]
    },
    {
     "data": {
      "application/vnd.jupyter.widget-view+json": {
       "model_id": "51e6364993334808b2ca3a87400ccfa4",
       "version_major": 2,
       "version_minor": 0
      },
      "text/plain": [
       "0epoch [00:00, ?epoch/s]"
      ]
     },
     "metadata": {},
     "output_type": "display_data"
    },
    {
     "name": "stdout",
     "output_type": "stream",
     "text": [
      "Training time: 13.9 seconds\n",
      "test_I_var: 1.553 +- 0.129 bits\n",
      "test_I_pred: 2.225 +- 0.035 bits\n",
      "Model saved to these files:\n",
      "\tCDNRM_blackbox_ge_4.pickle\n",
      "\tCDNRM_blackbox_ge_4.h5\n",
      "-----------------------------\n",
      "Training 'CDNRM_additive_ge_5' model...\n",
      "\n",
      "N = 5,932 observations set as training data.\n",
      "Using 11.1% for validation.\n",
      "Data shuffled.\n",
      "Time to set data: 0.149 sec.\n"
     ]
    },
    {
     "data": {
      "application/vnd.jupyter.widget-view+json": {
       "model_id": "62ae18ece73b4e1abcd69838cb202a1c",
       "version_major": 2,
       "version_minor": 0
      },
      "text/plain": [
       "0epoch [00:00, ?epoch/s]"
      ]
     },
     "metadata": {},
     "output_type": "display_data"
    },
    {
     "name": "stdout",
     "output_type": "stream",
     "text": [
      "Training time: 28.0 seconds\n",
      "test_I_var: -0.093 +- 0.064 bits\n",
      "test_I_pred: 0.091 +- 0.032 bits\n",
      "Model saved to these files:\n",
      "\tCDNRM_additive_ge_5.pickle\n",
      "\tCDNRM_additive_ge_5.h5\n",
      "-----------------------------\n",
      "Training 'CDNRM_neighbor_ge_5' model...\n",
      "\n",
      "N = 5,932 observations set as training data.\n",
      "Using 11.1% for validation.\n",
      "Data shuffled.\n",
      "Time to set data: 0.15 sec.\n"
     ]
    },
    {
     "data": {
      "application/vnd.jupyter.widget-view+json": {
       "model_id": "b9e7f27fb905467c8ff340d6bbf91d5d",
       "version_major": 2,
       "version_minor": 0
      },
      "text/plain": [
       "0epoch [00:00, ?epoch/s]"
      ]
     },
     "metadata": {},
     "output_type": "display_data"
    },
    {
     "name": "stdout",
     "output_type": "stream",
     "text": [
      "Training time: 41.2 seconds\n",
      "test_I_var: 2.098 +- 0.061 bits\n",
      "test_I_pred: 2.216 +- 0.041 bits\n",
      "Model saved to these files:\n",
      "\tCDNRM_neighbor_ge_5.pickle\n",
      "\tCDNRM_neighbor_ge_5.h5\n",
      "-----------------------------\n",
      "Training 'CDNRM_pairwise_ge_5' model...\n",
      "\n",
      "N = 5,932 observations set as training data.\n",
      "Using 11.1% for validation.\n",
      "Data shuffled.\n",
      "Time to set data: 0.15 sec.\n"
     ]
    },
    {
     "data": {
      "application/vnd.jupyter.widget-view+json": {
       "model_id": "1430847e320d4e4aad47d04c195ac66b",
       "version_major": 2,
       "version_minor": 0
      },
      "text/plain": [
       "0epoch [00:00, ?epoch/s]"
      ]
     },
     "metadata": {},
     "output_type": "display_data"
    },
    {
     "name": "stdout",
     "output_type": "stream",
     "text": [
      "Training time: 118.3 seconds\n",
      "test_I_var: 2.535 +- 0.065 bits\n",
      "test_I_pred: 2.642 +- 0.037 bits\n",
      "Model saved to these files:\n",
      "\tCDNRM_pairwise_ge_5.pickle\n",
      "\tCDNRM_pairwise_ge_5.h5\n",
      "-----------------------------\n",
      "Training 'CDNRM_blackbox_ge_5' model...\n",
      "\n",
      "N = 5,932 observations set as training data.\n",
      "Using 11.1% for validation.\n",
      "Data shuffled.\n",
      "Time to set data: 0.311 sec.\n"
     ]
    },
    {
     "data": {
      "application/vnd.jupyter.widget-view+json": {
       "model_id": "8c8a53cf3bcd48339d37982365fd4eaf",
       "version_major": 2,
       "version_minor": 0
      },
      "text/plain": [
       "0epoch [00:00, ?epoch/s]"
      ]
     },
     "metadata": {},
     "output_type": "display_data"
    },
    {
     "name": "stdout",
     "output_type": "stream",
     "text": [
      "Training time: 32.3 seconds\n",
      "test_I_var: 1.709 +- 0.105 bits\n",
      "test_I_pred: 2.295 +- 0.043 bits\n",
      "Model saved to these files:\n",
      "\tCDNRM_blackbox_ge_5.pickle\n",
      "\tCDNRM_blackbox_ge_5.h5\n",
      "-----------------------------\n",
      "Training 'CDNRM_additive_ge_6' model...\n",
      "\n",
      "N = 5,932 observations set as training data.\n",
      "Using 11.1% for validation.\n",
      "Data shuffled.\n",
      "Time to set data: 0.327 sec.\n"
     ]
    },
    {
     "data": {
      "application/vnd.jupyter.widget-view+json": {
       "model_id": "12f0fabff40e446a8dde132a4c197457",
       "version_major": 2,
       "version_minor": 0
      },
      "text/plain": [
       "0epoch [00:00, ?epoch/s]"
      ]
     },
     "metadata": {},
     "output_type": "display_data"
    },
    {
     "name": "stdout",
     "output_type": "stream",
     "text": [
      "Training time: 41.4 seconds\n",
      "test_I_var: 1.403 +- 0.066 bits\n",
      "test_I_pred: 1.540 +- 0.050 bits\n",
      "Model saved to these files:\n",
      "\tCDNRM_additive_ge_6.pickle\n",
      "\tCDNRM_additive_ge_6.h5\n",
      "-----------------------------\n",
      "Training 'CDNRM_neighbor_ge_6' model...\n",
      "\n",
      "N = 5,932 observations set as training data.\n",
      "Using 11.1% for validation.\n",
      "Data shuffled.\n",
      "Time to set data: 0.252 sec.\n"
     ]
    },
    {
     "data": {
      "application/vnd.jupyter.widget-view+json": {
       "model_id": "8a2a8b4cca1d484bb3cf46e9bfe9400e",
       "version_major": 2,
       "version_minor": 0
      },
      "text/plain": [
       "0epoch [00:00, ?epoch/s]"
      ]
     },
     "metadata": {},
     "output_type": "display_data"
    },
    {
     "name": "stdout",
     "output_type": "stream",
     "text": [
      "Training time: 58.5 seconds\n",
      "test_I_var: 2.065 +- 0.064 bits\n",
      "test_I_pred: 2.215 +- 0.031 bits\n",
      "Model saved to these files:\n",
      "\tCDNRM_neighbor_ge_6.pickle\n",
      "\tCDNRM_neighbor_ge_6.h5\n",
      "-----------------------------\n",
      "Training 'CDNRM_pairwise_ge_6' model...\n",
      "\n",
      "N = 5,932 observations set as training data.\n",
      "Using 11.1% for validation.\n",
      "Data shuffled.\n",
      "Time to set data: 0.324 sec.\n"
     ]
    },
    {
     "data": {
      "application/vnd.jupyter.widget-view+json": {
       "model_id": "f35045d0dd024bf1ab61a6d97b1dc2e2",
       "version_major": 2,
       "version_minor": 0
      },
      "text/plain": [
       "0epoch [00:00, ?epoch/s]"
      ]
     },
     "metadata": {},
     "output_type": "display_data"
    },
    {
     "name": "stdout",
     "output_type": "stream",
     "text": [
      "Training time: 65.6 seconds\n",
      "test_I_var: 2.482 +- 0.078 bits\n",
      "test_I_pred: 2.633 +- 0.033 bits\n",
      "Model saved to these files:\n",
      "\tCDNRM_pairwise_ge_6.pickle\n",
      "\tCDNRM_pairwise_ge_6.h5\n",
      "-----------------------------\n",
      "Training 'CDNRM_blackbox_ge_6' model...\n",
      "\n",
      "N = 5,932 observations set as training data.\n",
      "Using 11.1% for validation.\n",
      "Data shuffled.\n",
      "Time to set data: 0.262 sec.\n"
     ]
    },
    {
     "data": {
      "application/vnd.jupyter.widget-view+json": {
       "model_id": "e1cdf098a9cc418a905d2c2a0722b916",
       "version_major": 2,
       "version_minor": 0
      },
      "text/plain": [
       "0epoch [00:00, ?epoch/s]"
      ]
     },
     "metadata": {},
     "output_type": "display_data"
    },
    {
     "name": "stdout",
     "output_type": "stream",
     "text": [
      "Training time: 23.5 seconds\n",
      "test_I_var: 1.556 +- 0.107 bits\n",
      "test_I_pred: 2.196 +- 0.036 bits\n",
      "Model saved to these files:\n",
      "\tCDNRM_blackbox_ge_6.pickle\n",
      "\tCDNRM_blackbox_ge_6.h5\n",
      "-----------------------------\n",
      "Training 'CDNRM_additive_ge_7' model...\n",
      "\n",
      "N = 5,932 observations set as training data.\n",
      "Using 11.1% for validation.\n",
      "Data shuffled.\n",
      "Time to set data: 0.25 sec.\n"
     ]
    },
    {
     "data": {
      "application/vnd.jupyter.widget-view+json": {
       "model_id": "23a306e07e2845f2be89973e3985b98b",
       "version_major": 2,
       "version_minor": 0
      },
      "text/plain": [
       "0epoch [00:00, ?epoch/s]"
      ]
     },
     "metadata": {},
     "output_type": "display_data"
    },
    {
     "name": "stdout",
     "output_type": "stream",
     "text": [
      "Training time: 44.4 seconds\n",
      "test_I_var: 1.376 +- 0.074 bits\n",
      "test_I_pred: 1.521 +- 0.043 bits\n",
      "Model saved to these files:\n",
      "\tCDNRM_additive_ge_7.pickle\n",
      "\tCDNRM_additive_ge_7.h5\n",
      "-----------------------------\n",
      "Training 'CDNRM_neighbor_ge_7' model...\n",
      "\n",
      "N = 5,932 observations set as training data.\n",
      "Using 11.1% for validation.\n",
      "Data shuffled.\n",
      "Time to set data: 0.304 sec.\n"
     ]
    },
    {
     "data": {
      "application/vnd.jupyter.widget-view+json": {
       "model_id": "cfebeea2ade042e7a845b870210c28c7",
       "version_major": 2,
       "version_minor": 0
      },
      "text/plain": [
       "0epoch [00:00, ?epoch/s]"
      ]
     },
     "metadata": {},
     "output_type": "display_data"
    },
    {
     "name": "stdout",
     "output_type": "stream",
     "text": [
      "Training time: 51.8 seconds\n",
      "test_I_var: 2.115 +- 0.064 bits\n",
      "test_I_pred: 2.184 +- 0.037 bits\n",
      "Model saved to these files:\n",
      "\tCDNRM_neighbor_ge_7.pickle\n",
      "\tCDNRM_neighbor_ge_7.h5\n",
      "-----------------------------\n",
      "Training 'CDNRM_pairwise_ge_7' model...\n",
      "\n",
      "N = 5,932 observations set as training data.\n",
      "Using 11.1% for validation.\n",
      "Data shuffled.\n",
      "Time to set data: 0.261 sec.\n"
     ]
    },
    {
     "data": {
      "application/vnd.jupyter.widget-view+json": {
       "model_id": "ad1244b43d03443ba93c02a4834e64a7",
       "version_major": 2,
       "version_minor": 0
      },
      "text/plain": [
       "0epoch [00:00, ?epoch/s]"
      ]
     },
     "metadata": {},
     "output_type": "display_data"
    },
    {
     "name": "stdout",
     "output_type": "stream",
     "text": [
      "Training time: 55.2 seconds\n",
      "test_I_var: 2.442 +- 0.070 bits\n",
      "test_I_pred: 2.598 +- 0.041 bits\n",
      "Model saved to these files:\n",
      "\tCDNRM_pairwise_ge_7.pickle\n",
      "\tCDNRM_pairwise_ge_7.h5\n",
      "-----------------------------\n",
      "Training 'CDNRM_blackbox_ge_7' model...\n",
      "\n",
      "N = 5,932 observations set as training data.\n",
      "Using 11.1% for validation.\n",
      "Data shuffled.\n",
      "Time to set data: 0.302 sec.\n"
     ]
    },
    {
     "data": {
      "application/vnd.jupyter.widget-view+json": {
       "model_id": "9455d5ed20d24ddeab8465bfe898df76",
       "version_major": 2,
       "version_minor": 0
      },
      "text/plain": [
       "0epoch [00:00, ?epoch/s]"
      ]
     },
     "metadata": {},
     "output_type": "display_data"
    },
    {
     "name": "stdout",
     "output_type": "stream",
     "text": [
      "Training time: 24.3 seconds\n",
      "test_I_var: 1.654 +- 0.111 bits\n",
      "test_I_pred: 2.197 +- 0.035 bits\n",
      "Model saved to these files:\n",
      "\tCDNRM_blackbox_ge_7.pickle\n",
      "\tCDNRM_blackbox_ge_7.h5\n",
      "-----------------------------\n",
      "Training 'CDNRM_additive_ge_8' model...\n",
      "\n",
      "N = 5,932 observations set as training data.\n",
      "Using 11.1% for validation.\n",
      "Data shuffled.\n",
      "Time to set data: 0.3 sec.\n"
     ]
    },
    {
     "data": {
      "application/vnd.jupyter.widget-view+json": {
       "model_id": "5f7bf7c616de412caab492a1a2f5b4d2",
       "version_major": 2,
       "version_minor": 0
      },
      "text/plain": [
       "0epoch [00:00, ?epoch/s]"
      ]
     },
     "metadata": {},
     "output_type": "display_data"
    },
    {
     "name": "stdout",
     "output_type": "stream",
     "text": [
      "Training time: 40.1 seconds\n",
      "test_I_var: 1.374 +- 0.068 bits\n",
      "test_I_pred: 1.518 +- 0.047 bits\n",
      "Model saved to these files:\n",
      "\tCDNRM_additive_ge_8.pickle\n",
      "\tCDNRM_additive_ge_8.h5\n",
      "-----------------------------\n",
      "Training 'CDNRM_neighbor_ge_8' model...\n",
      "\n",
      "N = 5,932 observations set as training data.\n",
      "Using 11.1% for validation.\n",
      "Data shuffled.\n",
      "Time to set data: 0.334 sec.\n"
     ]
    },
    {
     "data": {
      "application/vnd.jupyter.widget-view+json": {
       "model_id": "ce588fbee0aa4e49beff29fbb33d5036",
       "version_major": 2,
       "version_minor": 0
      },
      "text/plain": [
       "0epoch [00:00, ?epoch/s]"
      ]
     },
     "metadata": {},
     "output_type": "display_data"
    },
    {
     "name": "stdout",
     "output_type": "stream",
     "text": [
      "Training time: 65.6 seconds\n",
      "test_I_var: 2.107 +- 0.059 bits\n",
      "test_I_pred: 2.205 +- 0.042 bits\n",
      "Model saved to these files:\n",
      "\tCDNRM_neighbor_ge_8.pickle\n",
      "\tCDNRM_neighbor_ge_8.h5\n",
      "-----------------------------\n",
      "Training 'CDNRM_pairwise_ge_8' model...\n",
      "\n",
      "N = 5,932 observations set as training data.\n",
      "Using 11.1% for validation.\n",
      "Data shuffled.\n",
      "Time to set data: 0.299 sec.\n"
     ]
    },
    {
     "data": {
      "application/vnd.jupyter.widget-view+json": {
       "model_id": "daa260ca748d43109851257e51911af0",
       "version_major": 2,
       "version_minor": 0
      },
      "text/plain": [
       "0epoch [00:00, ?epoch/s]"
      ]
     },
     "metadata": {},
     "output_type": "display_data"
    },
    {
     "name": "stdout",
     "output_type": "stream",
     "text": [
      "Training time: 62.8 seconds\n",
      "test_I_var: -0.106 +- 0.058 bits\n",
      "test_I_pred: 0.118 +- 0.027 bits\n",
      "Model saved to these files:\n",
      "\tCDNRM_pairwise_ge_8.pickle\n",
      "\tCDNRM_pairwise_ge_8.h5\n",
      "-----------------------------\n",
      "Training 'CDNRM_blackbox_ge_8' model...\n",
      "\n",
      "N = 5,932 observations set as training data.\n",
      "Using 11.1% for validation.\n",
      "Data shuffled.\n",
      "Time to set data: 0.275 sec.\n"
     ]
    },
    {
     "data": {
      "application/vnd.jupyter.widget-view+json": {
       "model_id": "5160fdfbd6ba4a5baa82eac61dffd556",
       "version_major": 2,
       "version_minor": 0
      },
      "text/plain": [
       "0epoch [00:00, ?epoch/s]"
      ]
     },
     "metadata": {},
     "output_type": "display_data"
    },
    {
     "name": "stdout",
     "output_type": "stream",
     "text": [
      "Training time: 23.4 seconds\n",
      "test_I_var: 1.333 +- 0.130 bits\n",
      "test_I_pred: 2.134 +- 0.034 bits\n",
      "Model saved to these files:\n",
      "\tCDNRM_blackbox_ge_8.pickle\n",
      "\tCDNRM_blackbox_ge_8.h5\n",
      "-----------------------------\n",
      "Training 'CDNRM_additive_ge_9' model...\n",
      "\n",
      "N = 5,932 observations set as training data.\n",
      "Using 11.1% for validation.\n",
      "Data shuffled.\n",
      "Time to set data: 0.479 sec.\n"
     ]
    },
    {
     "data": {
      "application/vnd.jupyter.widget-view+json": {
       "model_id": "cc756fe34a4a442ab07ac4e7a4afd87d",
       "version_major": 2,
       "version_minor": 0
      },
      "text/plain": [
       "0epoch [00:00, ?epoch/s]"
      ]
     },
     "metadata": {},
     "output_type": "display_data"
    },
    {
     "name": "stdout",
     "output_type": "stream",
     "text": [
      "Training time: 41.3 seconds\n",
      "test_I_var: 1.446 +- 0.067 bits\n",
      "test_I_pred: 1.524 +- 0.034 bits\n",
      "Model saved to these files:\n",
      "\tCDNRM_additive_ge_9.pickle\n",
      "\tCDNRM_additive_ge_9.h5\n",
      "-----------------------------\n",
      "Training 'CDNRM_neighbor_ge_9' model...\n",
      "\n",
      "N = 5,932 observations set as training data.\n",
      "Using 11.1% for validation.\n",
      "Data shuffled.\n",
      "Time to set data: 0.265 sec.\n"
     ]
    },
    {
     "data": {
      "application/vnd.jupyter.widget-view+json": {
       "model_id": "e8547f8e930649b6be841e7ed060dd49",
       "version_major": 2,
       "version_minor": 0
      },
      "text/plain": [
       "0epoch [00:00, ?epoch/s]"
      ]
     },
     "metadata": {},
     "output_type": "display_data"
    },
    {
     "name": "stdout",
     "output_type": "stream",
     "text": [
      "Training time: 55.9 seconds\n",
      "test_I_var: 2.126 +- 0.061 bits\n",
      "test_I_pred: 2.196 +- 0.043 bits\n",
      "Model saved to these files:\n",
      "\tCDNRM_neighbor_ge_9.pickle\n",
      "\tCDNRM_neighbor_ge_9.h5\n",
      "-----------------------------\n",
      "Training 'CDNRM_pairwise_ge_9' model...\n",
      "\n",
      "N = 5,932 observations set as training data.\n",
      "Using 11.1% for validation.\n",
      "Data shuffled.\n",
      "Time to set data: 0.278 sec.\n"
     ]
    },
    {
     "data": {
      "application/vnd.jupyter.widget-view+json": {
       "model_id": "11e07353d53c4e73bb135a2b4a14f549",
       "version_major": 2,
       "version_minor": 0
      },
      "text/plain": [
       "0epoch [00:00, ?epoch/s]"
      ]
     },
     "metadata": {},
     "output_type": "display_data"
    },
    {
     "name": "stdout",
     "output_type": "stream",
     "text": [
      "Training time: 69.3 seconds\n",
      "test_I_var: 2.521 +- 0.066 bits\n",
      "test_I_pred: 2.648 +- 0.033 bits\n",
      "Model saved to these files:\n",
      "\tCDNRM_pairwise_ge_9.pickle\n",
      "\tCDNRM_pairwise_ge_9.h5\n",
      "-----------------------------\n",
      "Training 'CDNRM_blackbox_ge_9' model...\n",
      "\n",
      "N = 5,932 observations set as training data.\n",
      "Using 11.1% for validation.\n",
      "Data shuffled.\n",
      "Time to set data: 0.27 sec.\n"
     ]
    },
    {
     "data": {
      "application/vnd.jupyter.widget-view+json": {
       "model_id": "4c9b24a44f994850a617535c41f84695",
       "version_major": 2,
       "version_minor": 0
      },
      "text/plain": [
       "0epoch [00:00, ?epoch/s]"
      ]
     },
     "metadata": {},
     "output_type": "display_data"
    },
    {
     "name": "stdout",
     "output_type": "stream",
     "text": [
      "Training time: 43.8 seconds\n",
      "test_I_var: 1.638 +- 0.129 bits\n",
      "test_I_pred: 2.274 +- 0.042 bits\n",
      "Model saved to these files:\n",
      "\tCDNRM_blackbox_ge_9.pickle\n",
      "\tCDNRM_blackbox_ge_9.h5\n",
      "-----------------------------\n",
      "Training 'CDNRM_additive_ge_10' model...\n",
      "\n",
      "N = 5,932 observations set as training data.\n",
      "Using 11.1% for validation.\n",
      "Data shuffled.\n",
      "Time to set data: 0.372 sec.\n"
     ]
    },
    {
     "data": {
      "application/vnd.jupyter.widget-view+json": {
       "model_id": "4f1726f101704cf4babe5b8a3cd1e111",
       "version_major": 2,
       "version_minor": 0
      },
      "text/plain": [
       "0epoch [00:00, ?epoch/s]"
      ]
     },
     "metadata": {},
     "output_type": "display_data"
    },
    {
     "name": "stdout",
     "output_type": "stream",
     "text": [
      "Training time: 45.1 seconds\n",
      "test_I_var: 1.393 +- 0.069 bits\n",
      "test_I_pred: 1.529 +- 0.042 bits\n",
      "Model saved to these files:\n",
      "\tCDNRM_additive_ge_10.pickle\n",
      "\tCDNRM_additive_ge_10.h5\n",
      "-----------------------------\n",
      "Training 'CDNRM_neighbor_ge_10' model...\n",
      "\n",
      "N = 5,932 observations set as training data.\n",
      "Using 11.1% for validation.\n",
      "Data shuffled.\n",
      "Time to set data: 0.292 sec.\n"
     ]
    },
    {
     "data": {
      "application/vnd.jupyter.widget-view+json": {
       "model_id": "3122ef0a27834b92a63dd30080a19a92",
       "version_major": 2,
       "version_minor": 0
      },
      "text/plain": [
       "0epoch [00:00, ?epoch/s]"
      ]
     },
     "metadata": {},
     "output_type": "display_data"
    },
    {
     "name": "stdout",
     "output_type": "stream",
     "text": [
      "Training time: 67.9 seconds\n",
      "test_I_var: -0.079 +- 0.061 bits\n",
      "test_I_pred: 0.014 +- 0.030 bits\n",
      "Model saved to these files:\n",
      "\tCDNRM_neighbor_ge_10.pickle\n",
      "\tCDNRM_neighbor_ge_10.h5\n",
      "-----------------------------\n",
      "Training 'CDNRM_pairwise_ge_10' model...\n",
      "\n",
      "N = 5,932 observations set as training data.\n",
      "Using 11.1% for validation.\n",
      "Data shuffled.\n",
      "Time to set data: 0.394 sec.\n"
     ]
    },
    {
     "data": {
      "application/vnd.jupyter.widget-view+json": {
       "model_id": "c8ae3a6b33854192bdc3ee488ae12777",
       "version_major": 2,
       "version_minor": 0
      },
      "text/plain": [
       "0epoch [00:00, ?epoch/s]"
      ]
     },
     "metadata": {},
     "output_type": "display_data"
    },
    {
     "name": "stdout",
     "output_type": "stream",
     "text": [
      "Training time: 66.3 seconds\n",
      "test_I_var: 2.549 +- 0.070 bits\n",
      "test_I_pred: 2.678 +- 0.045 bits\n",
      "Model saved to these files:\n",
      "\tCDNRM_pairwise_ge_10.pickle\n",
      "\tCDNRM_pairwise_ge_10.h5\n",
      "-----------------------------\n",
      "Training 'CDNRM_blackbox_ge_10' model...\n",
      "\n",
      "N = 5,932 observations set as training data.\n",
      "Using 11.1% for validation.\n",
      "Data shuffled.\n",
      "Time to set data: 0.253 sec.\n"
     ]
    },
    {
     "data": {
      "application/vnd.jupyter.widget-view+json": {
       "model_id": "ae12c399dbae46edb49bce22bb14fcf1",
       "version_major": 2,
       "version_minor": 0
      },
      "text/plain": [
       "0epoch [00:00, ?epoch/s]"
      ]
     },
     "metadata": {},
     "output_type": "display_data"
    },
    {
     "name": "stdout",
     "output_type": "stream",
     "text": [
      "Training time: 23.0 seconds\n",
      "test_I_var: 1.666 +- 0.127 bits\n",
      "test_I_pred: 2.206 +- 0.049 bits\n",
      "Model saved to these files:\n",
      "\tCDNRM_blackbox_ge_10.pickle\n",
      "\tCDNRM_blackbox_ge_10.h5\n",
      "-----------------------------\n",
      "Training 'CDNRM_additive_ge_11' model...\n",
      "\n",
      "N = 5,932 observations set as training data.\n",
      "Using 11.1% for validation.\n",
      "Data shuffled.\n",
      "Time to set data: 0.24 sec.\n"
     ]
    },
    {
     "data": {
      "application/vnd.jupyter.widget-view+json": {
       "model_id": "75ccd25dc6d74aa48b8f40b23eac1409",
       "version_major": 2,
       "version_minor": 0
      },
      "text/plain": [
       "0epoch [00:00, ?epoch/s]"
      ]
     },
     "metadata": {},
     "output_type": "display_data"
    },
    {
     "name": "stdout",
     "output_type": "stream",
     "text": [
      "Training time: 33.3 seconds\n",
      "test_I_var: 1.415 +- 0.071 bits\n",
      "test_I_pred: 1.546 +- 0.049 bits\n",
      "Model saved to these files:\n",
      "\tCDNRM_additive_ge_11.pickle\n",
      "\tCDNRM_additive_ge_11.h5\n",
      "-----------------------------\n",
      "Training 'CDNRM_neighbor_ge_11' model...\n",
      "\n",
      "N = 5,932 observations set as training data.\n",
      "Using 11.1% for validation.\n",
      "Data shuffled.\n",
      "Time to set data: 0.251 sec.\n"
     ]
    },
    {
     "data": {
      "application/vnd.jupyter.widget-view+json": {
       "model_id": "7fd9d837ff724ef080efd5fa7a8e731e",
       "version_major": 2,
       "version_minor": 0
      },
      "text/plain": [
       "0epoch [00:00, ?epoch/s]"
      ]
     },
     "metadata": {},
     "output_type": "display_data"
    },
    {
     "name": "stdout",
     "output_type": "stream",
     "text": [
      "Training time: 51.0 seconds\n",
      "test_I_var: 2.067 +- 0.061 bits\n",
      "test_I_pred: 2.206 +- 0.032 bits\n",
      "Model saved to these files:\n",
      "\tCDNRM_neighbor_ge_11.pickle\n",
      "\tCDNRM_neighbor_ge_11.h5\n",
      "-----------------------------\n",
      "Training 'CDNRM_pairwise_ge_11' model...\n",
      "\n",
      "N = 5,932 observations set as training data.\n",
      "Using 11.1% for validation.\n",
      "Data shuffled.\n",
      "Time to set data: 0.285 sec.\n"
     ]
    },
    {
     "data": {
      "application/vnd.jupyter.widget-view+json": {
       "model_id": "f4c1a12d0b394c5b852e85186861a2fa",
       "version_major": 2,
       "version_minor": 0
      },
      "text/plain": [
       "0epoch [00:00, ?epoch/s]"
      ]
     },
     "metadata": {},
     "output_type": "display_data"
    },
    {
     "name": "stdout",
     "output_type": "stream",
     "text": [
      "Training time: 54.0 seconds\n",
      "test_I_var: 2.465 +- 0.072 bits\n",
      "test_I_pred: 2.626 +- 0.031 bits\n",
      "Model saved to these files:\n",
      "\tCDNRM_pairwise_ge_11.pickle\n",
      "\tCDNRM_pairwise_ge_11.h5\n",
      "-----------------------------\n",
      "Training 'CDNRM_blackbox_ge_11' model...\n",
      "\n",
      "N = 5,932 observations set as training data.\n",
      "Using 11.1% for validation.\n",
      "Data shuffled.\n",
      "Time to set data: 0.264 sec.\n"
     ]
    },
    {
     "data": {
      "application/vnd.jupyter.widget-view+json": {
       "model_id": "9216e8eae0d94451a450279db575499e",
       "version_major": 2,
       "version_minor": 0
      },
      "text/plain": [
       "0epoch [00:00, ?epoch/s]"
      ]
     },
     "metadata": {},
     "output_type": "display_data"
    },
    {
     "name": "stdout",
     "output_type": "stream",
     "text": [
      "Training time: 28.7 seconds\n",
      "test_I_var: 1.097 +- 0.174 bits\n",
      "test_I_pred: 2.169 +- 0.036 bits\n",
      "Model saved to these files:\n",
      "\tCDNRM_blackbox_ge_11.pickle\n",
      "\tCDNRM_blackbox_ge_11.h5\n",
      "-----------------------------\n",
      "Training 'CDNRM_additive_ge_12' model...\n",
      "\n",
      "N = 5,932 observations set as training data.\n",
      "Using 11.1% for validation.\n",
      "Data shuffled.\n",
      "Time to set data: 0.275 sec.\n"
     ]
    },
    {
     "data": {
      "application/vnd.jupyter.widget-view+json": {
       "model_id": "117f0817a6ef4907be7c07b959922ba0",
       "version_major": 2,
       "version_minor": 0
      },
      "text/plain": [
       "0epoch [00:00, ?epoch/s]"
      ]
     },
     "metadata": {},
     "output_type": "display_data"
    },
    {
     "name": "stdout",
     "output_type": "stream",
     "text": [
      "Training time: 51.2 seconds\n",
      "test_I_var: 1.379 +- 0.076 bits\n",
      "test_I_pred: 1.534 +- 0.043 bits\n",
      "Model saved to these files:\n",
      "\tCDNRM_additive_ge_12.pickle\n",
      "\tCDNRM_additive_ge_12.h5\n",
      "-----------------------------\n",
      "Training 'CDNRM_neighbor_ge_12' model...\n",
      "\n",
      "N = 5,932 observations set as training data.\n",
      "Using 11.1% for validation.\n",
      "Data shuffled.\n",
      "Time to set data: 0.243 sec.\n"
     ]
    },
    {
     "data": {
      "application/vnd.jupyter.widget-view+json": {
       "model_id": "cba47de9e608472a84d948b0632c2054",
       "version_major": 2,
       "version_minor": 0
      },
      "text/plain": [
       "0epoch [00:00, ?epoch/s]"
      ]
     },
     "metadata": {},
     "output_type": "display_data"
    },
    {
     "name": "stdout",
     "output_type": "stream",
     "text": [
      "Training time: 64.4 seconds\n",
      "test_I_var: 2.102 +- 0.060 bits\n",
      "test_I_pred: 2.197 +- 0.041 bits\n",
      "Model saved to these files:\n",
      "\tCDNRM_neighbor_ge_12.pickle\n",
      "\tCDNRM_neighbor_ge_12.h5\n",
      "-----------------------------\n",
      "Training 'CDNRM_pairwise_ge_12' model...\n",
      "\n",
      "N = 5,932 observations set as training data.\n",
      "Using 11.1% for validation.\n",
      "Data shuffled.\n",
      "Time to set data: 0.621 sec.\n"
     ]
    },
    {
     "data": {
      "application/vnd.jupyter.widget-view+json": {
       "model_id": "b054f6e9ac1c48f99a0d7ffadcd05c7d",
       "version_major": 2,
       "version_minor": 0
      },
      "text/plain": [
       "0epoch [00:00, ?epoch/s]"
      ]
     },
     "metadata": {},
     "output_type": "display_data"
    },
    {
     "name": "stdout",
     "output_type": "stream",
     "text": [
      "Training time: 72.2 seconds\n",
      "test_I_var: 2.467 +- 0.067 bits\n",
      "test_I_pred: 2.641 +- 0.036 bits\n",
      "Model saved to these files:\n",
      "\tCDNRM_pairwise_ge_12.pickle\n",
      "\tCDNRM_pairwise_ge_12.h5\n",
      "-----------------------------\n",
      "Training 'CDNRM_blackbox_ge_12' model...\n",
      "\n",
      "N = 5,932 observations set as training data.\n",
      "Using 11.1% for validation.\n",
      "Data shuffled.\n",
      "Time to set data: 0.305 sec.\n"
     ]
    },
    {
     "data": {
      "application/vnd.jupyter.widget-view+json": {
       "model_id": "7812d65f54b3442d85d85daa22c88c92",
       "version_major": 2,
       "version_minor": 0
      },
      "text/plain": [
       "0epoch [00:00, ?epoch/s]"
      ]
     },
     "metadata": {},
     "output_type": "display_data"
    },
    {
     "name": "stdout",
     "output_type": "stream",
     "text": [
      "Training time: 25.5 seconds\n",
      "test_I_var: 1.681 +- 0.111 bits\n",
      "test_I_pred: 2.306 +- 0.028 bits\n",
      "Model saved to these files:\n",
      "\tCDNRM_blackbox_ge_12.pickle\n",
      "\tCDNRM_blackbox_ge_12.h5\n",
      "-----------------------------\n",
      "Training 'CDNRM_additive_ge_13' model...\n",
      "\n",
      "N = 5,932 observations set as training data.\n",
      "Using 11.1% for validation.\n",
      "Data shuffled.\n",
      "Time to set data: 0.523 sec.\n"
     ]
    },
    {
     "data": {
      "application/vnd.jupyter.widget-view+json": {
       "model_id": "fe6138ba06c6489696581fa92c626b29",
       "version_major": 2,
       "version_minor": 0
      },
      "text/plain": [
       "0epoch [00:00, ?epoch/s]"
      ]
     },
     "metadata": {},
     "output_type": "display_data"
    },
    {
     "name": "stdout",
     "output_type": "stream",
     "text": [
      "Training time: 41.7 seconds\n",
      "test_I_var: 1.383 +- 0.068 bits\n",
      "test_I_pred: 1.549 +- 0.038 bits\n",
      "Model saved to these files:\n",
      "\tCDNRM_additive_ge_13.pickle\n",
      "\tCDNRM_additive_ge_13.h5\n",
      "-----------------------------\n",
      "Training 'CDNRM_neighbor_ge_13' model...\n",
      "\n",
      "N = 5,932 observations set as training data.\n",
      "Using 11.1% for validation.\n",
      "Data shuffled.\n",
      "Time to set data: 0.387 sec.\n"
     ]
    },
    {
     "data": {
      "application/vnd.jupyter.widget-view+json": {
       "model_id": "79389b77a376460da73bec7e3c31c75a",
       "version_major": 2,
       "version_minor": 0
      },
      "text/plain": [
       "0epoch [00:00, ?epoch/s]"
      ]
     },
     "metadata": {},
     "output_type": "display_data"
    },
    {
     "name": "stdout",
     "output_type": "stream",
     "text": [
      "Training time: 62.3 seconds\n",
      "test_I_var: 2.143 +- 0.063 bits\n",
      "test_I_pred: 2.195 +- 0.037 bits\n",
      "Model saved to these files:\n",
      "\tCDNRM_neighbor_ge_13.pickle\n",
      "\tCDNRM_neighbor_ge_13.h5\n",
      "-----------------------------\n",
      "Training 'CDNRM_pairwise_ge_13' model...\n",
      "\n",
      "N = 5,932 observations set as training data.\n",
      "Using 11.1% for validation.\n",
      "Data shuffled.\n",
      "Time to set data: 0.258 sec.\n"
     ]
    },
    {
     "data": {
      "application/vnd.jupyter.widget-view+json": {
       "model_id": "2daa5cde3c9f4188a78b894c5f491ce6",
       "version_major": 2,
       "version_minor": 0
      },
      "text/plain": [
       "0epoch [00:00, ?epoch/s]"
      ]
     },
     "metadata": {},
     "output_type": "display_data"
    },
    {
     "name": "stdout",
     "output_type": "stream",
     "text": [
      "Training time: 70.1 seconds\n",
      "test_I_var: 2.522 +- 0.079 bits\n",
      "test_I_pred: 2.636 +- 0.037 bits\n",
      "Model saved to these files:\n",
      "\tCDNRM_pairwise_ge_13.pickle\n",
      "\tCDNRM_pairwise_ge_13.h5\n",
      "-----------------------------\n",
      "Training 'CDNRM_blackbox_ge_13' model...\n",
      "\n",
      "N = 5,932 observations set as training data.\n",
      "Using 11.1% for validation.\n",
      "Data shuffled.\n",
      "Time to set data: 0.338 sec.\n"
     ]
    },
    {
     "data": {
      "application/vnd.jupyter.widget-view+json": {
       "model_id": "67be236d12b84456901d08a29daef22b",
       "version_major": 2,
       "version_minor": 0
      },
      "text/plain": [
       "0epoch [00:00, ?epoch/s]"
      ]
     },
     "metadata": {},
     "output_type": "display_data"
    },
    {
     "name": "stdout",
     "output_type": "stream",
     "text": [
      "Training time: 33.1 seconds\n",
      "test_I_var: 1.449 +- 0.147 bits\n",
      "test_I_pred: 2.249 +- 0.038 bits\n",
      "Model saved to these files:\n",
      "\tCDNRM_blackbox_ge_13.pickle\n",
      "\tCDNRM_blackbox_ge_13.h5\n",
      "-----------------------------\n",
      "Training 'CDNRM_additive_ge_14' model...\n",
      "\n",
      "N = 5,932 observations set as training data.\n",
      "Using 11.1% for validation.\n",
      "Data shuffled.\n",
      "Time to set data: 0.259 sec.\n"
     ]
    },
    {
     "data": {
      "application/vnd.jupyter.widget-view+json": {
       "model_id": "50bd6ecfcf3a4623812e2af362e4b763",
       "version_major": 2,
       "version_minor": 0
      },
      "text/plain": [
       "0epoch [00:00, ?epoch/s]"
      ]
     },
     "metadata": {},
     "output_type": "display_data"
    },
    {
     "name": "stdout",
     "output_type": "stream",
     "text": [
      "Training time: 50.7 seconds\n",
      "test_I_var: 1.406 +- 0.071 bits\n",
      "test_I_pred: 1.521 +- 0.037 bits\n",
      "Model saved to these files:\n",
      "\tCDNRM_additive_ge_14.pickle\n",
      "\tCDNRM_additive_ge_14.h5\n",
      "-----------------------------\n",
      "Training 'CDNRM_neighbor_ge_14' model...\n",
      "\n",
      "N = 5,932 observations set as training data.\n",
      "Using 11.1% for validation.\n",
      "Data shuffled.\n",
      "Time to set data: 0.276 sec.\n"
     ]
    },
    {
     "data": {
      "application/vnd.jupyter.widget-view+json": {
       "model_id": "f0dfc98ffd6e457599754587e5536e0a",
       "version_major": 2,
       "version_minor": 0
      },
      "text/plain": [
       "0epoch [00:00, ?epoch/s]"
      ]
     },
     "metadata": {},
     "output_type": "display_data"
    },
    {
     "name": "stdout",
     "output_type": "stream",
     "text": [
      "Training time: 49.8 seconds\n",
      "test_I_var: 2.077 +- 0.064 bits\n",
      "test_I_pred: 2.230 +- 0.037 bits\n",
      "Model saved to these files:\n",
      "\tCDNRM_neighbor_ge_14.pickle\n",
      "\tCDNRM_neighbor_ge_14.h5\n",
      "-----------------------------\n",
      "Training 'CDNRM_pairwise_ge_14' model...\n",
      "\n",
      "N = 5,932 observations set as training data.\n",
      "Using 11.1% for validation.\n",
      "Data shuffled.\n",
      "Time to set data: 0.284 sec.\n"
     ]
    },
    {
     "data": {
      "application/vnd.jupyter.widget-view+json": {
       "model_id": "c2b4ab6683c6476cb5b867485e40e467",
       "version_major": 2,
       "version_minor": 0
      },
      "text/plain": [
       "0epoch [00:00, ?epoch/s]"
      ]
     },
     "metadata": {},
     "output_type": "display_data"
    },
    {
     "name": "stdout",
     "output_type": "stream",
     "text": [
      "Training time: 67.8 seconds\n",
      "test_I_var: 2.497 +- 0.071 bits\n",
      "test_I_pred: 2.626 +- 0.041 bits\n",
      "Model saved to these files:\n",
      "\tCDNRM_pairwise_ge_14.pickle\n",
      "\tCDNRM_pairwise_ge_14.h5\n",
      "-----------------------------\n",
      "Training 'CDNRM_blackbox_ge_14' model...\n",
      "\n",
      "N = 5,932 observations set as training data.\n",
      "Using 11.1% for validation.\n",
      "Data shuffled.\n",
      "Time to set data: 0.244 sec.\n"
     ]
    },
    {
     "data": {
      "application/vnd.jupyter.widget-view+json": {
       "model_id": "060901df67fe4408964f7481b52a8e00",
       "version_major": 2,
       "version_minor": 0
      },
      "text/plain": [
       "0epoch [00:00, ?epoch/s]"
      ]
     },
     "metadata": {},
     "output_type": "display_data"
    },
    {
     "name": "stdout",
     "output_type": "stream",
     "text": [
      "Training time: 31.0 seconds\n",
      "test_I_var: 1.395 +- 0.152 bits\n",
      "test_I_pred: 2.216 +- 0.041 bits\n",
      "Model saved to these files:\n",
      "\tCDNRM_blackbox_ge_14.pickle\n",
      "\tCDNRM_blackbox_ge_14.h5\n",
      "-----------------------------\n",
      "Training 'CDNRM_additive_ge_15' model...\n",
      "\n",
      "N = 5,932 observations set as training data.\n",
      "Using 11.1% for validation.\n",
      "Data shuffled.\n",
      "Time to set data: 0.429 sec.\n"
     ]
    },
    {
     "data": {
      "application/vnd.jupyter.widget-view+json": {
       "model_id": "a69d09b5be8244acae60068e75f0c234",
       "version_major": 2,
       "version_minor": 0
      },
      "text/plain": [
       "0epoch [00:00, ?epoch/s]"
      ]
     },
     "metadata": {},
     "output_type": "display_data"
    },
    {
     "name": "stdout",
     "output_type": "stream",
     "text": [
      "Training time: 49.3 seconds\n",
      "test_I_var: 1.441 +- 0.067 bits\n",
      "test_I_pred: 1.525 +- 0.040 bits\n",
      "Model saved to these files:\n",
      "\tCDNRM_additive_ge_15.pickle\n",
      "\tCDNRM_additive_ge_15.h5\n",
      "-----------------------------\n",
      "Training 'CDNRM_neighbor_ge_15' model...\n",
      "\n",
      "N = 5,932 observations set as training data.\n",
      "Using 11.1% for validation.\n",
      "Data shuffled.\n",
      "Time to set data: 0.269 sec.\n"
     ]
    },
    {
     "data": {
      "application/vnd.jupyter.widget-view+json": {
       "model_id": "28b26cc5e0524c71824388057f6fb734",
       "version_major": 2,
       "version_minor": 0
      },
      "text/plain": [
       "0epoch [00:00, ?epoch/s]"
      ]
     },
     "metadata": {},
     "output_type": "display_data"
    },
    {
     "name": "stdout",
     "output_type": "stream",
     "text": [
      "Training time: 54.7 seconds\n",
      "test_I_var: 2.060 +- 0.061 bits\n",
      "test_I_pred: 2.201 +- 0.039 bits\n",
      "Model saved to these files:\n",
      "\tCDNRM_neighbor_ge_15.pickle\n",
      "\tCDNRM_neighbor_ge_15.h5\n",
      "-----------------------------\n",
      "Training 'CDNRM_pairwise_ge_15' model...\n",
      "\n",
      "N = 5,932 observations set as training data.\n",
      "Using 11.1% for validation.\n",
      "Data shuffled.\n",
      "Time to set data: 0.227 sec.\n"
     ]
    },
    {
     "data": {
      "application/vnd.jupyter.widget-view+json": {
       "model_id": "2c1a895eac704802b647c7b7236a6598",
       "version_major": 2,
       "version_minor": 0
      },
      "text/plain": [
       "0epoch [00:00, ?epoch/s]"
      ]
     },
     "metadata": {},
     "output_type": "display_data"
    },
    {
     "name": "stdout",
     "output_type": "stream",
     "text": [
      "Training time: 64.9 seconds\n",
      "test_I_var: 2.524 +- 0.066 bits\n",
      "test_I_pred: 2.647 +- 0.041 bits\n",
      "Model saved to these files:\n",
      "\tCDNRM_pairwise_ge_15.pickle\n",
      "\tCDNRM_pairwise_ge_15.h5\n",
      "-----------------------------\n",
      "Training 'CDNRM_blackbox_ge_15' model...\n",
      "\n",
      "N = 5,932 observations set as training data.\n",
      "Using 11.1% for validation.\n",
      "Data shuffled.\n",
      "Time to set data: 0.252 sec.\n"
     ]
    },
    {
     "data": {
      "application/vnd.jupyter.widget-view+json": {
       "model_id": "5fe9dbd3e71249ac89d9e4e0e7021b08",
       "version_major": 2,
       "version_minor": 0
      },
      "text/plain": [
       "0epoch [00:00, ?epoch/s]"
      ]
     },
     "metadata": {},
     "output_type": "display_data"
    },
    {
     "name": "stdout",
     "output_type": "stream",
     "text": [
      "Training time: 31.6 seconds\n",
      "test_I_var: 1.332 +- 0.136 bits\n",
      "test_I_pred: 2.153 +- 0.041 bits\n",
      "Model saved to these files:\n",
      "\tCDNRM_blackbox_ge_15.pickle\n",
      "\tCDNRM_blackbox_ge_15.h5\n",
      "-----------------------------\n",
      "Training 'CDNRM_additive_ge_16' model...\n",
      "\n",
      "N = 5,932 observations set as training data.\n",
      "Using 11.1% for validation.\n",
      "Data shuffled.\n",
      "Time to set data: 0.269 sec.\n"
     ]
    },
    {
     "data": {
      "application/vnd.jupyter.widget-view+json": {
       "model_id": "65ed80b48b884ff7a207d9e1d14d9f1f",
       "version_major": 2,
       "version_minor": 0
      },
      "text/plain": [
       "0epoch [00:00, ?epoch/s]"
      ]
     },
     "metadata": {},
     "output_type": "display_data"
    },
    {
     "name": "stdout",
     "output_type": "stream",
     "text": [
      "Training time: 43.1 seconds\n",
      "test_I_var: 1.414 +- 0.064 bits\n",
      "test_I_pred: 1.528 +- 0.044 bits\n",
      "Model saved to these files:\n",
      "\tCDNRM_additive_ge_16.pickle\n",
      "\tCDNRM_additive_ge_16.h5\n",
      "-----------------------------\n",
      "Training 'CDNRM_neighbor_ge_16' model...\n",
      "\n",
      "N = 5,932 observations set as training data.\n",
      "Using 11.1% for validation.\n",
      "Data shuffled.\n",
      "Time to set data: 0.375 sec.\n"
     ]
    },
    {
     "data": {
      "application/vnd.jupyter.widget-view+json": {
       "model_id": "a287ba2749e04f3d8e30f771f261feb1",
       "version_major": 2,
       "version_minor": 0
      },
      "text/plain": [
       "0epoch [00:00, ?epoch/s]"
      ]
     },
     "metadata": {},
     "output_type": "display_data"
    },
    {
     "name": "stdout",
     "output_type": "stream",
     "text": [
      "Training time: 87.7 seconds\n",
      "test_I_var: 2.104 +- 0.065 bits\n",
      "test_I_pred: 2.211 +- 0.042 bits\n",
      "Model saved to these files:\n",
      "\tCDNRM_neighbor_ge_16.pickle\n",
      "\tCDNRM_neighbor_ge_16.h5\n",
      "-----------------------------\n",
      "Training 'CDNRM_pairwise_ge_16' model...\n",
      "\n",
      "N = 5,932 observations set as training data.\n",
      "Using 11.1% for validation.\n",
      "Data shuffled.\n",
      "Time to set data: 0.4 sec.\n"
     ]
    },
    {
     "data": {
      "application/vnd.jupyter.widget-view+json": {
       "model_id": "171021a3593e48e4b83b56b7642c3e27",
       "version_major": 2,
       "version_minor": 0
      },
      "text/plain": [
       "0epoch [00:00, ?epoch/s]"
      ]
     },
     "metadata": {},
     "output_type": "display_data"
    },
    {
     "name": "stdout",
     "output_type": "stream",
     "text": [
      "Training time: 52.8 seconds\n",
      "test_I_var: 2.491 +- 0.071 bits\n",
      "test_I_pred: 2.611 +- 0.034 bits\n",
      "Model saved to these files:\n",
      "\tCDNRM_pairwise_ge_16.pickle\n",
      "\tCDNRM_pairwise_ge_16.h5\n",
      "-----------------------------\n",
      "Training 'CDNRM_blackbox_ge_16' model...\n",
      "\n",
      "N = 5,932 observations set as training data.\n",
      "Using 11.1% for validation.\n",
      "Data shuffled.\n",
      "Time to set data: 0.492 sec.\n"
     ]
    },
    {
     "data": {
      "application/vnd.jupyter.widget-view+json": {
       "model_id": "5594d7723b95447f9f1bfb22161f34de",
       "version_major": 2,
       "version_minor": 0
      },
      "text/plain": [
       "0epoch [00:00, ?epoch/s]"
      ]
     },
     "metadata": {},
     "output_type": "display_data"
    },
    {
     "name": "stdout",
     "output_type": "stream",
     "text": [
      "Training time: 33.3 seconds\n",
      "test_I_var: 1.397 +- 0.151 bits\n",
      "test_I_pred: 2.225 +- 0.043 bits\n",
      "Model saved to these files:\n",
      "\tCDNRM_blackbox_ge_16.pickle\n",
      "\tCDNRM_blackbox_ge_16.h5\n",
      "-----------------------------\n",
      "Training 'CDNRM_additive_ge_17' model...\n",
      "\n",
      "N = 5,932 observations set as training data.\n",
      "Using 11.1% for validation.\n",
      "Data shuffled.\n",
      "Time to set data: 0.306 sec.\n"
     ]
    },
    {
     "data": {
      "application/vnd.jupyter.widget-view+json": {
       "model_id": "259962bb4f0549a9b025c3ea9ece9732",
       "version_major": 2,
       "version_minor": 0
      },
      "text/plain": [
       "0epoch [00:00, ?epoch/s]"
      ]
     },
     "metadata": {},
     "output_type": "display_data"
    },
    {
     "name": "stdout",
     "output_type": "stream",
     "text": [
      "Training time: 37.9 seconds\n",
      "test_I_var: 1.412 +- 0.068 bits\n",
      "test_I_pred: 1.561 +- 0.037 bits\n",
      "Model saved to these files:\n",
      "\tCDNRM_additive_ge_17.pickle\n",
      "\tCDNRM_additive_ge_17.h5\n",
      "-----------------------------\n",
      "Training 'CDNRM_neighbor_ge_17' model...\n",
      "\n",
      "N = 5,932 observations set as training data.\n",
      "Using 11.1% for validation.\n",
      "Data shuffled.\n",
      "Time to set data: 0.416 sec.\n"
     ]
    },
    {
     "data": {
      "application/vnd.jupyter.widget-view+json": {
       "model_id": "d711cc6d59724016a7085cb05da05efb",
       "version_major": 2,
       "version_minor": 0
      },
      "text/plain": [
       "0epoch [00:00, ?epoch/s]"
      ]
     },
     "metadata": {},
     "output_type": "display_data"
    },
    {
     "name": "stdout",
     "output_type": "stream",
     "text": [
      "Training time: 54.0 seconds\n",
      "test_I_var: 2.038 +- 0.064 bits\n",
      "test_I_pred: 2.206 +- 0.032 bits\n",
      "Model saved to these files:\n",
      "\tCDNRM_neighbor_ge_17.pickle\n",
      "\tCDNRM_neighbor_ge_17.h5\n",
      "-----------------------------\n",
      "Training 'CDNRM_pairwise_ge_17' model...\n",
      "\n",
      "N = 5,932 observations set as training data.\n",
      "Using 11.1% for validation.\n",
      "Data shuffled.\n",
      "Time to set data: 0.259 sec.\n"
     ]
    },
    {
     "data": {
      "application/vnd.jupyter.widget-view+json": {
       "model_id": "573d4d41804b4c8db4494aa718a51f3c",
       "version_major": 2,
       "version_minor": 0
      },
      "text/plain": [
       "0epoch [00:00, ?epoch/s]"
      ]
     },
     "metadata": {},
     "output_type": "display_data"
    },
    {
     "name": "stdout",
     "output_type": "stream",
     "text": [
      "Training time: 62.4 seconds\n",
      "test_I_var: 2.471 +- 0.070 bits\n",
      "test_I_pred: 2.663 +- 0.035 bits\n",
      "Model saved to these files:\n",
      "\tCDNRM_pairwise_ge_17.pickle\n",
      "\tCDNRM_pairwise_ge_17.h5\n",
      "-----------------------------\n",
      "Training 'CDNRM_blackbox_ge_17' model...\n",
      "\n",
      "N = 5,932 observations set as training data.\n",
      "Using 11.1% for validation.\n",
      "Data shuffled.\n",
      "Time to set data: 0.289 sec.\n"
     ]
    },
    {
     "data": {
      "application/vnd.jupyter.widget-view+json": {
       "model_id": "167b0eb7b43f4b2d9721c96e6c5f7fca",
       "version_major": 2,
       "version_minor": 0
      },
      "text/plain": [
       "0epoch [00:00, ?epoch/s]"
      ]
     },
     "metadata": {},
     "output_type": "display_data"
    },
    {
     "name": "stdout",
     "output_type": "stream",
     "text": [
      "Training time: 34.1 seconds\n",
      "test_I_var: 1.364 +- 0.151 bits\n",
      "test_I_pred: 2.198 +- 0.036 bits\n",
      "Model saved to these files:\n",
      "\tCDNRM_blackbox_ge_17.pickle\n",
      "\tCDNRM_blackbox_ge_17.h5\n",
      "-----------------------------\n",
      "Training 'CDNRM_additive_ge_18' model...\n",
      "\n",
      "N = 5,932 observations set as training data.\n",
      "Using 11.1% for validation.\n",
      "Data shuffled.\n",
      "Time to set data: 0.294 sec.\n"
     ]
    },
    {
     "data": {
      "application/vnd.jupyter.widget-view+json": {
       "model_id": "ff91879f671d408c92c27144761c8b9e",
       "version_major": 2,
       "version_minor": 0
      },
      "text/plain": [
       "0epoch [00:00, ?epoch/s]"
      ]
     },
     "metadata": {},
     "output_type": "display_data"
    },
    {
     "name": "stdout",
     "output_type": "stream",
     "text": [
      "Training time: 51.5 seconds\n",
      "test_I_var: 1.355 +- 0.070 bits\n",
      "test_I_pred: 1.526 +- 0.042 bits\n",
      "Model saved to these files:\n",
      "\tCDNRM_additive_ge_18.pickle\n",
      "\tCDNRM_additive_ge_18.h5\n",
      "-----------------------------\n",
      "Training 'CDNRM_neighbor_ge_18' model...\n",
      "\n",
      "N = 5,932 observations set as training data.\n",
      "Using 11.1% for validation.\n",
      "Data shuffled.\n",
      "Time to set data: 0.257 sec.\n"
     ]
    },
    {
     "data": {
      "application/vnd.jupyter.widget-view+json": {
       "model_id": "30c3002bfe5c4c61be17c8b4ed16d943",
       "version_major": 2,
       "version_minor": 0
      },
      "text/plain": [
       "0epoch [00:00, ?epoch/s]"
      ]
     },
     "metadata": {},
     "output_type": "display_data"
    },
    {
     "name": "stdout",
     "output_type": "stream",
     "text": [
      "Training time: 58.7 seconds\n",
      "test_I_var: 2.104 +- 0.068 bits\n",
      "test_I_pred: 2.190 +- 0.038 bits\n",
      "Model saved to these files:\n",
      "\tCDNRM_neighbor_ge_18.pickle\n",
      "\tCDNRM_neighbor_ge_18.h5\n",
      "-----------------------------\n",
      "Training 'CDNRM_pairwise_ge_18' model...\n",
      "\n",
      "N = 5,932 observations set as training data.\n",
      "Using 11.1% for validation.\n",
      "Data shuffled.\n",
      "Time to set data: 0.3 sec.\n"
     ]
    },
    {
     "data": {
      "application/vnd.jupyter.widget-view+json": {
       "model_id": "9c3c890667a64ad9945380e8bea140cd",
       "version_major": 2,
       "version_minor": 0
      },
      "text/plain": [
       "0epoch [00:00, ?epoch/s]"
      ]
     },
     "metadata": {},
     "output_type": "display_data"
    },
    {
     "name": "stdout",
     "output_type": "stream",
     "text": [
      "Training time: 59.7 seconds\n",
      "test_I_var: 2.514 +- 0.065 bits\n",
      "test_I_pred: 2.636 +- 0.038 bits\n",
      "Model saved to these files:\n",
      "\tCDNRM_pairwise_ge_18.pickle\n",
      "\tCDNRM_pairwise_ge_18.h5\n",
      "-----------------------------\n",
      "Training 'CDNRM_blackbox_ge_18' model...\n",
      "\n",
      "N = 5,932 observations set as training data.\n",
      "Using 11.1% for validation.\n",
      "Data shuffled.\n",
      "Time to set data: 0.291 sec.\n"
     ]
    },
    {
     "data": {
      "application/vnd.jupyter.widget-view+json": {
       "model_id": "6f25205f97a14e5f8f33c63afa7f21c8",
       "version_major": 2,
       "version_minor": 0
      },
      "text/plain": [
       "0epoch [00:00, ?epoch/s]"
      ]
     },
     "metadata": {},
     "output_type": "display_data"
    },
    {
     "name": "stdout",
     "output_type": "stream",
     "text": [
      "Training time: 24.7 seconds\n",
      "test_I_var: 1.659 +- 0.126 bits\n",
      "test_I_pred: 2.226 +- 0.030 bits\n",
      "Model saved to these files:\n",
      "\tCDNRM_blackbox_ge_18.pickle\n",
      "\tCDNRM_blackbox_ge_18.h5\n",
      "-----------------------------\n",
      "Training 'CDNRM_additive_ge_19' model...\n",
      "\n",
      "N = 5,932 observations set as training data.\n",
      "Using 11.1% for validation.\n",
      "Data shuffled.\n",
      "Time to set data: 0.322 sec.\n"
     ]
    },
    {
     "data": {
      "application/vnd.jupyter.widget-view+json": {
       "model_id": "7d3fcdc23a5a45f0abed29262f4d3b55",
       "version_major": 2,
       "version_minor": 0
      },
      "text/plain": [
       "0epoch [00:00, ?epoch/s]"
      ]
     },
     "metadata": {},
     "output_type": "display_data"
    },
    {
     "name": "stdout",
     "output_type": "stream",
     "text": [
      "Training time: 43.5 seconds\n",
      "test_I_var: 1.427 +- 0.074 bits\n",
      "test_I_pred: 1.519 +- 0.035 bits\n",
      "Model saved to these files:\n",
      "\tCDNRM_additive_ge_19.pickle\n",
      "\tCDNRM_additive_ge_19.h5\n",
      "-----------------------------\n",
      "Training 'CDNRM_neighbor_ge_19' model...\n",
      "\n",
      "N = 5,932 observations set as training data.\n",
      "Using 11.1% for validation.\n",
      "Data shuffled.\n",
      "Time to set data: 0.283 sec.\n"
     ]
    },
    {
     "data": {
      "application/vnd.jupyter.widget-view+json": {
       "model_id": "dc1fda04ed284cd0b408594bb85f72e1",
       "version_major": 2,
       "version_minor": 0
      },
      "text/plain": [
       "0epoch [00:00, ?epoch/s]"
      ]
     },
     "metadata": {},
     "output_type": "display_data"
    },
    {
     "name": "stdout",
     "output_type": "stream",
     "text": [
      "Training time: 62.9 seconds\n",
      "test_I_var: 2.074 +- 0.063 bits\n",
      "test_I_pred: 2.222 +- 0.038 bits\n",
      "Model saved to these files:\n",
      "\tCDNRM_neighbor_ge_19.pickle\n",
      "\tCDNRM_neighbor_ge_19.h5\n",
      "-----------------------------\n",
      "Training 'CDNRM_pairwise_ge_19' model...\n",
      "\n",
      "N = 5,932 observations set as training data.\n",
      "Using 11.1% for validation.\n",
      "Data shuffled.\n",
      "Time to set data: 0.366 sec.\n"
     ]
    },
    {
     "data": {
      "application/vnd.jupyter.widget-view+json": {
       "model_id": "ef3a6e1a1ff3477e9b96ceec65236227",
       "version_major": 2,
       "version_minor": 0
      },
      "text/plain": [
       "0epoch [00:00, ?epoch/s]"
      ]
     },
     "metadata": {},
     "output_type": "display_data"
    },
    {
     "name": "stdout",
     "output_type": "stream",
     "text": [
      "Training time: 77.5 seconds\n",
      "test_I_var: 2.498 +- 0.070 bits\n",
      "test_I_pred: 2.612 +- 0.028 bits\n",
      "Model saved to these files:\n",
      "\tCDNRM_pairwise_ge_19.pickle\n",
      "\tCDNRM_pairwise_ge_19.h5\n",
      "-----------------------------\n",
      "Training 'CDNRM_blackbox_ge_19' model...\n",
      "\n",
      "N = 5,932 observations set as training data.\n",
      "Using 11.1% for validation.\n",
      "Data shuffled.\n",
      "Time to set data: 0.288 sec.\n"
     ]
    },
    {
     "data": {
      "application/vnd.jupyter.widget-view+json": {
       "model_id": "f19b074804354ae990cf6935096c9c4c",
       "version_major": 2,
       "version_minor": 0
      },
      "text/plain": [
       "0epoch [00:00, ?epoch/s]"
      ]
     },
     "metadata": {},
     "output_type": "display_data"
    },
    {
     "name": "stdout",
     "output_type": "stream",
     "text": [
      "Training time: 36.5 seconds\n",
      "test_I_var: 1.368 +- 0.148 bits\n",
      "test_I_pred: 2.154 +- 0.033 bits\n",
      "Model saved to these files:\n",
      "\tCDNRM_blackbox_ge_19.pickle\n",
      "\tCDNRM_blackbox_ge_19.h5\n",
      "-----------------------------\n",
      "Training 'CDNRM_additive_ge_20' model...\n",
      "\n",
      "N = 5,932 observations set as training data.\n",
      "Using 11.1% for validation.\n",
      "Data shuffled.\n",
      "Time to set data: 0.292 sec.\n"
     ]
    },
    {
     "data": {
      "application/vnd.jupyter.widget-view+json": {
       "model_id": "773ce820421c49ea9865b72f9aac286f",
       "version_major": 2,
       "version_minor": 0
      },
      "text/plain": [
       "0epoch [00:00, ?epoch/s]"
      ]
     },
     "metadata": {},
     "output_type": "display_data"
    },
    {
     "name": "stdout",
     "output_type": "stream",
     "text": [
      "Training time: 49.7 seconds\n",
      "test_I_var: 1.371 +- 0.072 bits\n",
      "test_I_pred: 1.543 +- 0.035 bits\n",
      "Model saved to these files:\n",
      "\tCDNRM_additive_ge_20.pickle\n",
      "\tCDNRM_additive_ge_20.h5\n",
      "-----------------------------\n",
      "Training 'CDNRM_neighbor_ge_20' model...\n",
      "\n",
      "N = 5,932 observations set as training data.\n",
      "Using 11.1% for validation.\n",
      "Data shuffled.\n",
      "Time to set data: 0.258 sec.\n"
     ]
    },
    {
     "data": {
      "application/vnd.jupyter.widget-view+json": {
       "model_id": "135439b2d6da49b5a6287f2a99abdfa5",
       "version_major": 2,
       "version_minor": 0
      },
      "text/plain": [
       "0epoch [00:00, ?epoch/s]"
      ]
     },
     "metadata": {},
     "output_type": "display_data"
    },
    {
     "name": "stdout",
     "output_type": "stream",
     "text": [
      "Training time: 57.5 seconds\n",
      "test_I_var: 2.055 +- 0.062 bits\n",
      "test_I_pred: 2.200 +- 0.044 bits\n",
      "Model saved to these files:\n",
      "\tCDNRM_neighbor_ge_20.pickle\n",
      "\tCDNRM_neighbor_ge_20.h5\n",
      "-----------------------------\n",
      "Training 'CDNRM_pairwise_ge_20' model...\n",
      "\n",
      "N = 5,932 observations set as training data.\n",
      "Using 11.1% for validation.\n",
      "Data shuffled.\n",
      "Time to set data: 0.401 sec.\n"
     ]
    },
    {
     "data": {
      "application/vnd.jupyter.widget-view+json": {
       "model_id": "fea2a27319fe41bfbc7b0e6bd427ad81",
       "version_major": 2,
       "version_minor": 0
      },
      "text/plain": [
       "0epoch [00:00, ?epoch/s]"
      ]
     },
     "metadata": {},
     "output_type": "display_data"
    },
    {
     "name": "stdout",
     "output_type": "stream",
     "text": [
      "Training time: 57.6 seconds\n",
      "test_I_var: 2.498 +- 0.065 bits\n",
      "test_I_pred: 2.630 +- 0.033 bits\n",
      "Model saved to these files:\n",
      "\tCDNRM_pairwise_ge_20.pickle\n",
      "\tCDNRM_pairwise_ge_20.h5\n",
      "-----------------------------\n",
      "Training 'CDNRM_blackbox_ge_20' model...\n",
      "\n",
      "N = 5,932 observations set as training data.\n",
      "Using 11.1% for validation.\n",
      "Data shuffled.\n",
      "Time to set data: 0.31 sec.\n"
     ]
    },
    {
     "data": {
      "application/vnd.jupyter.widget-view+json": {
       "model_id": "8873126eaf9641ec8dd8a4cf99acf01a",
       "version_major": 2,
       "version_minor": 0
      },
      "text/plain": [
       "0epoch [00:00, ?epoch/s]"
      ]
     },
     "metadata": {},
     "output_type": "display_data"
    },
    {
     "name": "stdout",
     "output_type": "stream",
     "text": [
      "Training time: 28.2 seconds\n",
      "test_I_var: 1.453 +- 0.108 bits\n",
      "test_I_pred: 2.129 +- 0.038 bits\n",
      "Model saved to these files:\n",
      "\tCDNRM_blackbox_ge_20.pickle\n",
      "\tCDNRM_blackbox_ge_20.h5\n",
      "-----------------------------\n",
      "Training 'CDNRM_additive_ge_21' model...\n",
      "\n",
      "N = 5,932 observations set as training data.\n",
      "Using 11.1% for validation.\n",
      "Data shuffled.\n",
      "Time to set data: 0.325 sec.\n"
     ]
    },
    {
     "data": {
      "application/vnd.jupyter.widget-view+json": {
       "model_id": "1fdcfb3f16ae42de8b86a24c20e219ff",
       "version_major": 2,
       "version_minor": 0
      },
      "text/plain": [
       "0epoch [00:00, ?epoch/s]"
      ]
     },
     "metadata": {},
     "output_type": "display_data"
    },
    {
     "name": "stdout",
     "output_type": "stream",
     "text": [
      "Training time: 45.4 seconds\n",
      "test_I_var: 1.419 +- 0.071 bits\n",
      "test_I_pred: 1.530 +- 0.034 bits\n",
      "Model saved to these files:\n",
      "\tCDNRM_additive_ge_21.pickle\n",
      "\tCDNRM_additive_ge_21.h5\n",
      "-----------------------------\n",
      "Training 'CDNRM_neighbor_ge_21' model...\n",
      "\n",
      "N = 5,932 observations set as training data.\n",
      "Using 11.1% for validation.\n",
      "Data shuffled.\n",
      "Time to set data: 0.342 sec.\n"
     ]
    },
    {
     "data": {
      "application/vnd.jupyter.widget-view+json": {
       "model_id": "3575899ae44642ebac75c990698a4055",
       "version_major": 2,
       "version_minor": 0
      },
      "text/plain": [
       "0epoch [00:00, ?epoch/s]"
      ]
     },
     "metadata": {},
     "output_type": "display_data"
    },
    {
     "name": "stdout",
     "output_type": "stream",
     "text": [
      "Training time: 52.9 seconds\n",
      "test_I_var: 2.075 +- 0.070 bits\n",
      "test_I_pred: 2.198 +- 0.045 bits\n",
      "Model saved to these files:\n",
      "\tCDNRM_neighbor_ge_21.pickle\n",
      "\tCDNRM_neighbor_ge_21.h5\n",
      "-----------------------------\n",
      "Training 'CDNRM_pairwise_ge_21' model...\n",
      "\n",
      "N = 5,932 observations set as training data.\n",
      "Using 11.1% for validation.\n",
      "Data shuffled.\n",
      "Time to set data: 0.253 sec.\n"
     ]
    },
    {
     "data": {
      "application/vnd.jupyter.widget-view+json": {
       "model_id": "98d33abb403941c18d0df9c9afcd2b23",
       "version_major": 2,
       "version_minor": 0
      },
      "text/plain": [
       "0epoch [00:00, ?epoch/s]"
      ]
     },
     "metadata": {},
     "output_type": "display_data"
    },
    {
     "name": "stdout",
     "output_type": "stream",
     "text": [
      "Training time: 72.9 seconds\n",
      "test_I_var: 2.526 +- 0.068 bits\n",
      "test_I_pred: 2.673 +- 0.044 bits\n",
      "Model saved to these files:\n",
      "\tCDNRM_pairwise_ge_21.pickle\n",
      "\tCDNRM_pairwise_ge_21.h5\n",
      "-----------------------------\n",
      "Training 'CDNRM_blackbox_ge_21' model...\n",
      "\n",
      "N = 5,932 observations set as training data.\n",
      "Using 11.1% for validation.\n",
      "Data shuffled.\n",
      "Time to set data: 0.287 sec.\n"
     ]
    },
    {
     "data": {
      "application/vnd.jupyter.widget-view+json": {
       "model_id": "a3b4ea2392bb40afbf133846f5f9530d",
       "version_major": 2,
       "version_minor": 0
      },
      "text/plain": [
       "0epoch [00:00, ?epoch/s]"
      ]
     },
     "metadata": {},
     "output_type": "display_data"
    },
    {
     "name": "stdout",
     "output_type": "stream",
     "text": [
      "Training time: 25.9 seconds\n",
      "test_I_var: 1.462 +- 0.130 bits\n",
      "test_I_pred: 2.221 +- 0.036 bits\n",
      "Model saved to these files:\n",
      "\tCDNRM_blackbox_ge_21.pickle\n",
      "\tCDNRM_blackbox_ge_21.h5\n",
      "-----------------------------\n",
      "Training 'CDNRM_additive_ge_22' model...\n",
      "\n",
      "N = 5,932 observations set as training data.\n",
      "Using 11.1% for validation.\n",
      "Data shuffled.\n",
      "Time to set data: 0.265 sec.\n"
     ]
    },
    {
     "data": {
      "application/vnd.jupyter.widget-view+json": {
       "model_id": "34cf3599e5f84eab92492dcb98910402",
       "version_major": 2,
       "version_minor": 0
      },
      "text/plain": [
       "0epoch [00:00, ?epoch/s]"
      ]
     },
     "metadata": {},
     "output_type": "display_data"
    },
    {
     "name": "stdout",
     "output_type": "stream",
     "text": [
      "Training time: 41.4 seconds\n",
      "test_I_var: 1.409 +- 0.073 bits\n",
      "test_I_pred: 1.533 +- 0.040 bits\n",
      "Model saved to these files:\n",
      "\tCDNRM_additive_ge_22.pickle\n",
      "\tCDNRM_additive_ge_22.h5\n",
      "-----------------------------\n",
      "Training 'CDNRM_neighbor_ge_22' model...\n",
      "\n",
      "N = 5,932 observations set as training data.\n",
      "Using 11.1% for validation.\n",
      "Data shuffled.\n",
      "Time to set data: 0.244 sec.\n"
     ]
    },
    {
     "data": {
      "application/vnd.jupyter.widget-view+json": {
       "model_id": "43905a860edc42299b9fd2dfd2c0b541",
       "version_major": 2,
       "version_minor": 0
      },
      "text/plain": [
       "0epoch [00:00, ?epoch/s]"
      ]
     },
     "metadata": {},
     "output_type": "display_data"
    },
    {
     "name": "stdout",
     "output_type": "stream",
     "text": [
      "Training time: 65.7 seconds\n",
      "test_I_var: 2.088 +- 0.063 bits\n",
      "test_I_pred: 2.213 +- 0.030 bits\n",
      "Model saved to these files:\n",
      "\tCDNRM_neighbor_ge_22.pickle\n",
      "\tCDNRM_neighbor_ge_22.h5\n",
      "-----------------------------\n",
      "Training 'CDNRM_pairwise_ge_22' model...\n",
      "\n",
      "N = 5,932 observations set as training data.\n",
      "Using 11.1% for validation.\n",
      "Data shuffled.\n",
      "Time to set data: 0.382 sec.\n"
     ]
    },
    {
     "data": {
      "application/vnd.jupyter.widget-view+json": {
       "model_id": "c7351bf8fd5241d8b8987c51739a9ad7",
       "version_major": 2,
       "version_minor": 0
      },
      "text/plain": [
       "0epoch [00:00, ?epoch/s]"
      ]
     },
     "metadata": {},
     "output_type": "display_data"
    },
    {
     "name": "stdout",
     "output_type": "stream",
     "text": [
      "Training time: 79.5 seconds\n",
      "test_I_var: 2.485 +- 0.068 bits\n",
      "test_I_pred: 2.624 +- 0.031 bits\n",
      "Model saved to these files:\n",
      "\tCDNRM_pairwise_ge_22.pickle\n",
      "\tCDNRM_pairwise_ge_22.h5\n",
      "-----------------------------\n",
      "Training 'CDNRM_blackbox_ge_22' model...\n",
      "\n",
      "N = 5,932 observations set as training data.\n",
      "Using 11.1% for validation.\n",
      "Data shuffled.\n",
      "Time to set data: 0.34 sec.\n"
     ]
    },
    {
     "data": {
      "application/vnd.jupyter.widget-view+json": {
       "model_id": "26a8c35b03f94f878640b0fd952c860b",
       "version_major": 2,
       "version_minor": 0
      },
      "text/plain": [
       "0epoch [00:00, ?epoch/s]"
      ]
     },
     "metadata": {},
     "output_type": "display_data"
    },
    {
     "name": "stdout",
     "output_type": "stream",
     "text": [
      "Training time: 25.8 seconds\n",
      "test_I_var: 1.773 +- 0.102 bits\n",
      "test_I_pred: 2.230 +- 0.037 bits\n",
      "Model saved to these files:\n",
      "\tCDNRM_blackbox_ge_22.pickle\n",
      "\tCDNRM_blackbox_ge_22.h5\n",
      "-----------------------------\n",
      "Training 'CDNRM_additive_ge_23' model...\n",
      "\n",
      "N = 5,932 observations set as training data.\n",
      "Using 11.1% for validation.\n",
      "Data shuffled.\n",
      "Time to set data: 0.406 sec.\n"
     ]
    },
    {
     "data": {
      "application/vnd.jupyter.widget-view+json": {
       "model_id": "88c1b639b50244d39ddd28ad3cf290c2",
       "version_major": 2,
       "version_minor": 0
      },
      "text/plain": [
       "0epoch [00:00, ?epoch/s]"
      ]
     },
     "metadata": {},
     "output_type": "display_data"
    },
    {
     "name": "stdout",
     "output_type": "stream",
     "text": [
      "Training time: 54.4 seconds\n",
      "test_I_var: 1.395 +- 0.071 bits\n",
      "test_I_pred: 1.533 +- 0.043 bits\n",
      "Model saved to these files:\n",
      "\tCDNRM_additive_ge_23.pickle\n",
      "\tCDNRM_additive_ge_23.h5\n",
      "-----------------------------\n",
      "Training 'CDNRM_neighbor_ge_23' model...\n",
      "\n",
      "N = 5,932 observations set as training data.\n",
      "Using 11.1% for validation.\n",
      "Data shuffled.\n",
      "Time to set data: 0.266 sec.\n"
     ]
    },
    {
     "data": {
      "application/vnd.jupyter.widget-view+json": {
       "model_id": "29c3715d8fcd4852bf7aa4519a937650",
       "version_major": 2,
       "version_minor": 0
      },
      "text/plain": [
       "0epoch [00:00, ?epoch/s]"
      ]
     },
     "metadata": {},
     "output_type": "display_data"
    },
    {
     "name": "stdout",
     "output_type": "stream",
     "text": [
      "Training time: 53.7 seconds\n",
      "test_I_var: 2.067 +- 0.062 bits\n",
      "test_I_pred: 2.173 +- 0.039 bits\n",
      "Model saved to these files:\n",
      "\tCDNRM_neighbor_ge_23.pickle\n",
      "\tCDNRM_neighbor_ge_23.h5\n",
      "-----------------------------\n",
      "Training 'CDNRM_pairwise_ge_23' model...\n",
      "\n",
      "N = 5,932 observations set as training data.\n",
      "Using 11.1% for validation.\n",
      "Data shuffled.\n",
      "Time to set data: 0.253 sec.\n"
     ]
    },
    {
     "data": {
      "application/vnd.jupyter.widget-view+json": {
       "model_id": "10b34ba270c345a8828e08c9d4c1c98d",
       "version_major": 2,
       "version_minor": 0
      },
      "text/plain": [
       "0epoch [00:00, ?epoch/s]"
      ]
     },
     "metadata": {},
     "output_type": "display_data"
    },
    {
     "name": "stdout",
     "output_type": "stream",
     "text": [
      "Training time: 67.9 seconds\n",
      "test_I_var: 2.522 +- 0.064 bits\n",
      "test_I_pred: 2.634 +- 0.044 bits\n",
      "Model saved to these files:\n",
      "\tCDNRM_pairwise_ge_23.pickle\n",
      "\tCDNRM_pairwise_ge_23.h5\n",
      "-----------------------------\n",
      "Training 'CDNRM_blackbox_ge_23' model...\n",
      "\n",
      "N = 5,932 observations set as training data.\n",
      "Using 11.1% for validation.\n",
      "Data shuffled.\n",
      "Time to set data: 0.32 sec.\n"
     ]
    },
    {
     "data": {
      "application/vnd.jupyter.widget-view+json": {
       "model_id": "334807e04d3b49ecb7e4eacd398d7b53",
       "version_major": 2,
       "version_minor": 0
      },
      "text/plain": [
       "0epoch [00:00, ?epoch/s]"
      ]
     },
     "metadata": {},
     "output_type": "display_data"
    }
   ],
   "source": [
    "Data_file = open(\"Ryan_trainval.pkl\", \"rb\")\n",
    "trainval_df = pickle.load(Data_file)\n",
    "Data_file.close()\n",
    "\n",
    "Data_file = open(\"Ryan_test.pkl\", \"rb\")\n",
    "test_df = pickle.load(Data_file)\n",
    "Data_file.close()\n",
    "\n",
    "# train on all results\n",
    "site_letters = ['C', 'R', 'X', 'D', 'E', 'N', 'L', 'O', 'B', 'A', 'Z']\n",
    "# Set default keyword arguments for model.Model()\n",
    "default_model_kwargs = {\n",
    "    'L':5,\n",
    "    'alphabet':site_letters,\n",
    "    'regression_type':'GE',\n",
    "    'ge_noise_model_type':'SkewedT',\n",
    "    'ge_heteroskedasticity_order':2\n",
    "}\n",
    "\n",
    "# Set default keyword arguments for model.fit()\n",
    "default_fit_kwargs = {\n",
    "    'learning_rate':.001,\n",
    "    'epochs':500,\n",
    "    'batch_size':200,\n",
    "    'early_stopping':True,\n",
    "    'early_stopping_patience':30,\n",
    "    'linear_initialization':False,\n",
    "    'verbose':False\n",
    "}\n",
    "\n",
    "# Iterate over types of G-P maps\n",
    "gpmap_types = ['additive','neighbor','pairwise','blackbox']\n",
    "print(f'Training {len(gpmap_types)} models: {gpmap_types}')\n",
    "\n",
    "for i in range(50):\n",
    "    random.seed(i)\n",
    "    np.random.seed(i) \n",
    "    tf.random.set_seed(i)\n",
    "    for gpmap_type in gpmap_types:\n",
    "\n",
    "        # Set model name\n",
    "        model_name = f'CDNRM_{gpmap_type}_ge_{i}'\n",
    "        print('-----------------------------')\n",
    "        print(f\"Training '{model_name}' model...\\n\")\n",
    "\n",
    "        # Copy keyword arguments\n",
    "        model_kwargs = default_model_kwargs.copy()\n",
    "        fit_kwargs = default_fit_kwargs.copy()\n",
    "\n",
    "        # Modify keyword arguments based on G-P map being trained\n",
    "        # Note: the need for different hyperparameters, such as batch_size\n",
    "        # and learning_rate, was found by trial and error.\n",
    "        if gpmap_type=='additive': pass;\n",
    "        elif gpmap_type=='neighbor': pass;\n",
    "        elif gpmap_type=='pairwise':\n",
    "            fit_kwargs['batch_size'] = 50\n",
    "        elif gpmap_type=='blackbox':\n",
    "            model_kwargs['gpmap_kwargs'] = {'hidden_layer_sizes':[10]*5,\n",
    "                                        'features':'pairwise'}\n",
    "            fit_kwargs['learning_rate'] = 0.0005\n",
    "            fit_kwargs['batch_size'] = 50\n",
    "            fit_kwargs['early_stopping_patience'] = 10\n",
    "\n",
    "        # Instantiate model using the keyword arguments in model_kwargs dict\n",
    "        model = mavenn.Model(gpmap_type=gpmap_type, **model_kwargs)\n",
    "\n",
    "        # Set training data\n",
    "        model.set_data(x=trainval_df['Sequence'],\n",
    "                       y=trainval_df['Expression'],\n",
    "                       validation_flags=trainval_df['validation'])\n",
    "    \n",
    "        # Train model using the keyword arguments in fig_kwargs dict\n",
    "        model.fit(**fit_kwargs)\n",
    "\n",
    "        # Compute variational information on test data\n",
    "        I_var, dI_var =  model.I_variational(x=test_df['Sequence'], y=test_df['Expression'])\n",
    "        print(f'test_I_var: {I_var:.3f} +- {dI_var:.3f} bits')\n",
    "\n",
    "        # Compute predictive information on test data\n",
    "        I_pred, dI_pred = model.I_predictive(x=test_df['Sequence'], y=test_df['Expression'])\n",
    "        print(f'test_I_pred: {I_pred:.3f} +- {dI_pred:.3f} bits')\n",
    "\n",
    "        # Save model to file\n",
    "        model.save(model_name)\n",
    "\n",
    "print('Done!')"
   ]
  }
 ],
 "metadata": {
  "kernelspec": {
   "display_name": "Python 3 (ipykernel)",
   "language": "python",
   "name": "python3"
  },
  "language_info": {
   "codemirror_mode": {
    "name": "ipython",
    "version": 3
   },
   "file_extension": ".py",
   "mimetype": "text/x-python",
   "name": "python",
   "nbconvert_exporter": "python",
   "pygments_lexer": "ipython3",
   "version": "3.8.16"
  }
 },
 "nbformat": 4,
 "nbformat_minor": 5
}
